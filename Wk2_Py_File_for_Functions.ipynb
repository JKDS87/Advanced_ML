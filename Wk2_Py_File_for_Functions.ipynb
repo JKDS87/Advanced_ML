{
 "cells": [
  {
   "cell_type": "markdown",
   "id": "1a2d1f7e-d67b-4068-86f5-0f444c5a6bc3",
   "metadata": {},
   "source": [
    "# Making a Python file for Custom Functions"
   ]
  },
  {
   "cell_type": "markdown",
   "id": "e29a0f45-973e-438e-87b5-5586968f5117",
   "metadata": {},
   "source": [
    "​If we want to continue to edit a .py file that has already been imported, we can add the following 2 lines to Jupyter Notebook. However, these % commands cannot be in your py file. They are Jupyter-specific commands."
   ]
  },
  {
   "cell_type": "code",
   "execution_count": 2,
   "id": "ff622ca8-e30a-4d2e-93bf-95cf19a86201",
   "metadata": {},
   "outputs": [],
   "source": [
    "## Load the autoreload extension\n",
    "%load_ext autoreload \n",
    "%autoreload 2\n",
    "\n",
    "import custom_functions as fn"
   ]
  },
  {
   "cell_type": "code",
   "execution_count": 3,
   "id": "e6bb1c7a-dd84-41bb-af65-33eddc97ff04",
   "metadata": {},
   "outputs": [
    {
     "name": "stdout",
     "output_type": "stream",
     "text": [
      "Hello, Brenda!\n"
     ]
    }
   ],
   "source": [
    "# Call custom function from imported file\n",
    "fn.demo_function('Brenda')"
   ]
  },
  {
   "cell_type": "markdown",
   "id": "4aa2b133-a7c8-4f4c-b847-a5d6e5ad8924",
   "metadata": {},
   "source": [
    "### Importing a .py file from another folder"
   ]
  },
  {
   "cell_type": "markdown",
   "id": "8a3a7ac7-5b32-4854-9b1c-a5c5a3a2142f",
   "metadata": {},
   "source": [
    "To import your custom_functions, you must add the folder that contains the .py to your Python path.\n",
    "\n",
    "The way to do so is to use sys.path.append() and pass in the absolute file path of the folder that contains the .py file.  Below, we show how to access the .py file for two scenarios:\n",
    "- If your .py file is in the folder above your notebook\n",
    "    - Your custom_functions.py is in the main folder of your repo, but you're working in a notebook inside a \"EDA/\" folder\n",
    "    - We can get the absolute path of the directory above using os.path.abspath(\"../\")\r\n"
   ]
  },
  {
   "cell_type": "code",
   "execution_count": 4,
   "id": "94ff2ea7-c860-4ff0-aaa0-49dfbb3d538b",
   "metadata": {},
   "outputs": [],
   "source": [
    "# Adding folder above to python path \n",
    "import sys, os\n",
    "sys.path.append( os.path.abspath(\"../\"))"
   ]
  },
  {
   "cell_type": "markdown",
   "id": "22e7e8f5-567d-4abe-8e63-62b1a36feded",
   "metadata": {},
   "source": [
    "- If your .py file is in another subfolder.\n",
    "    - Your custom_function.py is in a subfolder called \"Code/\" but your notebook is in a subfolder called  \"EDA/\"\n",
    "    - You perform the same command, but update the filepath used."
   ]
  },
  {
   "cell_type": "code",
   "execution_count": 5,
   "id": "97563d8d-ffcb-4932-8447-b88efdfdd7a2",
   "metadata": {},
   "outputs": [],
   "source": [
    "# Adding different sub folder\n",
    "import sys, os\n",
    "sys.path.append( os.path.abspath(\"../Code/\"))"
   ]
  },
  {
   "cell_type": "markdown",
   "id": "45f05873-221f-423b-93a2-61ba383dfd12",
   "metadata": {},
   "source": [
    "### Note on Module Imports"
   ]
  },
  {
   "cell_type": "markdown",
   "id": "98417fee-593a-4529-94ae-1d5b0e32943f",
   "metadata": {},
   "source": [
    "An important consideration of moving your functions to a .py file is to ensure that you’ve included the imports for every module that is used by your functions.\n",
    "\n",
    "For example, if you use pd.DataFrame in a function in .py file, you must also import pandas as pd in your py file. Remember this as you continue to add functions to your .py file in future lessons."
   ]
  },
  {
   "cell_type": "markdown",
   "id": "0db2d418-2252-43eb-a256-5956681e406c",
   "metadata": {},
   "source": [
    "### Autoreload"
   ]
  },
  {
   "cell_type": "markdown",
   "id": "d8950dd7-0795-404d-8ee0-48aabf1d3bca",
   "metadata": {},
   "source": [
    "To ensure any updates in your .py file are automatically reflected in your notebook, add the following code to your import:\r\n"
   ]
  },
  {
   "cell_type": "code",
   "execution_count": 6,
   "id": "c590c244-94d4-4a25-abd5-ff435f679590",
   "metadata": {},
   "outputs": [
    {
     "name": "stdout",
     "output_type": "stream",
     "text": [
      "The autoreload extension is already loaded. To reload it, use:\n",
      "  %reload_ext autoreload\n"
     ]
    }
   ],
   "source": [
    "%load_ext autoreload\n",
    "%autoreload 2\n",
    "import custom_functions as fn"
   ]
  },
  {
   "cell_type": "markdown",
   "id": "cbeb942b-ac14-47c1-b8a5-32225589e253",
   "metadata": {},
   "source": [
    "### Summary"
   ]
  },
  {
   "cell_type": "markdown",
   "id": "f85fcd05-a61a-43a7-8e84-8aa1f7bcbde0",
   "metadata": {},
   "source": [
    "In this lesson, you learned how to create a separate file for custom functions. This can make your notebooks cleaner and can be more efficient when multiple notebooks require the same functions.  Remember that, as with any import, we still must import the .py file into each notebook. Add new custom functions to the .py file as you define them.​\r\n"
   ]
  }
 ],
 "metadata": {
  "kernelspec": {
   "display_name": "Python 3 (ipykernel)",
   "language": "python",
   "name": "python3"
  },
  "language_info": {
   "codemirror_mode": {
    "name": "ipython",
    "version": 3
   },
   "file_extension": ".py",
   "mimetype": "text/x-python",
   "name": "python",
   "nbconvert_exporter": "python",
   "pygments_lexer": "ipython3",
   "version": "3.10.10"
  },
  "widgets": {
   "application/vnd.jupyter.widget-state+json": {
    "state": {},
    "version_major": 2,
    "version_minor": 0
   }
  }
 },
 "nbformat": 4,
 "nbformat_minor": 5
}
