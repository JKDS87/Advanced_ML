{
 "cells": [
  {
   "cell_type": "markdown",
   "id": "50b2ee19-c2b5-47c0-b7c8-d9309596c086",
   "metadata": {},
   "source": [
    "# Bag of Words Model"
   ]
  },
  {
   "cell_type": "markdown",
   "id": "40a6bad3-13de-4ac5-b1c9-ff7469e0fb0e",
   "metadata": {},
   "source": [
    "**Objective**\n",
    "\n",
    "- Define 'bag of words'\n",
    "- Build, fit, and evaluate a bag of words neural network\n",
    "\n",
    "A bag of words model **uses a count vectorizer** and the frequency of terms in the document as the input into the model. The order of the words is not preserved."
   ]
  },
  {
   "cell_type": "markdown",
   "id": "05f74761-2ccd-4dfa-bb7e-a52cecc9abc8",
   "metadata": {},
   "source": [
    "### Imports, functions"
   ]
  },
  {
   "cell_type": "code",
   "execution_count": 1,
   "id": "37984ac5-3a95-495f-be6f-90ef3231523d",
   "metadata": {},
   "outputs": [],
   "source": [
    "import tensorflow as tf\n",
    "import numpy as np\n",
    "# Then Set Random Seeds\n",
    "tf.keras.utils.set_random_seed(42)\n",
    "tf.random.set_seed(42)\n",
    "np.random.seed(42)\n",
    "# Then run the Enable Deterministic Operations Function\n",
    "tf.config.experimental.enable_op_determinism()"
   ]
  },
  {
   "cell_type": "code",
   "execution_count": 2,
   "id": "319fadcb-c6d5-4a39-a4e6-ae229f080407",
   "metadata": {},
   "outputs": [],
   "source": [
    "import pandas as pd\n",
    "from tensorflow.keras.layers import TextVectorization\n",
    "from tensorflow.keras import layers\n",
    "from tensorflow.keras import optimizers\n",
    "from imblearn.under_sampling import RandomUnderSampler\n",
    "from sklearn import set_config\n",
    "set_config(transform_output='pandas')\n",
    "pd.set_option('display.max_colwidth', 250)"
   ]
  },
  {
   "cell_type": "code",
   "execution_count": 6,
   "id": "cd7a2247-638b-4822-9534-85cd928c0a2b",
   "metadata": {},
   "outputs": [
    {
     "name": "stdout",
     "output_type": "stream",
     "text": [
      "The autoreload extension is already loaded. To reload it, use:\n",
      "  %reload_ext autoreload\n"
     ]
    }
   ],
   "source": [
    "## Load the autoreload extension\n",
    "%load_ext autoreload \n",
    "%autoreload 2\n",
    "\n",
    "import custom_functions as fn"
   ]
  },
  {
   "cell_type": "markdown",
   "id": "b8043bac-4da0-4c3b-b94f-1f278b6f39ee",
   "metadata": {},
   "source": [
    "Filter the data. We will work with the prior Yelp data, limited to 2018,  English, and 1, 3, and 5-star reviews."
   ]
  },
  {
   "cell_type": "markdown",
   "id": "2cd70061-a455-4a7d-9ddc-4da71c16953f",
   "metadata": {},
   "source": [
    "### Preparing the Data"
   ]
  },
  {
   "cell_type": "markdown",
   "id": "134a2c51-85ef-4d22-ad79-086f4e0ec06c",
   "metadata": {},
   "source": [
    "**Filtering**"
   ]
  },
  {
   "cell_type": "code",
   "execution_count": 8,
   "id": "2fe4cb43-9443-4a66-b6e1-9726d14e7c77",
   "metadata": {},
   "outputs": [
    {
     "name": "stdout",
     "output_type": "stream",
     "text": [
      "<class 'pandas.core.frame.DataFrame'>\n",
      "Index: 17317 entries, Ebl0LmHkLsQk9hP0rBm3GA to Fbzo2Z8CfH8naCbEPPhREw\n",
      "Data columns (total 4 columns):\n",
      " #   Column       Non-Null Count  Dtype \n",
      "---  ------       --------------  ----- \n",
      " 0   business_id  17317 non-null  object\n",
      " 1   text         17317 non-null  object\n",
      " 2   stars        17317 non-null  int64 \n",
      " 3   language     17317 non-null  object\n",
      "dtypes: int64(1), object(3)\n",
      "memory usage: 676.4+ KB\n"
     ]
    },
    {
     "data": {
      "text/html": [
       "<div>\n",
       "<style scoped>\n",
       "    .dataframe tbody tr th:only-of-type {\n",
       "        vertical-align: middle;\n",
       "    }\n",
       "\n",
       "    .dataframe tbody tr th {\n",
       "        vertical-align: top;\n",
       "    }\n",
       "\n",
       "    .dataframe thead th {\n",
       "        text-align: right;\n",
       "    }\n",
       "</style>\n",
       "<table border=\"1\" class=\"dataframe\">\n",
       "  <thead>\n",
       "    <tr style=\"text-align: right;\">\n",
       "      <th></th>\n",
       "      <th>business_id</th>\n",
       "      <th>text</th>\n",
       "      <th>stars</th>\n",
       "      <th>language</th>\n",
       "    </tr>\n",
       "    <tr>\n",
       "      <th>review_id</th>\n",
       "      <th></th>\n",
       "      <th></th>\n",
       "      <th></th>\n",
       "      <th></th>\n",
       "    </tr>\n",
       "  </thead>\n",
       "  <tbody>\n",
       "    <tr>\n",
       "      <th>Ebl0LmHkLsQk9hP0rBm3GA</th>\n",
       "      <td>KSYONgGtrK0nKXfroB-bwg</td>\n",
       "      <td>Ate here twice and had both atmosphere and great tapas. The Jamon plate, bravas, Spanish omelette, stuffed date, pork, Brussels sprouts, wine and amazing pear dessert...I could go on and on. If visiting, Please make a reservation as soon as you a...</td>\n",
       "      <td>5</td>\n",
       "      <td>en</td>\n",
       "    </tr>\n",
       "    <tr>\n",
       "      <th>DBa7PNBoBGJMc2qXXl4pRA</th>\n",
       "      <td>54oLdsGU9B8HxFTqCCqV-A</td>\n",
       "      <td>My boyfriend and I got recommended this place by a SB local! We were just amazed! Everything from the look and feel of the place to the appetizer to the main dish, the dessert and the service was just perfect! Our food was just amazing!!!</td>\n",
       "      <td>5</td>\n",
       "      <td>en</td>\n",
       "    </tr>\n",
       "  </tbody>\n",
       "</table>\n",
       "</div>"
      ],
      "text/plain": [
       "                                   business_id  \\\n",
       "review_id                                        \n",
       "Ebl0LmHkLsQk9hP0rBm3GA  KSYONgGtrK0nKXfroB-bwg   \n",
       "DBa7PNBoBGJMc2qXXl4pRA  54oLdsGU9B8HxFTqCCqV-A   \n",
       "\n",
       "                                                                                                                                                                                                                                                                             text  \\\n",
       "review_id                                                                                                                                                                                                                                                                           \n",
       "Ebl0LmHkLsQk9hP0rBm3GA  Ate here twice and had both atmosphere and great tapas. The Jamon plate, bravas, Spanish omelette, stuffed date, pork, Brussels sprouts, wine and amazing pear dessert...I could go on and on. If visiting, Please make a reservation as soon as you a...   \n",
       "DBa7PNBoBGJMc2qXXl4pRA             My boyfriend and I got recommended this place by a SB local! We were just amazed! Everything from the look and feel of the place to the appetizer to the main dish, the dessert and the service was just perfect! Our food was just amazing!!!   \n",
       "\n",
       "                        stars language  \n",
       "review_id                               \n",
       "Ebl0LmHkLsQk9hP0rBm3GA      5       en  \n",
       "DBa7PNBoBGJMc2qXXl4pRA      5       en  "
      ]
     },
     "execution_count": 8,
     "metadata": {},
     "output_type": "execute_result"
    }
   ],
   "source": [
    "# Load Data from your path\n",
    "df = pd.read_csv(\"Data/yelp-restaurant-reviews-CA-2015-2018.csv.gz\", index_col = 'date', parse_dates=['date'])\n",
    "## Remove any non-english reivews\n",
    "df = df.loc[ df['language']=='en'].copy()\n",
    "# Keep only 1,3,5 star reviews\n",
    "df = df.loc[ df['stars'].isin([1,3,5])]\n",
    "# Take a smaller subset\n",
    "df = df.loc['2018']\n",
    "# Set the index\n",
    "df = df.set_index('review_id')\n",
    "df.info()\n",
    "df.head(2)"
   ]
  },
  {
   "cell_type": "markdown",
   "id": "be360da0-8ec0-4e9d-9db8-f13dfe3b4366",
   "metadata": {},
   "source": [
    "Further filter the dataset by eliminating long reviews. First check the length of each review. Do this with a lambda function that splits on spaces and obtains the length. Add the data as a column in the dataframe."
   ]
  },
  {
   "cell_type": "code",
   "execution_count": 10,
   "id": "5ec089f1-279f-4aee-8158-bb35fe694dfc",
   "metadata": {},
   "outputs": [
    {
     "data": {
      "text/html": [
       "<div>\n",
       "<style scoped>\n",
       "    .dataframe tbody tr th:only-of-type {\n",
       "        vertical-align: middle;\n",
       "    }\n",
       "\n",
       "    .dataframe tbody tr th {\n",
       "        vertical-align: top;\n",
       "    }\n",
       "\n",
       "    .dataframe thead th {\n",
       "        text-align: right;\n",
       "    }\n",
       "</style>\n",
       "<table border=\"1\" class=\"dataframe\">\n",
       "  <thead>\n",
       "    <tr style=\"text-align: right;\">\n",
       "      <th></th>\n",
       "      <th>business_id</th>\n",
       "      <th>text</th>\n",
       "      <th>stars</th>\n",
       "      <th>language</th>\n",
       "      <th>sequence_length</th>\n",
       "    </tr>\n",
       "    <tr>\n",
       "      <th>review_id</th>\n",
       "      <th></th>\n",
       "      <th></th>\n",
       "      <th></th>\n",
       "      <th></th>\n",
       "      <th></th>\n",
       "    </tr>\n",
       "  </thead>\n",
       "  <tbody>\n",
       "    <tr>\n",
       "      <th>Ebl0LmHkLsQk9hP0rBm3GA</th>\n",
       "      <td>KSYONgGtrK0nKXfroB-bwg</td>\n",
       "      <td>Ate here twice and had both atmosphere and great tapas. The Jamon plate, bravas, Spanish omelette, stuffed date, pork, Brussels sprouts, wine and amazing pear dessert...I could go on and on. If visiting, Please make a reservation as soon as you a...</td>\n",
       "      <td>5</td>\n",
       "      <td>en</td>\n",
       "      <td>67</td>\n",
       "    </tr>\n",
       "    <tr>\n",
       "      <th>DBa7PNBoBGJMc2qXXl4pRA</th>\n",
       "      <td>54oLdsGU9B8HxFTqCCqV-A</td>\n",
       "      <td>My boyfriend and I got recommended this place by a SB local! We were just amazed! Everything from the look and feel of the place to the appetizer to the main dish, the dessert and the service was just perfect! Our food was just amazing!!!</td>\n",
       "      <td>5</td>\n",
       "      <td>en</td>\n",
       "      <td>45</td>\n",
       "    </tr>\n",
       "  </tbody>\n",
       "</table>\n",
       "</div>"
      ],
      "text/plain": [
       "                                   business_id  \\\n",
       "review_id                                        \n",
       "Ebl0LmHkLsQk9hP0rBm3GA  KSYONgGtrK0nKXfroB-bwg   \n",
       "DBa7PNBoBGJMc2qXXl4pRA  54oLdsGU9B8HxFTqCCqV-A   \n",
       "\n",
       "                                                                                                                                                                                                                                                                             text  \\\n",
       "review_id                                                                                                                                                                                                                                                                           \n",
       "Ebl0LmHkLsQk9hP0rBm3GA  Ate here twice and had both atmosphere and great tapas. The Jamon plate, bravas, Spanish omelette, stuffed date, pork, Brussels sprouts, wine and amazing pear dessert...I could go on and on. If visiting, Please make a reservation as soon as you a...   \n",
       "DBa7PNBoBGJMc2qXXl4pRA             My boyfriend and I got recommended this place by a SB local! We were just amazed! Everything from the look and feel of the place to the appetizer to the main dish, the dessert and the service was just perfect! Our food was just amazing!!!   \n",
       "\n",
       "                        stars language  sequence_length  \n",
       "review_id                                                \n",
       "Ebl0LmHkLsQk9hP0rBm3GA      5       en               67  \n",
       "DBa7PNBoBGJMc2qXXl4pRA      5       en               45  "
      ]
     },
     "execution_count": 10,
     "metadata": {},
     "output_type": "execute_result"
    }
   ],
   "source": [
    "# Let's take a look at the length of the each text\n",
    "# We will split on each space, and then get the length\n",
    "df['sequence_length'] =df['text'].map( lambda x: len(x.split(\" \")))\n",
    "df.head(2)"
   ]
  },
  {
   "cell_type": "code",
   "execution_count": 11,
   "id": "3a62c484-f2e6-48bb-b7f5-2340aa967f94",
   "metadata": {},
   "outputs": [
    {
     "data": {
      "text/plain": [
       "count    17317.000000\n",
       "mean        81.066178\n",
       "std         76.381545\n",
       "min          6.000000\n",
       "25%         33.000000\n",
       "50%         58.000000\n",
       "75%        101.000000\n",
       "max       1006.000000\n",
       "Name: sequence_length, dtype: float64"
      ]
     },
     "execution_count": 11,
     "metadata": {},
     "output_type": "execute_result"
    }
   ],
   "source": [
    "# Examine general statistics\n",
    "df['sequence_length'].describe()"
   ]
  },
  {
   "cell_type": "markdown",
   "id": "083777d9-9a6c-4b23-a09d-b465849a9692",
   "metadata": {},
   "source": [
    "The shortest review is 6 words, while the longest review is 1006. The average review is 81 words. Let's visualize with a histogram."
   ]
  },
  {
   "cell_type": "code",
   "execution_count": 12,
   "id": "8c194ce4-e95b-4b07-b8da-f19df75c21d8",
   "metadata": {},
   "outputs": [
    {
     "data": {
      "image/png": "[encoded data removed]",
      "text/plain": [
       "<Figure size 640x480 with 1 Axes>"
      ]
     },
     "metadata": {},
     "output_type": "display_data"
    }
   ],
   "source": [
    "# Make histogram of sequence lengths\n",
    "ax = df['sequence_length'].hist(bins = 'auto')\n",
    "ax.set_xlabel('Word Count')\n",
    "ax.set_ylabel('Number of Reviews')\n",
    "ax.set_title('Distribution of Sequence Lengths');"
   ]
  },
  {
   "cell_type": "markdown",
   "id": "9db525be-5c9d-449f-98fb-ff5ffb24851d",
   "metadata": {},
   "source": [
    "We can see that most reviews are less than 400 words, but there are clearly some lengthier ones! We will create a filter for texts less than 400 words."
   ]
  },
  {
   "cell_type": "code",
   "execution_count": 13,
   "id": "87a181d3-20cb-43a3-8ae6-97e63620c9d7",
   "metadata": {},
   "outputs": [
    {
     "name": "stdout",
     "output_type": "stream",
     "text": [
      "Number of reviews >400 words is: 149\n"
     ]
    }
   ],
   "source": [
    "# Define a filter to identify reviews less than 400 words\n",
    "filter_short = df['sequence_length']< 400\n",
    "print(f'Number of reviews >400 words is: {len(df) - filter_short.sum()}')"
   ]
  },
  {
   "cell_type": "code",
   "execution_count": 16,
   "id": "5f9ebad3-22a1-419d-94f3-c1d2df5855ba",
   "metadata": {},
   "outputs": [
    {
     "name": "stdout",
     "output_type": "stream",
     "text": [
      "<class 'pandas.core.frame.DataFrame'>\n",
      "Index: 17168 entries, Ebl0LmHkLsQk9hP0rBm3GA to Fbzo2Z8CfH8naCbEPPhREw\n",
      "Data columns (total 5 columns):\n",
      " #   Column           Non-Null Count  Dtype \n",
      "---  ------           --------------  ----- \n",
      " 0   business_id      17168 non-null  object\n",
      " 1   text             17168 non-null  object\n",
      " 2   stars            17168 non-null  int64 \n",
      " 3   language         17168 non-null  object\n",
      " 4   sequence_length  17168 non-null  int64 \n",
      "dtypes: int64(2), object(3)\n",
      "memory usage: 804.8+ KB\n"
     ]
    }
   ],
   "source": [
    "# Keep short reviews (<400 words)\n",
    "df = df.loc[filter_short]\n",
    "df.info()"
   ]
  },
  {
   "cell_type": "markdown",
   "id": "ce5ce0ad-1549-4d01-a45e-af39d5d5a73f",
   "metadata": {},
   "source": [
    "**Class Balance**"
   ]
  },
  {
   "cell_type": "code",
   "execution_count": 17,
   "id": "ca1bf7c8-036a-4cc7-a549-245993f9681a",
   "metadata": {},
   "outputs": [
    {
     "data": {
      "text/plain": [
       "5    12963\n",
       "1     2357\n",
       "3     1848\n",
       "Name: stars, dtype: int64"
      ]
     },
     "execution_count": 17,
     "metadata": {},
     "output_type": "execute_result"
    }
   ],
   "source": [
    "# Check class balance\n",
    "df['stars'].value_counts()"
   ]
  },
  {
   "cell_type": "markdown",
   "id": "4ff61e71-b4fc-412d-ad37-c1bfaa850952",
   "metadata": {},
   "source": [
    "The classes are dramatically imbalanced. We will address this with the RandumUnderSampler()."
   ]
  },
  {
   "cell_type": "code",
   "execution_count": 18,
   "id": "149ab464-1aa8-49d9-9222-e74f70f02819",
   "metadata": {},
   "outputs": [
    {
     "data": {
      "text/plain": [
       "1    1848\n",
       "3    1848\n",
       "5    1848\n",
       "Name: stars, dtype: int64"
      ]
     },
     "execution_count": 18,
     "metadata": {},
     "output_type": "execute_result"
    }
   ],
   "source": [
    "# Use RUS to reduce n to match minority group\n",
    "sampler = RandomUnderSampler(random_state=42)\n",
    "df_ml,  _ = sampler.fit_resample(df, df['stars'])\n",
    "df_ml['stars'].value_counts()"
   ]
  },
  {
   "cell_type": "markdown",
   "id": "6c15093f-449e-459b-a0e1-f21a20f683ed",
   "metadata": {
    "jp-MarkdownHeadingCollapsed": true
   },
   "source": [
    "### Train Test Split"
   ]
  },
  {
   "cell_type": "code",
   "execution_count": 19,
   "id": "328f3e7e-e711-4ce1-ac57-7ee6d96dc306",
   "metadata": {},
   "outputs": [
    {
     "data": {
      "text/plain": [
       "0    1848\n",
       "1    1848\n",
       "2    1848\n",
       "Name: stars, dtype: int64"
      ]
     },
     "execution_count": 19,
     "metadata": {},
     "output_type": "execute_result"
    }
   ],
   "source": [
    "# Define X\n",
    "X = df_ml['text'].values\n",
    "# Create a map for targets\n",
    "target_map = {1:0,\n",
    "              3:1,\n",
    "              5:2}\n",
    "# DEfine y and apply the target_map\n",
    "y = df_ml['stars'].map(target_map)\n",
    "y.value_counts()"
   ]
  },
  {
   "cell_type": "markdown",
   "id": "b322daf6-a3d5-4919-82c5-a8d1bb9adae9",
   "metadata": {},
   "source": [
    "We will also define a classes variable for future use in our model."
   ]
  },
  {
   "cell_type": "code",
   "execution_count": 20,
   "id": "23ad534d-a715-4f79-83b2-41cceb8f8b61",
   "metadata": {},
   "outputs": [
    {
     "data": {
      "text/plain": [
       "array([0, 1, 2], dtype=int64)"
      ]
     },
     "execution_count": 20,
     "metadata": {},
     "output_type": "execute_result"
    }
   ],
   "source": [
    "# Define classes variable\n",
    "classes = y.unique()\n",
    "classes"
   ]
  },
  {
   "cell_type": "markdown",
   "id": "54926ecc-33b6-44b4-9dcd-98ea91dcff72",
   "metadata": {},
   "source": [
    "Convert to a Dataset object and Perform the Train, Test, Validation Split"
   ]
  },
  {
   "cell_type": "code",
   "execution_count": 21,
   "id": "399c2f2b-5df2-425e-ac89-08c17280bc2e",
   "metadata": {},
   "outputs": [],
   "source": [
    "# Convert to Dataset Object\n",
    "ds = tf.data.Dataset.from_tensor_slices((X, y))\n",
    "# Shuffle dataset\n",
    "ds = ds.shuffle(buffer_size=len(ds),reshuffle_each_iteration=False)"
   ]
  },
  {
   "cell_type": "markdown",
   "id": "9f1b99a1-db41-464f-b1c2-f268c9406dff",
   "metadata": {},
   "source": [
    "Now, we will define the ratios for our train, validation, and test split. We will calculate how many samples for each."
   ]
  },
  {
   "cell_type": "code",
   "execution_count": 22,
   "id": "70fd9873-1434-4f35-af79-413ae2a0a90e",
   "metadata": {},
   "outputs": [],
   "source": [
    "# Set the ratio of the train, validation, test split\n",
    "split_train = .7\n",
    "split_val =  .2\n",
    "split_test =  1 -( split_train + split_val )\n",
    "# Calculate the number of samples for training and validation data \n",
    "n_train_samples =  int(len(ds) * split_train)\n",
    "n_val_samples = int(len(ds) * split_val)\n",
    "n_test_samples = len(ds) -(n_train_samples + n_val_samples)"
   ]
  },
  {
   "cell_type": "code",
   "execution_count": 25,
   "id": "3c9fb024-ba55-46f0-8c82-006722ac9bc3",
   "metadata": {},
   "outputs": [
    {
     "name": "stdout",
     "output_type": "stream",
     "text": [
      "    - train:\t3880 samples \t(122 batches)\n",
      "    - val:  \t1108 samples \t(35 batches)\n",
      "    - test: \t556 samples \t(18 batches)\n"
     ]
    }
   ],
   "source": [
    "# For our reference, we will print how many samples and how many batches for each set.\n",
    "import math\r\n",
    "BATCH_SIZE =32\r\n",
    "import math\r\n",
    "# math.ceil will round up\r\n",
    "# How many batches? \r\n",
    "n_train_batches = math.ceil(n_train_samples/BATCH_SIZE)\r\n",
    "n_val_batches = math.ceil(n_val_samples/BATCH_SIZE)\r\n",
    "n_test_batches = math.ceil(n_test_samples/BATCH_SIZE)\r\n",
    "print(f\"    - train:\\t{n_train_samples} samples \\t({n_train_batches} batches)\")\r\n",
    "print(f\"    - val:  \\t{n_val_samples} samples \\t({n_val_batches} batches)\")\r\n",
    "print(f\"    - test: \\t{n_test_samples} samples \\t({n_test_batches} batches)\")"
   ]
  },
  {
   "cell_type": "code",
   "execution_count": 26,
   "id": "2eded42f-2eec-4fbf-a88a-9c217f13d776",
   "metadata": {},
   "outputs": [],
   "source": [
    "# Use take and skip to define each set\n",
    "train_ds = ds.take(n_train_samples).batch(batch_size=BATCH_SIZE)\n",
    "# Skip over the training batches and take the validation batches\n",
    "val_ds = ds.skip(n_train_samples).take(n_val_samples).batch(batch_size=BATCH_SIZE)\n",
    "# Skipver the train and validation batches, the remaining are the test batches\n",
    "test_ds = ds.skip(n_train_samples + n_val_samples).batch(batch_size=BATCH_SIZE)"
   ]
  },
  {
   "cell_type": "code",
   "execution_count": 27,
   "id": "fcc3a444-5135-4764-a05d-bd0aa687fb5c",
   "metadata": {},
   "outputs": [
    {
     "data": {
      "text/plain": [
       "122"
      ]
     },
     "execution_count": 27,
     "metadata": {},
     "output_type": "execute_result"
    }
   ],
   "source": [
    "# Confirm len of train_ds\n",
    "len(train_ds)"
   ]
  },
  {
   "cell_type": "markdown",
   "id": "e13cc9d8-709e-4c54-9b09-2c3aa3bc79d1",
   "metadata": {
    "jp-MarkdownHeadingCollapsed": true
   },
   "source": [
    "### Make and fit TextVectorizer layer"
   ]
  },
  {
   "cell_type": "markdown",
   "id": "913b7ac9-8eea-45a7-87a7-8adbc9353416",
   "metadata": {},
   "source": [
    "We will define a custom function to make the text vectorization layer. The function instantiates the layer and uses the .adapt method to build the vocabulary on the training data. It also creates a dictionary of the vocabulary."
   ]
  },
  {
   "cell_type": "code",
   "execution_count": 28,
   "id": "035b2f8d-a9a8-45d8-ba41-6547b661e3be",
   "metadata": {},
   "outputs": [],
   "source": [
    "from pprint import pprint\n",
    "def make_text_vectorization_layer(train_ds,  max_tokens=None, \n",
    "                                  split='whitespace',\n",
    "                                  standardize=\"lower_and_strip_punctuation\",\n",
    "                                  output_mode=\"int\",\n",
    "                                  output_sequence_length=None,\n",
    "                                  ngrams=None, pad_to_max_tokens=False,\n",
    "                                  verbose=True,\n",
    "                                  **kwargs,\n",
    "                                 ):\n",
    "    # Build the text vectorization layer\n",
    "    text_vectorizer = tf.keras.layers.TextVectorization(\n",
    "        max_tokens=max_tokens,\n",
    "        standardize=standardize, \n",
    "        output_mode=output_mode,\n",
    "        output_sequence_length=output_sequence_length,\n",
    "        **kwargs\n",
    "    )\n",
    "    # Get just the text from the training data\n",
    "    if isinstance(train_ds, (np.ndarray, list, tuple, pd.Series)):\n",
    "        ds_texts = train_ds\n",
    "    else:\n",
    "        try:\n",
    "            ds_texts = train_ds.map(lambda x, y: x )\n",
    "        except:\n",
    "            ds_texts = train_ds\n",
    "            \n",
    "    # Fit the layer on the training texts\n",
    "    text_vectorizer.adapt(ds_texts)\n",
    "    \n",
    "    \n",
    "    if verbose:\n",
    "        # Print the params\n",
    "        print( \"\\ntf.keras.layers.TextVectorization(\" )\n",
    "        config = text_vectorizer.get_config()\n",
    "        pprint(config,indent=4)\n",
    "        print(\")\")\n",
    "               \n",
    "    # SAVING VOCAB FOR LATER\n",
    "    # Getting list of vocab \n",
    "    vocab = text_vectorizer.get_vocabulary()\n",
    "    # Save dictionaries to look up words from ints \n",
    "    int_to_str  = {idx:word for idx, word in enumerate(vocab)}\n",
    "    \n",
    "    return text_vectorizer, int_to_str"
   ]
  },
  {
   "cell_type": "markdown",
   "id": "c89eb498-9bde-498f-8c33-a05928da7e3f",
   "metadata": {},
   "source": [
    "We will use the function to create a count vectorizer and adapt it to the training_ds."
   ]
  },
  {
   "cell_type": "code",
   "execution_count": 29,
   "id": "efbefa20-fe1a-42d4-a6f8-e2921793c607",
   "metadata": {},
   "outputs": [
    {
     "name": "stdout",
     "output_type": "stream",
     "text": [
      "\n",
      "tf.keras.layers.TextVectorization(\n",
      "{   'batch_input_shape': (None,),\n",
      "    'dtype': 'string',\n",
      "    'encoding': 'utf-8',\n",
      "    'idf_weights': None,\n",
      "    'max_tokens': None,\n",
      "    'name': 'text_vectorization',\n",
      "    'ngrams': None,\n",
      "    'output_mode': 'count',\n",
      "    'output_sequence_length': None,\n",
      "    'pad_to_max_tokens': False,\n",
      "    'ragged': False,\n",
      "    'sparse': False,\n",
      "    'split': 'whitespace',\n",
      "    'standardize': 'lower_and_strip_punctuation',\n",
      "    'trainable': True,\n",
      "    'vocabulary': None,\n",
      "    'vocabulary_size': 13460}\n",
      ")\n"
     ]
    }
   ],
   "source": [
    "# Define vectorizer layer. Use the custom function to build and fit the vectorizer before using it in model\n",
    "count_vectorizer, count_lookup = make_text_vectorization_layer(train_ds, output_mode='count', verbose=True)"
   ]
  },
  {
   "cell_type": "code",
   "execution_count": 30,
   "id": "b4c6430e-f023-4519-babd-e50a4ceb83c0",
   "metadata": {},
   "outputs": [
    {
     "data": {
      "text/plain": [
       "13460"
      ]
     },
     "execution_count": 30,
     "metadata": {},
     "output_type": "execute_result"
    }
   ],
   "source": [
    "# Check the size of the vocabulary\n",
    "len(count_vectorizer.get_vocabulary())"
   ]
  },
  {
   "cell_type": "markdown",
   "id": "cd7576fd-9236-44a0-b21c-161f922a3024",
   "metadata": {},
   "source": [
    "### Build, Fit, and Evaluate the Model"
   ]
  },
  {
   "cell_type": "markdown",
   "id": "c0c920a7-6083-4560-814e-0af4bb308dea",
   "metadata": {},
   "source": [
    "**Define a Model Buiulding Function**\n",
    "\n",
    "As we introduced in Intermediate Machine Learning,  we will build our models within a function. Notice that we are including the text_vectorization layer as an argument in our function. This will allow us to change the vectorization outputs and other parameters easily. You should define model build functions within the notebook (not in a separate custom_functions .py) because we do not include arguments for the many parameters that we may want to use when building our models."
   ]
  },
  {
   "cell_type": "code",
   "execution_count": 31,
   "id": "15a156c7-ae94-47ba-9bce-5852872e9a03",
   "metadata": {},
   "outputs": [],
   "source": [
    "from tensorflow.keras import layers, optimizers, regularizers\n",
    "def build_bow_model(text_vectorization_layer, name=None):\n",
    "    # Build model with pre-trained text_vectorization layer\n",
    "    bow_model = tf.keras.models.Sequential([\n",
    "        text_vectorization_layer], name=name)\n",
    "   \n",
    "    # Add layers\n",
    "    bow_model.add(layers.Dense(32, activation='relu')),\n",
    "    # Output layers\n",
    "    bow_model.add(layers.Dense(len(classes), activation='softmax'))\n",
    "    # Compile model\n",
    "    bow_model.compile(\n",
    "        loss=tf.keras.losses.SparseCategoricalCrossentropy(),\n",
    "        optimizer = optimizers.legacy.Adam(),\n",
    "        metrics=['accuracy']\n",
    "    )\n",
    "    \n",
    "    bow_model.summary()\n",
    "    return bow_model"
   ]
  },
  {
   "cell_type": "markdown",
   "id": "cfe5f051-f9ea-4ac3-8480-95ea2afa3fe7",
   "metadata": {},
   "source": [
    "We will also want to define callbacks as we did with Intermediate Machine Learning."
   ]
  },
  {
   "cell_type": "code",
   "execution_count": 32,
   "id": "a991b723-9e0b-4a09-bd2b-89fff84f0156",
   "metadata": {},
   "outputs": [],
   "source": [
    "# Code below is from Week 4 of Intermediate Machine Learning\n",
    "def get_callbacks(patience=3, monitor='val_accuracy'):\n",
    "    early_stop = tf.keras.callbacks.EarlyStopping(patience=patience, monitor=monitor)\n",
    "    return [early_stop]"
   ]
  },
  {
   "cell_type": "markdown",
   "id": "c44934ef-b3e4-4458-8289-c0642d2be471",
   "metadata": {},
   "source": [
    "Finally, we will call the build function to build our model. We will also fit and evaluate the model in the next code block. Notice that we include the count_vectorizer we made and fit earlier. We also called our evaluate_classification_network function from our imported .py file with \"fn.\""
   ]
  },
  {
   "cell_type": "code",
   "execution_count": 33,
   "id": "b4189944-d007-4fa7-9911-4d62dbf6d008",
   "metadata": {},
   "outputs": [
    {
     "name": "stdout",
     "output_type": "stream",
     "text": [
      "Model: \"BoW-Counts\"\n",
      "_________________________________________________________________\n",
      " Layer (type)                Output Shape              Param #   \n",
      "=================================================================\n",
      " text_vectorization (TextVec  (None, 13460)            0         \n",
      " torization)                                                     \n",
      "                                                                 \n",
      " dense (Dense)               (None, 32)                430752    \n",
      "                                                                 \n",
      " dense_1 (Dense)             (None, 3)                 99        \n",
      "                                                                 \n",
      "=================================================================\n",
      "Total params: 430,851\n",
      "Trainable params: 430,851\n",
      "Non-trainable params: 0\n",
      "_________________________________________________________________\n",
      "Epoch 1/30\n",
      "122/122 [==============================] - 1s 6ms/step - loss: 0.6942 - accuracy: 0.7402 - val_loss: 0.5081 - val_accuracy: 0.7987\n",
      "Epoch 2/30\n",
      "122/122 [==============================] - 0s 4ms/step - loss: 0.2927 - accuracy: 0.9134 - val_loss: 0.4488 - val_accuracy: 0.8177\n",
      "Epoch 3/30\n",
      "122/122 [==============================] - 0s 4ms/step - loss: 0.1608 - accuracy: 0.9611 - val_loss: 0.4788 - val_accuracy: 0.8114\n",
      "Epoch 4/30\n",
      "122/122 [==============================] - 1s 4ms/step - loss: 0.0941 - accuracy: 0.9845 - val_loss: 0.4820 - val_accuracy: 0.8114\n",
      "Epoch 5/30\n",
      "122/122 [==============================] - 1s 4ms/step - loss: 0.0595 - accuracy: 0.9936 - val_loss: 0.5017 - val_accuracy: 0.8114\n"
     ]
    },
    {
     "data": {
      "image/png": "[encoded data removed]",
      "text/plain": [
       "<Figure size 600x600 with 2 Axes>"
      ]
     },
     "metadata": {},
     "output_type": "display_data"
    },
    {
     "name": "stdout",
     "output_type": "stream",
     "text": [
      "\n",
      "================================================================================\n",
      "- Evaluating Network...\n",
      "================================================================================\n",
      "----------------------------------------------------------------------\n",
      " Classification Metrics: Training Data\n",
      "----------------------------------------------------------------------\n",
      "              precision    recall  f1-score   support\n",
      "\n",
      "           0       1.00      1.00      1.00      1274\n",
      "           1       1.00      1.00      1.00      1283\n",
      "           2       1.00      1.00      1.00      1323\n",
      "\n",
      "    accuracy                           1.00      3880\n",
      "   macro avg       1.00      1.00      1.00      3880\n",
      "weighted avg       1.00      1.00      1.00      3880\n",
      "\n"
     ]
    },
    {
     "data": {
      "image/png": "[encoded data removed]",
      "text/plain": [
       "<Figure size 600x400 with 2 Axes>"
      ]
     },
     "metadata": {},
     "output_type": "display_data"
    },
    {
     "name": "stdout",
     "output_type": "stream",
     "text": [
      "\n",
      "- Evaluating Training Data:\n",
      "122/122 [==============================] - 0s 2ms/step - loss: 0.0400 - accuracy: 0.9982\n",
      "{'loss': 0.039972174912691116, 'accuracy': 0.9981958866119385}\n",
      "----------------------------------------------------------------------\n",
      " Classification Metrics: Test Data\n",
      "----------------------------------------------------------------------\n",
      "              precision    recall  f1-score   support\n",
      "\n",
      "           0       0.81      0.83      0.82       195\n",
      "           1       0.76      0.71      0.74       191\n",
      "           2       0.89      0.92      0.90       170\n",
      "\n",
      "    accuracy                           0.82       556\n",
      "   macro avg       0.82      0.82      0.82       556\n",
      "weighted avg       0.81      0.82      0.82       556\n",
      "\n"
     ]
    },
    {
     "data": {
      "image/png": "[encoded data removed]",
      "text/plain": [
       "<Figure size 600x400 with 2 Axes>"
      ]
     },
     "metadata": {},
     "output_type": "display_data"
    },
    {
     "name": "stdout",
     "output_type": "stream",
     "text": [
      "\n",
      "- Evaluating Test Data:\n",
      "18/18 [==============================] - 0s 2ms/step - loss: 0.5477 - accuracy: 0.8165\n",
      "{'loss': 0.5477449297904968, 'accuracy': 0.8165467381477356}\n"
     ]
    }
   ],
   "source": [
    "# Build the model with the adapted TextVectorizer\n",
    "bow_model = build_bow_model(count_vectorizer, name=\"BoW-Counts\")\n",
    "# How many epochs?\n",
    "EPOCHS = 30\n",
    "# Fit the model with callbacks and save history\n",
    "history = bow_model.fit(\n",
    "    train_ds,\n",
    "    epochs=EPOCHS,callbacks=get_callbacks(),\n",
    "    validation_data=val_ds)\n",
    "# Evaluate the model with a custom function\n",
    "fn.evaluate_classification_network(\n",
    "    bow_model, X_train=train_ds, \n",
    "    X_test=test_ds, history=history\n",
    ");"
   ]
  }
 ],
 "metadata": {
  "kernelspec": {
   "display_name": "Python 3 (ipykernel)",
   "language": "python",
   "name": "python3"
  },
  "language_info": {
   "codemirror_mode": {
    "name": "ipython",
    "version": 3
   },
   "file_extension": ".py",
   "mimetype": "text/x-python",
   "name": "python",
   "nbconvert_exporter": "python",
   "pygments_lexer": "ipython3",
   "version": "3.10.10"
  },
  "widgets": {
   "application/vnd.jupyter.widget-state+json": {
    "state": {},
    "version_major": 2,
    "version_minor": 0
   }
  }
 },
 "nbformat": 4,
 "nbformat_minor": 5
}
