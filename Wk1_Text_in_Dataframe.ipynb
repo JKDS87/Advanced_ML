{
 "cells": [
  {
   "cell_type": "markdown",
   "id": "7296f46b-5233-4395-8b97-44cac745be79",
   "metadata": {},
   "source": [
    "# Text in a Dataframe"
   ]
  },
  {
   "cell_type": "markdown",
   "id": "46ed2093-61d3-4d2d-b777-fdb88074eb06",
   "metadata": {},
   "source": [
    "**Introduction**\n",
    "\n",
    "In the information age, understanding customer sentiment can be a crucial factor in the success of any business.\n",
    "\n",
    "Yelp, a popular platform for business reviews, is a treasure trove of such information. Reviews on Yelp can significantly influence customer behavior, so analyzing the language used in reviews can provide valuable insights into customer experience, service quality, and much more.\n",
    "\n",
    "However, the sheer volume of text data can be overwhelming.\n",
    "The following lessons will explore various text analytics techniques to compare and contrast 5-star and 1-star Yelp reviews. We will focus on preprocessing text data with Pandas and SpaCy and using the Natural Language Toolkit (NLTK) for text analytics.\n",
    "\n",
    "We will use this dataset throughout the remaining lessons. The goal of this lesson is to separate reviews into different categories based on star ratings for comparative analysis.\n"
   ]
  },
  {
   "cell_type": "markdown",
   "id": "62c8bf84-5dd0-4100-abf1-acd60778b341",
   "metadata": {},
   "source": [
    "**insert links for yelp data**"
   ]
  },
  {
   "cell_type": "markdown",
   "id": "841bfcb7-036b-44d8-8b12-8cc9c7e79924",
   "metadata": {
    "jp-MarkdownHeadingCollapsed": true
   },
   "source": [
    "### Prepare the Data"
   ]
  },
  {
   "cell_type": "code",
   "execution_count": 1,
   "id": "ad06bdb5-a84a-4017-844f-8a9342aa396a",
   "metadata": {},
   "outputs": [],
   "source": [
    "# Imports\n",
    "import matplotlib.pyplot as plt\n",
    "import matplotlib as mpl\n",
    "import seaborn as sns\n",
    "import numpy as np\n",
    "import pandas as pd"
   ]
  },
  {
   "cell_type": "code",
   "execution_count": 2,
   "id": "4e18d2e9-9446-436f-aa35-4b2502d77386",
   "metadata": {},
   "outputs": [],
   "source": [
    "# Custom functions\n",
    "def batch_preprocess_texts(\n",
    "    texts,\n",
    "    nlp=None,\n",
    "    remove_stopwords=True,\n",
    "    remove_punct=True,\n",
    "    use_lemmas=False,\n",
    "    disable=[\"ner\"],\n",
    "    batch_size=50,\n",
    "    n_process=-1,\n",
    "):\n",
    "    \"\"\"Efficiently preprocess a collection of texts using nlp.pipe()\n",
    "\n",
    "    Args:\n",
    "        texts (collection of strings): collection of texts to process (e.g. df['text'])\n",
    "        nlp (spacy pipe), optional): Spacy nlp pipe. Defaults to None; if None, it creates a default 'en_core_web_sm' pipe.\n",
    "        remove_stopwords (bool, optional): Controls stopword removal. Defaults to True.\n",
    "        remove_punct (bool, optional): Controls punctuation removal. Defaults to True.\n",
    "        use_lemmas (bool, optional): lemmatize tokens. Defaults to False.\n",
    "        disable (list of strings, optional): named pipeline elements to disable. Defaults to [\"ner\"]: Used with nlp.pipe(disable=disable)\n",
    "        batch_size (int, optional): Number of texts to process in a batch. Defaults to 50.\n",
    "        n_process (int, optional): Number of CPU processors to use. Defaults to -1 (meaning all CPU cores).\n",
    "\n",
    "    Returns:\n",
    "        list of tokens\n",
    "    \"\"\"\n",
    "    # from tqdm.notebook import tqdm\n",
    "    from tqdm import tqdm\n",
    "\n",
    "    if nlp is None:\n",
    "        nlp = spacy.load(\"en_core_web_sm\")\n",
    "\n",
    "    processed_texts = []\n",
    "\n",
    "    for doc in tqdm(nlp.pipe(texts, disable=disable, batch_size=batch_size, n_process=n_process)):\n",
    "        tokens = []\n",
    "        for token in doc:\n",
    "            # Check if should remove stopwords and if token is stopword\n",
    "            if (remove_stopwords == True) and (token.is_stop == True):\n",
    "                # Continue the loop with the next token\n",
    "                continue\n",
    "\n",
    "            # Check if should remove stopwords and if token is stopword\n",
    "            if (remove_punct == True) and (token.is_punct == True):\n",
    "                continue\n",
    "\n",
    "            # Check if should remove stopwords and if token is stopword\n",
    "            if (remove_punct == True) and (token.is_space == True):\n",
    "                continue\n",
    "\n",
    "            \n",
    "            ## Determine final form of output list of tokens/lemmas\n",
    "            if use_lemmas:\n",
    "                tokens.append(token.lemma_.lower())\n",
    "            else:\n",
    "                tokens.append(token.text.lower())\n",
    "\n",
    "        processed_texts.append(tokens)\n",
    "    return processed_texts"
   ]
  },
  {
   "cell_type": "code",
   "execution_count": 6,
   "id": "d11fbef7-34fd-4d49-87cf-733d79c344a6",
   "metadata": {},
   "outputs": [
    {
     "data": {
      "text/html": [
       "<div>\n",
       "<style scoped>\n",
       "    .dataframe tbody tr th:only-of-type {\n",
       "        vertical-align: middle;\n",
       "    }\n",
       "\n",
       "    .dataframe tbody tr th {\n",
       "        vertical-align: top;\n",
       "    }\n",
       "\n",
       "    .dataframe thead th {\n",
       "        text-align: right;\n",
       "    }\n",
       "</style>\n",
       "<table border=\"1\" class=\"dataframe\">\n",
       "  <thead>\n",
       "    <tr style=\"text-align: right;\">\n",
       "      <th></th>\n",
       "      <th>name</th>\n",
       "      <th>address</th>\n",
       "      <th>city</th>\n",
       "      <th>state</th>\n",
       "      <th>postal_code</th>\n",
       "      <th>latitude</th>\n",
       "      <th>longitude</th>\n",
       "      <th>stars</th>\n",
       "      <th>review_count</th>\n",
       "      <th>categories</th>\n",
       "    </tr>\n",
       "    <tr>\n",
       "      <th>business_id</th>\n",
       "      <th></th>\n",
       "      <th></th>\n",
       "      <th></th>\n",
       "      <th></th>\n",
       "      <th></th>\n",
       "      <th></th>\n",
       "      <th></th>\n",
       "      <th></th>\n",
       "      <th></th>\n",
       "      <th></th>\n",
       "    </tr>\n",
       "  </thead>\n",
       "  <tbody>\n",
       "    <tr>\n",
       "      <th>Pns2l4eNsfO8kk83dixA6A</th>\n",
       "      <td>Abby Rappoport, LAC, CMQ</td>\n",
       "      <td>1616 Chapala St, Ste 2</td>\n",
       "      <td>Santa Barbara</td>\n",
       "      <td>CA</td>\n",
       "      <td>93101</td>\n",
       "      <td>34.426679</td>\n",
       "      <td>-119.711197</td>\n",
       "      <td>5.0</td>\n",
       "      <td>7</td>\n",
       "      <td>Doctors, Traditional Chinese Medicine, Naturop...</td>\n",
       "    </tr>\n",
       "    <tr>\n",
       "      <th>mpf3x-BjTdTEA3yCZrAYPw</th>\n",
       "      <td>The UPS Store</td>\n",
       "      <td>87 Grasso Plaza Shopping Center</td>\n",
       "      <td>Affton</td>\n",
       "      <td>MO</td>\n",
       "      <td>63123</td>\n",
       "      <td>38.551126</td>\n",
       "      <td>-90.335695</td>\n",
       "      <td>3.0</td>\n",
       "      <td>15</td>\n",
       "      <td>Shipping Centers, Local Services, Notaries, Ma...</td>\n",
       "    </tr>\n",
       "    <tr>\n",
       "      <th>tUFrWirKiKi_TAnsVWINQQ</th>\n",
       "      <td>Target</td>\n",
       "      <td>5255 E Broadway Blvd</td>\n",
       "      <td>Tucson</td>\n",
       "      <td>AZ</td>\n",
       "      <td>85711</td>\n",
       "      <td>32.223236</td>\n",
       "      <td>-110.880452</td>\n",
       "      <td>3.5</td>\n",
       "      <td>22</td>\n",
       "      <td>Department Stores, Shopping, Fashion, Home &amp; G...</td>\n",
       "    </tr>\n",
       "    <tr>\n",
       "      <th>MTSW4McQd7CbVtyjqoe9mw</th>\n",
       "      <td>St Honore Pastries</td>\n",
       "      <td>935 Race St</td>\n",
       "      <td>Philadelphia</td>\n",
       "      <td>PA</td>\n",
       "      <td>19107</td>\n",
       "      <td>39.955505</td>\n",
       "      <td>-75.155564</td>\n",
       "      <td>4.0</td>\n",
       "      <td>80</td>\n",
       "      <td>Restaurants, Food, Bubble Tea, Coffee &amp; Tea, B...</td>\n",
       "    </tr>\n",
       "    <tr>\n",
       "      <th>mWMc6_wTdE0EUBKIGXDVfA</th>\n",
       "      <td>Perkiomen Valley Brewery</td>\n",
       "      <td>101 Walnut St</td>\n",
       "      <td>Green Lane</td>\n",
       "      <td>PA</td>\n",
       "      <td>18054</td>\n",
       "      <td>40.338183</td>\n",
       "      <td>-75.471659</td>\n",
       "      <td>4.5</td>\n",
       "      <td>13</td>\n",
       "      <td>Brewpubs, Breweries, Food</td>\n",
       "    </tr>\n",
       "  </tbody>\n",
       "</table>\n",
       "</div>"
      ],
      "text/plain": [
       "                                            name  \\\n",
       "business_id                                        \n",
       "Pns2l4eNsfO8kk83dixA6A  Abby Rappoport, LAC, CMQ   \n",
       "mpf3x-BjTdTEA3yCZrAYPw             The UPS Store   \n",
       "tUFrWirKiKi_TAnsVWINQQ                    Target   \n",
       "MTSW4McQd7CbVtyjqoe9mw        St Honore Pastries   \n",
       "mWMc6_wTdE0EUBKIGXDVfA  Perkiomen Valley Brewery   \n",
       "\n",
       "                                                address           city state  \\\n",
       "business_id                                                                    \n",
       "Pns2l4eNsfO8kk83dixA6A           1616 Chapala St, Ste 2  Santa Barbara    CA   \n",
       "mpf3x-BjTdTEA3yCZrAYPw  87 Grasso Plaza Shopping Center         Affton    MO   \n",
       "tUFrWirKiKi_TAnsVWINQQ             5255 E Broadway Blvd         Tucson    AZ   \n",
       "MTSW4McQd7CbVtyjqoe9mw                      935 Race St   Philadelphia    PA   \n",
       "mWMc6_wTdE0EUBKIGXDVfA                    101 Walnut St     Green Lane    PA   \n",
       "\n",
       "                       postal_code   latitude   longitude  stars  \\\n",
       "business_id                                                        \n",
       "Pns2l4eNsfO8kk83dixA6A       93101  34.426679 -119.711197    5.0   \n",
       "mpf3x-BjTdTEA3yCZrAYPw       63123  38.551126  -90.335695    3.0   \n",
       "tUFrWirKiKi_TAnsVWINQQ       85711  32.223236 -110.880452    3.5   \n",
       "MTSW4McQd7CbVtyjqoe9mw       19107  39.955505  -75.155564    4.0   \n",
       "mWMc6_wTdE0EUBKIGXDVfA       18054  40.338183  -75.471659    4.5   \n",
       "\n",
       "                        review_count  \\\n",
       "business_id                            \n",
       "Pns2l4eNsfO8kk83dixA6A             7   \n",
       "mpf3x-BjTdTEA3yCZrAYPw            15   \n",
       "tUFrWirKiKi_TAnsVWINQQ            22   \n",
       "MTSW4McQd7CbVtyjqoe9mw            80   \n",
       "mWMc6_wTdE0EUBKIGXDVfA            13   \n",
       "\n",
       "                                                               categories  \n",
       "business_id                                                                \n",
       "Pns2l4eNsfO8kk83dixA6A  Doctors, Traditional Chinese Medicine, Naturop...  \n",
       "mpf3x-BjTdTEA3yCZrAYPw  Shipping Centers, Local Services, Notaries, Ma...  \n",
       "tUFrWirKiKi_TAnsVWINQQ  Department Stores, Shopping, Fashion, Home & G...  \n",
       "MTSW4McQd7CbVtyjqoe9mw  Restaurants, Food, Bubble Tea, Coffee & Tea, B...  \n",
       "mWMc6_wTdE0EUBKIGXDVfA                          Brewpubs, Breweries, Food  "
      ]
     },
     "execution_count": 6,
     "metadata": {},
     "output_type": "execute_result"
    }
   ],
   "source": [
    "# Load data\n",
    "# Load data\n",
    "df_businesses = pd.read_csv(\"Data/yelp-business-metadata.csv.gz\", index_col='business_id')\n",
    "df_businesses.head()"
   ]
  },
  {
   "cell_type": "code",
   "execution_count": 7,
   "id": "83a41745-a471-496a-82ca-7474867274dc",
   "metadata": {},
   "outputs": [
    {
     "data": {
      "text/html": [
       "<div>\n",
       "<style scoped>\n",
       "    .dataframe tbody tr th:only-of-type {\n",
       "        vertical-align: middle;\n",
       "    }\n",
       "\n",
       "    .dataframe tbody tr th {\n",
       "        vertical-align: top;\n",
       "    }\n",
       "\n",
       "    .dataframe thead th {\n",
       "        text-align: right;\n",
       "    }\n",
       "</style>\n",
       "<table border=\"1\" class=\"dataframe\">\n",
       "  <thead>\n",
       "    <tr style=\"text-align: right;\">\n",
       "      <th></th>\n",
       "      <th>business_id</th>\n",
       "      <th>date</th>\n",
       "      <th>text</th>\n",
       "      <th>stars</th>\n",
       "      <th>language</th>\n",
       "    </tr>\n",
       "    <tr>\n",
       "      <th>review_id</th>\n",
       "      <th></th>\n",
       "      <th></th>\n",
       "      <th></th>\n",
       "      <th></th>\n",
       "      <th></th>\n",
       "    </tr>\n",
       "  </thead>\n",
       "  <tbody>\n",
       "    <tr>\n",
       "      <th>8W3g9ykr8aGGZMMdVbNPKA</th>\n",
       "      <td>gGaF0TtGRx1QOFe0EzuZLg</td>\n",
       "      <td>2015-01-01 00:01:02</td>\n",
       "      <td>Lynn and Montecito flowers are simply the best...</td>\n",
       "      <td>5</td>\n",
       "      <td>en</td>\n",
       "    </tr>\n",
       "    <tr>\n",
       "      <th>q10HcbeBRtcvsN7WC02fFw</th>\n",
       "      <td>2CqQ3Tnvj7h0rw84WEEjMw</td>\n",
       "      <td>2015-01-01 00:15:12</td>\n",
       "      <td>Love this place! Always loved the food as they...</td>\n",
       "      <td>5</td>\n",
       "      <td>en</td>\n",
       "    </tr>\n",
       "    <tr>\n",
       "      <th>dXOY5UqXhcCQ6f9S-kRc2w</th>\n",
       "      <td>lOa1BVmTcbPpu05h3OPAQA</td>\n",
       "      <td>2015-01-01 00:19:36</td>\n",
       "      <td>We stayed here last weekend with our dog. Its ...</td>\n",
       "      <td>5</td>\n",
       "      <td>en</td>\n",
       "    </tr>\n",
       "    <tr>\n",
       "      <th>8mWVoTXecEkRXTvPONYFuw</th>\n",
       "      <td>QFh-h_OZ5Io-mBk32HN28A</td>\n",
       "      <td>2015-01-01 00:20:23</td>\n",
       "      <td>Came here for a quick bite and got the thai sa...</td>\n",
       "      <td>2</td>\n",
       "      <td>en</td>\n",
       "    </tr>\n",
       "    <tr>\n",
       "      <th>Xr5KEchLr-jvQiAZm1mtNA</th>\n",
       "      <td>cAbdvzqtFLaAAMFIyPf2AA</td>\n",
       "      <td>2015-01-01 00:47:19</td>\n",
       "      <td>Finally was able to try lunch at Holdren's.  M...</td>\n",
       "      <td>2</td>\n",
       "      <td>en</td>\n",
       "    </tr>\n",
       "  </tbody>\n",
       "</table>\n",
       "</div>"
      ],
      "text/plain": [
       "                                   business_id                 date  \\\n",
       "review_id                                                             \n",
       "8W3g9ykr8aGGZMMdVbNPKA  gGaF0TtGRx1QOFe0EzuZLg  2015-01-01 00:01:02   \n",
       "q10HcbeBRtcvsN7WC02fFw  2CqQ3Tnvj7h0rw84WEEjMw  2015-01-01 00:15:12   \n",
       "dXOY5UqXhcCQ6f9S-kRc2w  lOa1BVmTcbPpu05h3OPAQA  2015-01-01 00:19:36   \n",
       "8mWVoTXecEkRXTvPONYFuw  QFh-h_OZ5Io-mBk32HN28A  2015-01-01 00:20:23   \n",
       "Xr5KEchLr-jvQiAZm1mtNA  cAbdvzqtFLaAAMFIyPf2AA  2015-01-01 00:47:19   \n",
       "\n",
       "                                                                     text  \\\n",
       "review_id                                                                   \n",
       "8W3g9ykr8aGGZMMdVbNPKA  Lynn and Montecito flowers are simply the best...   \n",
       "q10HcbeBRtcvsN7WC02fFw  Love this place! Always loved the food as they...   \n",
       "dXOY5UqXhcCQ6f9S-kRc2w  We stayed here last weekend with our dog. Its ...   \n",
       "8mWVoTXecEkRXTvPONYFuw  Came here for a quick bite and got the thai sa...   \n",
       "Xr5KEchLr-jvQiAZm1mtNA  Finally was able to try lunch at Holdren's.  M...   \n",
       "\n",
       "                        stars language  \n",
       "review_id                               \n",
       "8W3g9ykr8aGGZMMdVbNPKA      5       en  \n",
       "q10HcbeBRtcvsN7WC02fFw      5       en  \n",
       "dXOY5UqXhcCQ6f9S-kRc2w      5       en  \n",
       "8mWVoTXecEkRXTvPONYFuw      2       en  \n",
       "Xr5KEchLr-jvQiAZm1mtNA      2       en  "
      ]
     },
     "execution_count": 7,
     "metadata": {},
     "output_type": "execute_result"
    }
   ],
   "source": [
    "# Load in the reviews for CA 2015-2018\n",
    "df = pd.read_csv('Data/yelp-reviews-CA-2015-2018.csv.gz', index_col='review_id')\n",
    "df.head()"
   ]
  },
  {
   "cell_type": "markdown",
   "id": "7a628c1d-9ad8-48a3-bb33-75183df7052f",
   "metadata": {},
   "source": [
    "When working with text data, seeing more of the text column in the preview can be helpful. With the current settings, we can only see a snippet of the text in the text column. Let's check the current maximum column width by checking display.max_colwidth."
   ]
  },
  {
   "cell_type": "code",
   "execution_count": 8,
   "id": "5a9cbae9-2141-45bc-b8e7-efe4b69d5247",
   "metadata": {},
   "outputs": [
    {
     "data": {
      "text/plain": [
       "50"
      ]
     },
     "execution_count": 8,
     "metadata": {},
     "output_type": "execute_result"
    }
   ],
   "source": [
    "# New pandas option to change: \n",
    "pd.get_option('display.max_colwidth')"
   ]
  },
  {
   "cell_type": "code",
   "execution_count": 9,
   "id": "06d9a268-480b-4686-a4b8-a12ef434bc4e",
   "metadata": {},
   "outputs": [
    {
     "data": {
      "text/html": [
       "<div>\n",
       "<style scoped>\n",
       "    .dataframe tbody tr th:only-of-type {\n",
       "        vertical-align: middle;\n",
       "    }\n",
       "\n",
       "    .dataframe tbody tr th {\n",
       "        vertical-align: top;\n",
       "    }\n",
       "\n",
       "    .dataframe thead th {\n",
       "        text-align: right;\n",
       "    }\n",
       "</style>\n",
       "<table border=\"1\" class=\"dataframe\">\n",
       "  <thead>\n",
       "    <tr style=\"text-align: right;\">\n",
       "      <th></th>\n",
       "      <th>business_id</th>\n",
       "      <th>date</th>\n",
       "      <th>text</th>\n",
       "      <th>stars</th>\n",
       "      <th>language</th>\n",
       "    </tr>\n",
       "    <tr>\n",
       "      <th>review_id</th>\n",
       "      <th></th>\n",
       "      <th></th>\n",
       "      <th></th>\n",
       "      <th></th>\n",
       "      <th></th>\n",
       "    </tr>\n",
       "  </thead>\n",
       "  <tbody>\n",
       "    <tr>\n",
       "      <th>8W3g9ykr8aGGZMMdVbNPKA</th>\n",
       "      <td>gGaF0TtGRx1QOFe0EzuZLg</td>\n",
       "      <td>2015-01-01 00:01:02</td>\n",
       "      <td>Lynn and Montecito flowers are simply the best. Awesome choices, friendly service and great pricing.</td>\n",
       "      <td>5</td>\n",
       "      <td>en</td>\n",
       "    </tr>\n",
       "    <tr>\n",
       "      <th>q10HcbeBRtcvsN7WC02fFw</th>\n",
       "      <td>2CqQ3Tnvj7h0rw84WEEjMw</td>\n",
       "      <td>2015-01-01 00:15:12</td>\n",
       "      <td>Love this place! Always loved the food as they truly due have Killer BBQ. From pulled pork sandwiches to tri-tip the food is always a win. Now with the new location with the huge dog friendly patio, I think I just found my new favorite spot to wa...</td>\n",
       "      <td>5</td>\n",
       "      <td>en</td>\n",
       "    </tr>\n",
       "    <tr>\n",
       "      <th>dXOY5UqXhcCQ6f9S-kRc2w</th>\n",
       "      <td>lOa1BVmTcbPpu05h3OPAQA</td>\n",
       "      <td>2015-01-01 00:19:36</td>\n",
       "      <td>We stayed here last weekend with our dog. Its a motel style but the inside is a four star hotel. No kidding! The fireplace adds a nice touch. One block from the beach. Front desk is really nice. Could not ask for a better location. Of course this...</td>\n",
       "      <td>5</td>\n",
       "      <td>en</td>\n",
       "    </tr>\n",
       "    <tr>\n",
       "      <th>8mWVoTXecEkRXTvPONYFuw</th>\n",
       "      <td>QFh-h_OZ5Io-mBk32HN28A</td>\n",
       "      <td>2015-01-01 00:20:23</td>\n",
       "      <td>Came here for a quick bite and got the thai salad and a bowl of white bean chicken soup. The salad was pretty basic and the soup was lukewarm.  We went around noon and most of the tables had dirty dishes from the previous customers. I asked one o...</td>\n",
       "      <td>2</td>\n",
       "      <td>en</td>\n",
       "    </tr>\n",
       "    <tr>\n",
       "      <th>Xr5KEchLr-jvQiAZm1mtNA</th>\n",
       "      <td>cAbdvzqtFLaAAMFIyPf2AA</td>\n",
       "      <td>2015-01-01 00:47:19</td>\n",
       "      <td>Finally was able to try lunch at Holdren's.  My husband ordered the Kobe Burger (medium), and I ordered the Pastrami Melt/Caesar salad.  The $18 Kobe Burger came to the table overcooked (well), and very dry.  Fries weren't hot or crispy. On top o...</td>\n",
       "      <td>2</td>\n",
       "      <td>en</td>\n",
       "    </tr>\n",
       "  </tbody>\n",
       "</table>\n",
       "</div>"
      ],
      "text/plain": [
       "                                   business_id                 date  \\\n",
       "review_id                                                             \n",
       "8W3g9ykr8aGGZMMdVbNPKA  gGaF0TtGRx1QOFe0EzuZLg  2015-01-01 00:01:02   \n",
       "q10HcbeBRtcvsN7WC02fFw  2CqQ3Tnvj7h0rw84WEEjMw  2015-01-01 00:15:12   \n",
       "dXOY5UqXhcCQ6f9S-kRc2w  lOa1BVmTcbPpu05h3OPAQA  2015-01-01 00:19:36   \n",
       "8mWVoTXecEkRXTvPONYFuw  QFh-h_OZ5Io-mBk32HN28A  2015-01-01 00:20:23   \n",
       "Xr5KEchLr-jvQiAZm1mtNA  cAbdvzqtFLaAAMFIyPf2AA  2015-01-01 00:47:19   \n",
       "\n",
       "                                                                                                                                                                                                                                                                             text  \\\n",
       "review_id                                                                                                                                                                                                                                                                           \n",
       "8W3g9ykr8aGGZMMdVbNPKA                                                                                                                                                       Lynn and Montecito flowers are simply the best. Awesome choices, friendly service and great pricing.   \n",
       "q10HcbeBRtcvsN7WC02fFw  Love this place! Always loved the food as they truly due have Killer BBQ. From pulled pork sandwiches to tri-tip the food is always a win. Now with the new location with the huge dog friendly patio, I think I just found my new favorite spot to wa...   \n",
       "dXOY5UqXhcCQ6f9S-kRc2w  We stayed here last weekend with our dog. Its a motel style but the inside is a four star hotel. No kidding! The fireplace adds a nice touch. One block from the beach. Front desk is really nice. Could not ask for a better location. Of course this...   \n",
       "8mWVoTXecEkRXTvPONYFuw  Came here for a quick bite and got the thai salad and a bowl of white bean chicken soup. The salad was pretty basic and the soup was lukewarm.  We went around noon and most of the tables had dirty dishes from the previous customers. I asked one o...   \n",
       "Xr5KEchLr-jvQiAZm1mtNA  Finally was able to try lunch at Holdren's.  My husband ordered the Kobe Burger (medium), and I ordered the Pastrami Melt/Caesar salad.  The $18 Kobe Burger came to the table overcooked (well), and very dry.  Fries weren't hot or crispy. On top o...   \n",
       "\n",
       "                        stars language  \n",
       "review_id                               \n",
       "8W3g9ykr8aGGZMMdVbNPKA      5       en  \n",
       "q10HcbeBRtcvsN7WC02fFw      5       en  \n",
       "dXOY5UqXhcCQ6f9S-kRc2w      5       en  \n",
       "8mWVoTXecEkRXTvPONYFuw      2       en  \n",
       "Xr5KEchLr-jvQiAZm1mtNA      2       en  "
      ]
     },
     "execution_count": 9,
     "metadata": {},
     "output_type": "execute_result"
    }
   ],
   "source": [
    "# Increase column width\n",
    "pd.set_option('display.max_colwidth', 250)\n",
    "df.head()"
   ]
  },
  {
   "cell_type": "markdown",
   "id": "ffe8dc87-1d43-482e-b919-2e55a42197ea",
   "metadata": {},
   "source": [
    "**Filtering for a Specific Business**\n",
    "\n",
    "We've been asked to analyze the review for the business named \"Sandbar\" located in Santa Barbara, CA.\r\n",
    "\r\n",
    "We need to check the business metadata to find the business_id for this establishment.\r\n",
    "\r\n",
    "We will then filter the reviews using the correct business id."
   ]
  },
  {
   "cell_type": "code",
   "execution_count": 10,
   "id": "175ef11f-30e1-4036-bb1a-4f065157b330",
   "metadata": {},
   "outputs": [
    {
     "data": {
      "text/plain": [
       "3836"
      ]
     },
     "execution_count": 10,
     "metadata": {},
     "output_type": "execute_result"
    }
   ],
   "source": [
    "# Filter using city\n",
    "filter_city = df_businesses['city'].str.contains('Santa Barbara') \n",
    "filter_city.sum()"
   ]
  },
  {
   "cell_type": "markdown",
   "id": "4eb23aac-7f34-4242-906e-f8e3318a88e2",
   "metadata": {},
   "source": [
    "There are 3836 businesses in Santa Barbara included in the metadata."
   ]
  },
  {
   "cell_type": "code",
   "execution_count": 12,
   "id": "606fee79-69bf-4075-afdd-295eab33df4a",
   "metadata": {},
   "outputs": [
    {
     "data": {
      "text/plain": [
       "8"
      ]
     },
     "execution_count": 12,
     "metadata": {},
     "output_type": "execute_result"
    }
   ],
   "source": [
    "# Filter using name\n",
    "filter_name =  df_businesses['name'].str.contains(\"Sandbar\")\n",
    "filter_name.sum()"
   ]
  },
  {
   "cell_type": "markdown",
   "id": "704b76a0-6114-4c53-b2d8-dc913b45d5fa",
   "metadata": {},
   "source": [
    "There are eight businesses with \"Sandbar\" in the name.\r\n",
    "\r\n",
    "We will combine these filters to obtain businesses with \"Sandbar\" located in Santa Barbara."
   ]
  },
  {
   "cell_type": "code",
   "execution_count": 13,
   "id": "37711f7d-c855-4767-8bb0-eec4e6341fe2",
   "metadata": {},
   "outputs": [
    {
     "data": {
      "text/html": [
       "<div>\n",
       "<style scoped>\n",
       "    .dataframe tbody tr th:only-of-type {\n",
       "        vertical-align: middle;\n",
       "    }\n",
       "\n",
       "    .dataframe tbody tr th {\n",
       "        vertical-align: top;\n",
       "    }\n",
       "\n",
       "    .dataframe thead th {\n",
       "        text-align: right;\n",
       "    }\n",
       "</style>\n",
       "<table border=\"1\" class=\"dataframe\">\n",
       "  <thead>\n",
       "    <tr style=\"text-align: right;\">\n",
       "      <th></th>\n",
       "      <th>name</th>\n",
       "      <th>address</th>\n",
       "      <th>city</th>\n",
       "      <th>state</th>\n",
       "      <th>postal_code</th>\n",
       "      <th>latitude</th>\n",
       "      <th>longitude</th>\n",
       "      <th>stars</th>\n",
       "      <th>review_count</th>\n",
       "      <th>categories</th>\n",
       "    </tr>\n",
       "    <tr>\n",
       "      <th>business_id</th>\n",
       "      <th></th>\n",
       "      <th></th>\n",
       "      <th></th>\n",
       "      <th></th>\n",
       "      <th></th>\n",
       "      <th></th>\n",
       "      <th></th>\n",
       "      <th></th>\n",
       "      <th></th>\n",
       "      <th></th>\n",
       "    </tr>\n",
       "  </thead>\n",
       "  <tbody>\n",
       "    <tr>\n",
       "      <th>EtM079Cj7-B3G7jPsGYb_Q</th>\n",
       "      <td>Sandbar</td>\n",
       "      <td>514 State St</td>\n",
       "      <td>Santa Barbara</td>\n",
       "      <td>CA</td>\n",
       "      <td>93101</td>\n",
       "      <td>34.417371</td>\n",
       "      <td>-119.695827</td>\n",
       "      <td>3.5</td>\n",
       "      <td>1546</td>\n",
       "      <td>Nightlife, Arts &amp; Entertainment, Restaurants, Dance Clubs, Bars, Music Venues, Mexican, Sports Bars</td>\n",
       "    </tr>\n",
       "  </tbody>\n",
       "</table>\n",
       "</div>"
      ],
      "text/plain": [
       "                           name       address           city state  \\\n",
       "business_id                                                          \n",
       "EtM079Cj7-B3G7jPsGYb_Q  Sandbar  514 State St  Santa Barbara    CA   \n",
       "\n",
       "                       postal_code   latitude   longitude  stars  \\\n",
       "business_id                                                        \n",
       "EtM079Cj7-B3G7jPsGYb_Q       93101  34.417371 -119.695827    3.5   \n",
       "\n",
       "                        review_count  \\\n",
       "business_id                            \n",
       "EtM079Cj7-B3G7jPsGYb_Q          1546   \n",
       "\n",
       "                                                                                                                 categories  \n",
       "business_id                                                                                                                  \n",
       "EtM079Cj7-B3G7jPsGYb_Q  Nightlife, Arts & Entertainment, Restaurants, Dance Clubs, Bars, Music Venues, Mexican, Sports Bars  "
      ]
     },
     "execution_count": 13,
     "metadata": {},
     "output_type": "execute_result"
    }
   ],
   "source": [
    "# Find the target business\n",
    "selected_business =df_businesses.loc[ filter_name & filter_city]\n",
    "selected_business"
   ]
  },
  {
   "cell_type": "markdown",
   "id": "a79ed4c4-0012-453f-bbbf-fb57354a794f",
   "metadata": {},
   "source": [
    "We will now define the business_id. We will need the business_id to filter the reviews."
   ]
  },
  {
   "cell_type": "code",
   "execution_count": 14,
   "id": "f821f3e8-b9d4-4eb0-92e4-1094f0976f74",
   "metadata": {},
   "outputs": [
    {
     "data": {
      "text/plain": [
       "'EtM079Cj7-B3G7jPsGYb_Q'"
      ]
     },
     "execution_count": 14,
     "metadata": {},
     "output_type": "execute_result"
    }
   ],
   "source": [
    "# Save the business id for slicing the reviews\n",
    "business_id = selected_business.index[0]\n",
    "business_id"
   ]
  },
  {
   "cell_type": "markdown",
   "id": "43410211-840e-4284-b87f-67458832f4ba",
   "metadata": {},
   "source": [
    "Now, we can filter to keep reviews for this business alone."
   ]
  },
  {
   "cell_type": "code",
   "execution_count": 15,
   "id": "09c494bd-b398-497d-a206-576583a2e4d9",
   "metadata": {},
   "outputs": [
    {
     "data": {
      "text/html": [
       "<div>\n",
       "<style scoped>\n",
       "    .dataframe tbody tr th:only-of-type {\n",
       "        vertical-align: middle;\n",
       "    }\n",
       "\n",
       "    .dataframe tbody tr th {\n",
       "        vertical-align: top;\n",
       "    }\n",
       "\n",
       "    .dataframe thead th {\n",
       "        text-align: right;\n",
       "    }\n",
       "</style>\n",
       "<table border=\"1\" class=\"dataframe\">\n",
       "  <thead>\n",
       "    <tr style=\"text-align: right;\">\n",
       "      <th></th>\n",
       "      <th>business_id</th>\n",
       "      <th>date</th>\n",
       "      <th>text</th>\n",
       "      <th>stars</th>\n",
       "      <th>language</th>\n",
       "    </tr>\n",
       "    <tr>\n",
       "      <th>review_id</th>\n",
       "      <th></th>\n",
       "      <th></th>\n",
       "      <th></th>\n",
       "      <th></th>\n",
       "      <th></th>\n",
       "    </tr>\n",
       "  </thead>\n",
       "  <tbody>\n",
       "    <tr>\n",
       "      <th>laTog6hwC5yAIWemC_jHfA</th>\n",
       "      <td>EtM079Cj7-B3G7jPsGYb_Q</td>\n",
       "      <td>2015-01-31 12:15:07</td>\n",
       "      <td>Awesome Mexican spot! The outdoor patio at night is live and full of action. Good music and great lighting with plenty of people having a great time. I do not remember what we ordered here because it was a few months ago but it was good and I kno...</td>\n",
       "      <td>4</td>\n",
       "      <td>en</td>\n",
       "    </tr>\n",
       "    <tr>\n",
       "      <th>78BMrY9uWMnqo34zYj9B6g</th>\n",
       "      <td>EtM079Cj7-B3G7jPsGYb_Q</td>\n",
       "      <td>2015-02-27 04:10:53</td>\n",
       "      <td>We randomly popped into the Sandbar after spending the morning shopping in Santa Barbara and we were completely blown away!  Let's start with the staff - each person with whom we had contact was happy to be there, engaging, and friendly.  What a ...</td>\n",
       "      <td>5</td>\n",
       "      <td>en</td>\n",
       "    </tr>\n",
       "    <tr>\n",
       "      <th>DwVApGXXWAPBVCO6LtMG8Q</th>\n",
       "      <td>EtM079Cj7-B3G7jPsGYb_Q</td>\n",
       "      <td>2015-02-27 20:31:45</td>\n",
       "      <td>This place has really turned itself around over the years. I just noticed my bad review from 2009 and felt I should update now that the place is run completely differently. The food is now excellent and the staff courteous.</td>\n",
       "      <td>5</td>\n",
       "      <td>en</td>\n",
       "    </tr>\n",
       "    <tr>\n",
       "      <th>J64FTyafTlA5Ct4LwHYg2g</th>\n",
       "      <td>EtM079Cj7-B3G7jPsGYb_Q</td>\n",
       "      <td>2015-02-28 04:28:55</td>\n",
       "      <td>Was pretty disappointed. Went on the opening night of there remodel, had a good time. Then went back the next night with a group of friends. They would not except my out of state ID can you believe that!! In Santa Barbara a \"tourist town\". I Had ...</td>\n",
       "      <td>1</td>\n",
       "      <td>en</td>\n",
       "    </tr>\n",
       "    <tr>\n",
       "      <th>ey05cLREtcvj2dxtJFWeFw</th>\n",
       "      <td>EtM079Cj7-B3G7jPsGYb_Q</td>\n",
       "      <td>2015-02-28 21:05:22</td>\n",
       "      <td>Not bad for the price or location. The sauces weren't that good or flavorful. My friend got the mole and it looked pretty awful. She actually scraped the sauce off. They did have a decent selection of vegetarian options though.</td>\n",
       "      <td>3</td>\n",
       "      <td>en</td>\n",
       "    </tr>\n",
       "    <tr>\n",
       "      <th>...</th>\n",
       "      <td>...</td>\n",
       "      <td>...</td>\n",
       "      <td>...</td>\n",
       "      <td>...</td>\n",
       "      <td>...</td>\n",
       "    </tr>\n",
       "    <tr>\n",
       "      <th>Y2fAC-48ze0q5P-uMbTbEg</th>\n",
       "      <td>EtM079Cj7-B3G7jPsGYb_Q</td>\n",
       "      <td>2018-12-25 22:04:08</td>\n",
       "      <td>Hands down the best steak fajitas this native Angelena has ever had. Fun vibe, cozy, and delicious salsa. Would love to come back for happy hour next time I'm in Santa Barbara!</td>\n",
       "      <td>5</td>\n",
       "      <td>en</td>\n",
       "    </tr>\n",
       "    <tr>\n",
       "      <th>1n_mhEnQNnnGdYJvPJgXhw</th>\n",
       "      <td>EtM079Cj7-B3G7jPsGYb_Q</td>\n",
       "      <td>2018-12-27 01:58:23</td>\n",
       "      <td>Came here on Christmas Day (thank god they were open). Ordered the Carne Asada and Grilled Relleno . The steak was over cooked (outer pieces), but taste decent, chili with cheese was okay, and portion was small. \\n\\nThe service was super duper sl...</td>\n",
       "      <td>3</td>\n",
       "      <td>en</td>\n",
       "    </tr>\n",
       "    <tr>\n",
       "      <th>LJcDXfNjLYsMEa99z6A_QQ</th>\n",
       "      <td>EtM079Cj7-B3G7jPsGYb_Q</td>\n",
       "      <td>2018-12-29 01:54:25</td>\n",
       "      <td>Happy hour menu and prices are great!  Service is awesome.  Allows small dogs.  Food portions are pretty big.  Left stuffed and happy.</td>\n",
       "      <td>5</td>\n",
       "      <td>en</td>\n",
       "    </tr>\n",
       "    <tr>\n",
       "      <th>pFJm4K6BO88ViNiP3oBrig</th>\n",
       "      <td>EtM079Cj7-B3G7jPsGYb_Q</td>\n",
       "      <td>2018-12-29 19:34:37</td>\n",
       "      <td>Delicious breakfast options... lots of food for only $6.99.  I ordered option 2 scrambled eggs, macadamia nut pancakes, potato's, and bacon.  Delicious Bloody Mary. The guacamole, salsa and chips are also delicious.  The indoor outdoor seating is...</td>\n",
       "      <td>4</td>\n",
       "      <td>en</td>\n",
       "    </tr>\n",
       "    <tr>\n",
       "      <th>Jhn6iZxouYdEfY5ICePHTw</th>\n",
       "      <td>EtM079Cj7-B3G7jPsGYb_Q</td>\n",
       "      <td>2018-12-29 22:30:58</td>\n",
       "      <td>We went to this restaurant on Christmas day , almost every where was closed . We had just few options for the lunch , we got our table in 10 minutes.  service was really good and fast.</td>\n",
       "      <td>5</td>\n",
       "      <td>en</td>\n",
       "    </tr>\n",
       "  </tbody>\n",
       "</table>\n",
       "<p>603 rows × 5 columns</p>\n",
       "</div>"
      ],
      "text/plain": [
       "                                   business_id                 date  \\\n",
       "review_id                                                             \n",
       "laTog6hwC5yAIWemC_jHfA  EtM079Cj7-B3G7jPsGYb_Q  2015-01-31 12:15:07   \n",
       "78BMrY9uWMnqo34zYj9B6g  EtM079Cj7-B3G7jPsGYb_Q  2015-02-27 04:10:53   \n",
       "DwVApGXXWAPBVCO6LtMG8Q  EtM079Cj7-B3G7jPsGYb_Q  2015-02-27 20:31:45   \n",
       "J64FTyafTlA5Ct4LwHYg2g  EtM079Cj7-B3G7jPsGYb_Q  2015-02-28 04:28:55   \n",
       "ey05cLREtcvj2dxtJFWeFw  EtM079Cj7-B3G7jPsGYb_Q  2015-02-28 21:05:22   \n",
       "...                                        ...                  ...   \n",
       "Y2fAC-48ze0q5P-uMbTbEg  EtM079Cj7-B3G7jPsGYb_Q  2018-12-25 22:04:08   \n",
       "1n_mhEnQNnnGdYJvPJgXhw  EtM079Cj7-B3G7jPsGYb_Q  2018-12-27 01:58:23   \n",
       "LJcDXfNjLYsMEa99z6A_QQ  EtM079Cj7-B3G7jPsGYb_Q  2018-12-29 01:54:25   \n",
       "pFJm4K6BO88ViNiP3oBrig  EtM079Cj7-B3G7jPsGYb_Q  2018-12-29 19:34:37   \n",
       "Jhn6iZxouYdEfY5ICePHTw  EtM079Cj7-B3G7jPsGYb_Q  2018-12-29 22:30:58   \n",
       "\n",
       "                                                                                                                                                                                                                                                                             text  \\\n",
       "review_id                                                                                                                                                                                                                                                                           \n",
       "laTog6hwC5yAIWemC_jHfA  Awesome Mexican spot! The outdoor patio at night is live and full of action. Good music and great lighting with plenty of people having a great time. I do not remember what we ordered here because it was a few months ago but it was good and I kno...   \n",
       "78BMrY9uWMnqo34zYj9B6g  We randomly popped into the Sandbar after spending the morning shopping in Santa Barbara and we were completely blown away!  Let's start with the staff - each person with whom we had contact was happy to be there, engaging, and friendly.  What a ...   \n",
       "DwVApGXXWAPBVCO6LtMG8Q                            This place has really turned itself around over the years. I just noticed my bad review from 2009 and felt I should update now that the place is run completely differently. The food is now excellent and the staff courteous.   \n",
       "J64FTyafTlA5Ct4LwHYg2g  Was pretty disappointed. Went on the opening night of there remodel, had a good time. Then went back the next night with a group of friends. They would not except my out of state ID can you believe that!! In Santa Barbara a \"tourist town\". I Had ...   \n",
       "ey05cLREtcvj2dxtJFWeFw                        Not bad for the price or location. The sauces weren't that good or flavorful. My friend got the mole and it looked pretty awful. She actually scraped the sauce off. They did have a decent selection of vegetarian options though.   \n",
       "...                                                                                                                                                                                                                                                                           ...   \n",
       "Y2fAC-48ze0q5P-uMbTbEg                                                                           Hands down the best steak fajitas this native Angelena has ever had. Fun vibe, cozy, and delicious salsa. Would love to come back for happy hour next time I'm in Santa Barbara!   \n",
       "1n_mhEnQNnnGdYJvPJgXhw  Came here on Christmas Day (thank god they were open). Ordered the Carne Asada and Grilled Relleno . The steak was over cooked (outer pieces), but taste decent, chili with cheese was okay, and portion was small. \\n\\nThe service was super duper sl...   \n",
       "LJcDXfNjLYsMEa99z6A_QQ                                                                                                                     Happy hour menu and prices are great!  Service is awesome.  Allows small dogs.  Food portions are pretty big.  Left stuffed and happy.   \n",
       "pFJm4K6BO88ViNiP3oBrig  Delicious breakfast options... lots of food for only $6.99.  I ordered option 2 scrambled eggs, macadamia nut pancakes, potato's, and bacon.  Delicious Bloody Mary. The guacamole, salsa and chips are also delicious.  The indoor outdoor seating is...   \n",
       "Jhn6iZxouYdEfY5ICePHTw                                                                   We went to this restaurant on Christmas day , almost every where was closed . We had just few options for the lunch , we got our table in 10 minutes.  service was really good and fast.   \n",
       "\n",
       "                        stars language  \n",
       "review_id                               \n",
       "laTog6hwC5yAIWemC_jHfA      4       en  \n",
       "78BMrY9uWMnqo34zYj9B6g      5       en  \n",
       "DwVApGXXWAPBVCO6LtMG8Q      5       en  \n",
       "J64FTyafTlA5Ct4LwHYg2g      1       en  \n",
       "ey05cLREtcvj2dxtJFWeFw      3       en  \n",
       "...                       ...      ...  \n",
       "Y2fAC-48ze0q5P-uMbTbEg      5       en  \n",
       "1n_mhEnQNnnGdYJvPJgXhw      3       en  \n",
       "LJcDXfNjLYsMEa99z6A_QQ      5       en  \n",
       "pFJm4K6BO88ViNiP3oBrig      4       en  \n",
       "Jhn6iZxouYdEfY5ICePHTw      5       en  \n",
       "\n",
       "[603 rows x 5 columns]"
      ]
     },
     "execution_count": 15,
     "metadata": {},
     "output_type": "execute_result"
    }
   ],
   "source": [
    "# Keep reviews for the selected business\n",
    "reviews = df.loc[ df['business_id']==business_id]\n",
    "reviews"
   ]
  },
  {
   "cell_type": "markdown",
   "id": "735ccfa3-2cd5-4e99-92cc-0f25877303b9",
   "metadata": {},
   "source": [
    "There are 603 reviews for the selected business.\n",
    "\n",
    "Let's take a look at the first one."
   ]
  },
  {
   "cell_type": "code",
   "execution_count": 16,
   "id": "f6b71518-cdfa-4f56-9eec-e34b260921e6",
   "metadata": {},
   "outputs": [
    {
     "data": {
      "text/plain": [
       "'Awesome Mexican spot! The outdoor patio at night is live and full of action. Good music and great lighting with plenty of people having a great time. I do not remember what we ordered here because it was a few months ago but it was good and I know we would go back next time we are in town!'"
      ]
     },
     "execution_count": 16,
     "metadata": {},
     "output_type": "execute_result"
    }
   ],
   "source": [
    "# View a sample review\n",
    "sample_review = reviews.iloc[0]\n",
    "sample_review['text']"
   ]
  },
  {
   "cell_type": "markdown",
   "id": "6dd7ee7f-6de0-48ca-aef0-f9176234dd1f",
   "metadata": {},
   "source": [
    "### Defining the Groups"
   ]
  },
  {
   "cell_type": "code",
   "execution_count": 17,
   "id": "c7489083-a9d0-40ea-9ba3-0ede541a7e3c",
   "metadata": {},
   "outputs": [
    {
     "data": {
      "image/png": "[encoded data removed]",
      "text/plain": [
       "<Figure size 640x480 with 1 Axes>"
      ]
     },
     "metadata": {},
     "output_type": "display_data"
    }
   ],
   "source": [
    "# How many of each star rating?\n",
    "sns.countplot(data = reviews, x = 'stars');"
   ]
  },
  {
   "cell_type": "markdown",
   "id": "71791097-fc0d-4e5d-bdad-ca4cb43eb98c",
   "metadata": {},
   "source": [
    "We are interested in comparing the lowest and highest reviews. We will limit our data to reviews with 1 or 5 stars."
   ]
  },
  {
   "cell_type": "code",
   "execution_count": 18,
   "id": "91363814-6765-45d2-9fc7-383e1cf2b1e3",
   "metadata": {},
   "outputs": [
    {
     "data": {
      "text/html": [
       "<div>\n",
       "<style scoped>\n",
       "    .dataframe tbody tr th:only-of-type {\n",
       "        vertical-align: middle;\n",
       "    }\n",
       "\n",
       "    .dataframe tbody tr th {\n",
       "        vertical-align: top;\n",
       "    }\n",
       "\n",
       "    .dataframe thead th {\n",
       "        text-align: right;\n",
       "    }\n",
       "</style>\n",
       "<table border=\"1\" class=\"dataframe\">\n",
       "  <thead>\n",
       "    <tr style=\"text-align: right;\">\n",
       "      <th></th>\n",
       "      <th>business_id</th>\n",
       "      <th>date</th>\n",
       "      <th>text</th>\n",
       "      <th>stars</th>\n",
       "      <th>language</th>\n",
       "    </tr>\n",
       "    <tr>\n",
       "      <th>review_id</th>\n",
       "      <th></th>\n",
       "      <th></th>\n",
       "      <th></th>\n",
       "      <th></th>\n",
       "      <th></th>\n",
       "    </tr>\n",
       "  </thead>\n",
       "  <tbody>\n",
       "    <tr>\n",
       "      <th>78BMrY9uWMnqo34zYj9B6g</th>\n",
       "      <td>EtM079Cj7-B3G7jPsGYb_Q</td>\n",
       "      <td>2015-02-27 04:10:53</td>\n",
       "      <td>We randomly popped into the Sandbar after spending the morning shopping in Santa Barbara and we were completely blown away!  Let's start with the staff - each person with whom we had contact was happy to be there, engaging, and friendly.  What a ...</td>\n",
       "      <td>5</td>\n",
       "      <td>en</td>\n",
       "    </tr>\n",
       "    <tr>\n",
       "      <th>DwVApGXXWAPBVCO6LtMG8Q</th>\n",
       "      <td>EtM079Cj7-B3G7jPsGYb_Q</td>\n",
       "      <td>2015-02-27 20:31:45</td>\n",
       "      <td>This place has really turned itself around over the years. I just noticed my bad review from 2009 and felt I should update now that the place is run completely differently. The food is now excellent and the staff courteous.</td>\n",
       "      <td>5</td>\n",
       "      <td>en</td>\n",
       "    </tr>\n",
       "    <tr>\n",
       "      <th>J64FTyafTlA5Ct4LwHYg2g</th>\n",
       "      <td>EtM079Cj7-B3G7jPsGYb_Q</td>\n",
       "      <td>2015-02-28 04:28:55</td>\n",
       "      <td>Was pretty disappointed. Went on the opening night of there remodel, had a good time. Then went back the next night with a group of friends. They would not except my out of state ID can you believe that!! In Santa Barbara a \"tourist town\". I Had ...</td>\n",
       "      <td>1</td>\n",
       "      <td>en</td>\n",
       "    </tr>\n",
       "    <tr>\n",
       "      <th>5LtZZGB1dCHZswuEu7PFwQ</th>\n",
       "      <td>EtM079Cj7-B3G7jPsGYb_Q</td>\n",
       "      <td>2015-02-28 23:47:01</td>\n",
       "      <td>Best Mexican grill and bar in Santa Barbara. Our server Lillian was the very best, Will definitely come again. Already planning breakfast tomorrow morning!</td>\n",
       "      <td>5</td>\n",
       "      <td>en</td>\n",
       "    </tr>\n",
       "    <tr>\n",
       "      <th>VPWNyhR3DeNfu8cmzPU7HQ</th>\n",
       "      <td>EtM079Cj7-B3G7jPsGYb_Q</td>\n",
       "      <td>2015-03-15 19:55:55</td>\n",
       "      <td>This has to be the worse service. Got seated right away and then sat and waited. No one even acknowledged we were here for a good 15 min. Then another couple was seated near us. They got asked for drinks and food order before we were even acknowl...</td>\n",
       "      <td>1</td>\n",
       "      <td>en</td>\n",
       "    </tr>\n",
       "    <tr>\n",
       "      <th>...</th>\n",
       "      <td>...</td>\n",
       "      <td>...</td>\n",
       "      <td>...</td>\n",
       "      <td>...</td>\n",
       "      <td>...</td>\n",
       "    </tr>\n",
       "    <tr>\n",
       "      <th>IgCV2QnCQdheaTM8e9Un3w</th>\n",
       "      <td>EtM079Cj7-B3G7jPsGYb_Q</td>\n",
       "      <td>2018-12-18 03:07:20</td>\n",
       "      <td>Went on 12/13/18 with a group of friends and ordered \"the nachos\". Once we got the nachos mid way through we found about 3 pieces of paper which looked like straw covers. Manager has no empathy to this situation. Absolutely unnecessary and disgus...</td>\n",
       "      <td>1</td>\n",
       "      <td>en</td>\n",
       "    </tr>\n",
       "    <tr>\n",
       "      <th>f4xpggDD1X2AQdaG2eqGiw</th>\n",
       "      <td>EtM079Cj7-B3G7jPsGYb_Q</td>\n",
       "      <td>2018-12-24 22:28:57</td>\n",
       "      <td>This is a really cool place. Santa Barbara has a bunch of nice places to eat and I can definitely recommend that this place is one of them. Our server was super cool, very easy to talk to and took care of everything we ordered. It also was pretty...</td>\n",
       "      <td>5</td>\n",
       "      <td>en</td>\n",
       "    </tr>\n",
       "    <tr>\n",
       "      <th>Y2fAC-48ze0q5P-uMbTbEg</th>\n",
       "      <td>EtM079Cj7-B3G7jPsGYb_Q</td>\n",
       "      <td>2018-12-25 22:04:08</td>\n",
       "      <td>Hands down the best steak fajitas this native Angelena has ever had. Fun vibe, cozy, and delicious salsa. Would love to come back for happy hour next time I'm in Santa Barbara!</td>\n",
       "      <td>5</td>\n",
       "      <td>en</td>\n",
       "    </tr>\n",
       "    <tr>\n",
       "      <th>LJcDXfNjLYsMEa99z6A_QQ</th>\n",
       "      <td>EtM079Cj7-B3G7jPsGYb_Q</td>\n",
       "      <td>2018-12-29 01:54:25</td>\n",
       "      <td>Happy hour menu and prices are great!  Service is awesome.  Allows small dogs.  Food portions are pretty big.  Left stuffed and happy.</td>\n",
       "      <td>5</td>\n",
       "      <td>en</td>\n",
       "    </tr>\n",
       "    <tr>\n",
       "      <th>Jhn6iZxouYdEfY5ICePHTw</th>\n",
       "      <td>EtM079Cj7-B3G7jPsGYb_Q</td>\n",
       "      <td>2018-12-29 22:30:58</td>\n",
       "      <td>We went to this restaurant on Christmas day , almost every where was closed . We had just few options for the lunch , we got our table in 10 minutes.  service was really good and fast.</td>\n",
       "      <td>5</td>\n",
       "      <td>en</td>\n",
       "    </tr>\n",
       "  </tbody>\n",
       "</table>\n",
       "<p>379 rows × 5 columns</p>\n",
       "</div>"
      ],
      "text/plain": [
       "                                   business_id                 date  \\\n",
       "review_id                                                             \n",
       "78BMrY9uWMnqo34zYj9B6g  EtM079Cj7-B3G7jPsGYb_Q  2015-02-27 04:10:53   \n",
       "DwVApGXXWAPBVCO6LtMG8Q  EtM079Cj7-B3G7jPsGYb_Q  2015-02-27 20:31:45   \n",
       "J64FTyafTlA5Ct4LwHYg2g  EtM079Cj7-B3G7jPsGYb_Q  2015-02-28 04:28:55   \n",
       "5LtZZGB1dCHZswuEu7PFwQ  EtM079Cj7-B3G7jPsGYb_Q  2015-02-28 23:47:01   \n",
       "VPWNyhR3DeNfu8cmzPU7HQ  EtM079Cj7-B3G7jPsGYb_Q  2015-03-15 19:55:55   \n",
       "...                                        ...                  ...   \n",
       "IgCV2QnCQdheaTM8e9Un3w  EtM079Cj7-B3G7jPsGYb_Q  2018-12-18 03:07:20   \n",
       "f4xpggDD1X2AQdaG2eqGiw  EtM079Cj7-B3G7jPsGYb_Q  2018-12-24 22:28:57   \n",
       "Y2fAC-48ze0q5P-uMbTbEg  EtM079Cj7-B3G7jPsGYb_Q  2018-12-25 22:04:08   \n",
       "LJcDXfNjLYsMEa99z6A_QQ  EtM079Cj7-B3G7jPsGYb_Q  2018-12-29 01:54:25   \n",
       "Jhn6iZxouYdEfY5ICePHTw  EtM079Cj7-B3G7jPsGYb_Q  2018-12-29 22:30:58   \n",
       "\n",
       "                                                                                                                                                                                                                                                                             text  \\\n",
       "review_id                                                                                                                                                                                                                                                                           \n",
       "78BMrY9uWMnqo34zYj9B6g  We randomly popped into the Sandbar after spending the morning shopping in Santa Barbara and we were completely blown away!  Let's start with the staff - each person with whom we had contact was happy to be there, engaging, and friendly.  What a ...   \n",
       "DwVApGXXWAPBVCO6LtMG8Q                            This place has really turned itself around over the years. I just noticed my bad review from 2009 and felt I should update now that the place is run completely differently. The food is now excellent and the staff courteous.   \n",
       "J64FTyafTlA5Ct4LwHYg2g  Was pretty disappointed. Went on the opening night of there remodel, had a good time. Then went back the next night with a group of friends. They would not except my out of state ID can you believe that!! In Santa Barbara a \"tourist town\". I Had ...   \n",
       "5LtZZGB1dCHZswuEu7PFwQ                                                                                                Best Mexican grill and bar in Santa Barbara. Our server Lillian was the very best, Will definitely come again. Already planning breakfast tomorrow morning!   \n",
       "VPWNyhR3DeNfu8cmzPU7HQ  This has to be the worse service. Got seated right away and then sat and waited. No one even acknowledged we were here for a good 15 min. Then another couple was seated near us. They got asked for drinks and food order before we were even acknowl...   \n",
       "...                                                                                                                                                                                                                                                                           ...   \n",
       "IgCV2QnCQdheaTM8e9Un3w  Went on 12/13/18 with a group of friends and ordered \"the nachos\". Once we got the nachos mid way through we found about 3 pieces of paper which looked like straw covers. Manager has no empathy to this situation. Absolutely unnecessary and disgus...   \n",
       "f4xpggDD1X2AQdaG2eqGiw  This is a really cool place. Santa Barbara has a bunch of nice places to eat and I can definitely recommend that this place is one of them. Our server was super cool, very easy to talk to and took care of everything we ordered. It also was pretty...   \n",
       "Y2fAC-48ze0q5P-uMbTbEg                                                                           Hands down the best steak fajitas this native Angelena has ever had. Fun vibe, cozy, and delicious salsa. Would love to come back for happy hour next time I'm in Santa Barbara!   \n",
       "LJcDXfNjLYsMEa99z6A_QQ                                                                                                                     Happy hour menu and prices are great!  Service is awesome.  Allows small dogs.  Food portions are pretty big.  Left stuffed and happy.   \n",
       "Jhn6iZxouYdEfY5ICePHTw                                                                   We went to this restaurant on Christmas day , almost every where was closed . We had just few options for the lunch , we got our table in 10 minutes.  service was really good and fast.   \n",
       "\n",
       "                        stars language  \n",
       "review_id                               \n",
       "78BMrY9uWMnqo34zYj9B6g      5       en  \n",
       "DwVApGXXWAPBVCO6LtMG8Q      5       en  \n",
       "J64FTyafTlA5Ct4LwHYg2g      1       en  \n",
       "5LtZZGB1dCHZswuEu7PFwQ      5       en  \n",
       "VPWNyhR3DeNfu8cmzPU7HQ      1       en  \n",
       "...                       ...      ...  \n",
       "IgCV2QnCQdheaTM8e9Un3w      1       en  \n",
       "f4xpggDD1X2AQdaG2eqGiw      5       en  \n",
       "Y2fAC-48ze0q5P-uMbTbEg      5       en  \n",
       "LJcDXfNjLYsMEa99z6A_QQ      5       en  \n",
       "Jhn6iZxouYdEfY5ICePHTw      5       en  \n",
       "\n",
       "[379 rows x 5 columns]"
      ]
     },
     "execution_count": 18,
     "metadata": {},
     "output_type": "execute_result"
    }
   ],
   "source": [
    "# Limit data to only 1 and 5 star reviews\n",
    "reviews = reviews[reviews['stars'].isin([1,5])]\n",
    "reviews"
   ]
  },
  {
   "cell_type": "markdown",
   "id": "28347d7c-b879-4c76-b8fb-ee4a1b857905",
   "metadata": {},
   "source": [
    "Check the languages column."
   ]
  },
  {
   "cell_type": "code",
   "execution_count": 19,
   "id": "95b5d222-f33a-4e83-8003-edcda9ad4c51",
   "metadata": {},
   "outputs": [
    {
     "data": {
      "text/plain": [
       "en    378\n",
       "de      1\n",
       "Name: language, dtype: int64"
      ]
     },
     "execution_count": 19,
     "metadata": {},
     "output_type": "execute_result"
    }
   ],
   "source": [
    "# What languages are represented?\n",
    "reviews['language'].value_counts()"
   ]
  },
  {
   "cell_type": "markdown",
   "id": "a460504b-9961-4b41-93fe-9c0bc16335a6",
   "metadata": {},
   "source": [
    "We have one non-English review that we will remove from the dataset."
   ]
  },
  {
   "cell_type": "code",
   "execution_count": 20,
   "id": "2f1defde-9534-4cfb-9f22-623991fc0312",
   "metadata": {},
   "outputs": [
    {
     "data": {
      "text/plain": [
       "en    378\n",
       "Name: language, dtype: int64"
      ]
     },
     "execution_count": 20,
     "metadata": {},
     "output_type": "execute_result"
    }
   ],
   "source": [
    "# Limit data to only English\n",
    "reviews = reviews[reviews['language']=='en']\n",
    "reviews['language'].value_counts()"
   ]
  },
  {
   "cell_type": "markdown",
   "id": "581cd81c-0381-4f55-a0ed-b6c47092e5b7",
   "metadata": {},
   "source": [
    "We have 378 reviews. We will determine how many are 1-star versus 5-star using value_counts()."
   ]
  },
  {
   "cell_type": "code",
   "execution_count": 21,
   "id": "3927455f-c388-4fc8-b75c-acc1290e5323",
   "metadata": {},
   "outputs": [
    {
     "data": {
      "text/plain": [
       "5    282\n",
       "1     96\n",
       "Name: stars, dtype: int64"
      ]
     },
     "execution_count": 21,
     "metadata": {},
     "output_type": "execute_result"
    }
   ],
   "source": [
    "# How many 1 and 5 star reviews?\n",
    "reviews['stars'].value_counts()"
   ]
  },
  {
   "cell_type": "markdown",
   "id": "f844f5f9-fde6-4042-9d5e-1b15b221bf72",
   "metadata": {},
   "source": [
    "There are 282 5-star reviews and 96 1-star reviews.\n",
    "\n",
    "Now that we have used the business_id to identify our business and the language column to filter for English, we can drop those columns. We may want to compare changes in review scores over time, so we will keep the date column for now."
   ]
  },
  {
   "cell_type": "code",
   "execution_count": 22,
   "id": "42fb4b71-93b4-48a7-9ff4-9fe923cd39a3",
   "metadata": {},
   "outputs": [
    {
     "data": {
      "text/html": [
       "<div>\n",
       "<style scoped>\n",
       "    .dataframe tbody tr th:only-of-type {\n",
       "        vertical-align: middle;\n",
       "    }\n",
       "\n",
       "    .dataframe tbody tr th {\n",
       "        vertical-align: top;\n",
       "    }\n",
       "\n",
       "    .dataframe thead th {\n",
       "        text-align: right;\n",
       "    }\n",
       "</style>\n",
       "<table border=\"1\" class=\"dataframe\">\n",
       "  <thead>\n",
       "    <tr style=\"text-align: right;\">\n",
       "      <th></th>\n",
       "      <th>date</th>\n",
       "      <th>text</th>\n",
       "      <th>stars</th>\n",
       "    </tr>\n",
       "    <tr>\n",
       "      <th>review_id</th>\n",
       "      <th></th>\n",
       "      <th></th>\n",
       "      <th></th>\n",
       "    </tr>\n",
       "  </thead>\n",
       "  <tbody>\n",
       "    <tr>\n",
       "      <th>78BMrY9uWMnqo34zYj9B6g</th>\n",
       "      <td>2015-02-27 04:10:53</td>\n",
       "      <td>We randomly popped into the Sandbar after spending the morning shopping in Santa Barbara and we were completely blown away!  Let's start with the staff - each person with whom we had contact was happy to be there, engaging, and friendly.  What a ...</td>\n",
       "      <td>5</td>\n",
       "    </tr>\n",
       "    <tr>\n",
       "      <th>DwVApGXXWAPBVCO6LtMG8Q</th>\n",
       "      <td>2015-02-27 20:31:45</td>\n",
       "      <td>This place has really turned itself around over the years. I just noticed my bad review from 2009 and felt I should update now that the place is run completely differently. The food is now excellent and the staff courteous.</td>\n",
       "      <td>5</td>\n",
       "    </tr>\n",
       "    <tr>\n",
       "      <th>J64FTyafTlA5Ct4LwHYg2g</th>\n",
       "      <td>2015-02-28 04:28:55</td>\n",
       "      <td>Was pretty disappointed. Went on the opening night of there remodel, had a good time. Then went back the next night with a group of friends. They would not except my out of state ID can you believe that!! In Santa Barbara a \"tourist town\". I Had ...</td>\n",
       "      <td>1</td>\n",
       "    </tr>\n",
       "    <tr>\n",
       "      <th>5LtZZGB1dCHZswuEu7PFwQ</th>\n",
       "      <td>2015-02-28 23:47:01</td>\n",
       "      <td>Best Mexican grill and bar in Santa Barbara. Our server Lillian was the very best, Will definitely come again. Already planning breakfast tomorrow morning!</td>\n",
       "      <td>5</td>\n",
       "    </tr>\n",
       "    <tr>\n",
       "      <th>VPWNyhR3DeNfu8cmzPU7HQ</th>\n",
       "      <td>2015-03-15 19:55:55</td>\n",
       "      <td>This has to be the worse service. Got seated right away and then sat and waited. No one even acknowledged we were here for a good 15 min. Then another couple was seated near us. They got asked for drinks and food order before we were even acknowl...</td>\n",
       "      <td>1</td>\n",
       "    </tr>\n",
       "  </tbody>\n",
       "</table>\n",
       "</div>"
      ],
      "text/plain": [
       "                                      date  \\\n",
       "review_id                                    \n",
       "78BMrY9uWMnqo34zYj9B6g 2015-02-27 04:10:53   \n",
       "DwVApGXXWAPBVCO6LtMG8Q 2015-02-27 20:31:45   \n",
       "J64FTyafTlA5Ct4LwHYg2g 2015-02-28 04:28:55   \n",
       "5LtZZGB1dCHZswuEu7PFwQ 2015-02-28 23:47:01   \n",
       "VPWNyhR3DeNfu8cmzPU7HQ 2015-03-15 19:55:55   \n",
       "\n",
       "                                                                                                                                                                                                                                                                             text  \\\n",
       "review_id                                                                                                                                                                                                                                                                           \n",
       "78BMrY9uWMnqo34zYj9B6g  We randomly popped into the Sandbar after spending the morning shopping in Santa Barbara and we were completely blown away!  Let's start with the staff - each person with whom we had contact was happy to be there, engaging, and friendly.  What a ...   \n",
       "DwVApGXXWAPBVCO6LtMG8Q                            This place has really turned itself around over the years. I just noticed my bad review from 2009 and felt I should update now that the place is run completely differently. The food is now excellent and the staff courteous.   \n",
       "J64FTyafTlA5Ct4LwHYg2g  Was pretty disappointed. Went on the opening night of there remodel, had a good time. Then went back the next night with a group of friends. They would not except my out of state ID can you believe that!! In Santa Barbara a \"tourist town\". I Had ...   \n",
       "5LtZZGB1dCHZswuEu7PFwQ                                                                                                Best Mexican grill and bar in Santa Barbara. Our server Lillian was the very best, Will definitely come again. Already planning breakfast tomorrow morning!   \n",
       "VPWNyhR3DeNfu8cmzPU7HQ  This has to be the worse service. Got seated right away and then sat and waited. No one even acknowledged we were here for a good 15 min. Then another couple was seated near us. They got asked for drinks and food order before we were even acknowl...   \n",
       "\n",
       "                        stars  \n",
       "review_id                      \n",
       "78BMrY9uWMnqo34zYj9B6g      5  \n",
       "DwVApGXXWAPBVCO6LtMG8Q      5  \n",
       "J64FTyafTlA5Ct4LwHYg2g      1  \n",
       "5LtZZGB1dCHZswuEu7PFwQ      5  \n",
       "VPWNyhR3DeNfu8cmzPU7HQ      1  "
      ]
     },
     "execution_count": 22,
     "metadata": {},
     "output_type": "execute_result"
    }
   ],
   "source": [
    "# Drop business_id and language\n",
    "reviews = reviews.drop(columns=['business_id', 'language'])\n",
    "# Make data a datetime object\n",
    "reviews['date'] = pd.to_datetime(reviews['date'])\n",
    "reviews.head()"
   ]
  },
  {
   "cell_type": "markdown",
   "id": "89bc19c1-5859-47b5-8229-73bdc2d67776",
   "metadata": {},
   "source": [
    "### Preprocessing Pipeline"
   ]
  },
  {
   "cell_type": "markdown",
   "id": "8ed4efd6-7fb8-49a5-b3a1-1f3747e4698c",
   "metadata": {},
   "source": [
    "We will load the nlp pipeline with \"parser\" and \"ner\" disabled since we will not need those steps."
   ]
  },
  {
   "cell_type": "code",
   "execution_count": 23,
   "id": "950d0cd5-8c85-47dc-9486-92162d8ef461",
   "metadata": {},
   "outputs": [
    {
     "data": {
      "text/plain": [
       "['tok2vec', 'tagger', 'attribute_ruler', 'lemmatizer']"
      ]
     },
     "execution_count": 23,
     "metadata": {},
     "output_type": "execute_result"
    }
   ],
   "source": [
    "import spacy\n",
    "# Disable parser and ner\n",
    "nlp_light = spacy.load(\"en_core_web_sm\", disable=['parser','ner'])\n",
    "# Print active components\n",
    "nlp_light.pipe_names"
   ]
  },
  {
   "cell_type": "markdown",
   "id": "2026b2bb-bdeb-4dd8-acfd-3c5e321590d2",
   "metadata": {},
   "source": [
    "Now, we will add a column to the dataframe for the tokens. We will call our custom batch_preprocess_texts function within a lambda function to apply it to each review."
   ]
  },
  {
   "cell_type": "code",
   "execution_count": 24,
   "id": "2368801a-d27e-4e44-aeb6-6a3395ac0327",
   "metadata": {},
   "outputs": [
    {
     "name": "stderr",
     "output_type": "stream",
     "text": [
      "378it [00:20, 18.30it/s]\n"
     ]
    },
    {
     "data": {
      "text/html": [
       "<div>\n",
       "<style scoped>\n",
       "    .dataframe tbody tr th:only-of-type {\n",
       "        vertical-align: middle;\n",
       "    }\n",
       "\n",
       "    .dataframe tbody tr th {\n",
       "        vertical-align: top;\n",
       "    }\n",
       "\n",
       "    .dataframe thead th {\n",
       "        text-align: right;\n",
       "    }\n",
       "</style>\n",
       "<table border=\"1\" class=\"dataframe\">\n",
       "  <thead>\n",
       "    <tr style=\"text-align: right;\">\n",
       "      <th></th>\n",
       "      <th>date</th>\n",
       "      <th>text</th>\n",
       "      <th>stars</th>\n",
       "      <th>tokens</th>\n",
       "    </tr>\n",
       "    <tr>\n",
       "      <th>review_id</th>\n",
       "      <th></th>\n",
       "      <th></th>\n",
       "      <th></th>\n",
       "      <th></th>\n",
       "    </tr>\n",
       "  </thead>\n",
       "  <tbody>\n",
       "    <tr>\n",
       "      <th>78BMrY9uWMnqo34zYj9B6g</th>\n",
       "      <td>2015-02-27 04:10:53</td>\n",
       "      <td>We randomly popped into the Sandbar after spending the morning shopping in Santa Barbara and we were completely blown away!  Let's start with the staff - each person with whom we had contact was happy to be there, engaging, and friendly.  What a ...</td>\n",
       "      <td>5</td>\n",
       "      <td>[randomly, popped, sandbar, spending, morning, shopping, santa, barbara, completely, blown, away, let, start, staff, person, contact, happy, engaging, friendly, great, start, experience, ordered, tacos, happier, ordered, grilled, veggie, tacos, s...</td>\n",
       "    </tr>\n",
       "    <tr>\n",
       "      <th>DwVApGXXWAPBVCO6LtMG8Q</th>\n",
       "      <td>2015-02-27 20:31:45</td>\n",
       "      <td>This place has really turned itself around over the years. I just noticed my bad review from 2009 and felt I should update now that the place is run completely differently. The food is now excellent and the staff courteous.</td>\n",
       "      <td>5</td>\n",
       "      <td>[place, turned, years, noticed, bad, review, 2009, felt, update, place, run, completely, differently, food, excellent, staff, courteous]</td>\n",
       "    </tr>\n",
       "    <tr>\n",
       "      <th>J64FTyafTlA5Ct4LwHYg2g</th>\n",
       "      <td>2015-02-28 04:28:55</td>\n",
       "      <td>Was pretty disappointed. Went on the opening night of there remodel, had a good time. Then went back the next night with a group of friends. They would not except my out of state ID can you believe that!! In Santa Barbara a \"tourist town\". I Had ...</td>\n",
       "      <td>1</td>\n",
       "      <td>[pretty, disappointed, went, opening, night, remodel, good, time, went, night, group, friends, state, id, believe, santa, barbara, tourist, town, going, years, issue, az, id, gave, credit, card, california, sales, license, work, license, good, 25...</td>\n",
       "    </tr>\n",
       "    <tr>\n",
       "      <th>5LtZZGB1dCHZswuEu7PFwQ</th>\n",
       "      <td>2015-02-28 23:47:01</td>\n",
       "      <td>Best Mexican grill and bar in Santa Barbara. Our server Lillian was the very best, Will definitely come again. Already planning breakfast tomorrow morning!</td>\n",
       "      <td>5</td>\n",
       "      <td>[best, mexican, grill, bar, santa, barbara, server, lillian, best, definitely, come, planning, breakfast, tomorrow, morning]</td>\n",
       "    </tr>\n",
       "    <tr>\n",
       "      <th>VPWNyhR3DeNfu8cmzPU7HQ</th>\n",
       "      <td>2015-03-15 19:55:55</td>\n",
       "      <td>This has to be the worse service. Got seated right away and then sat and waited. No one even acknowledged we were here for a good 15 min. Then another couple was seated near us. They got asked for drinks and food order before we were even acknowl...</td>\n",
       "      <td>1</td>\n",
       "      <td>[worse, service, got, seated, right, away, sat, waited, acknowledged, good, 15, min, couple, seated, near, got, asked, drinks, food, order, acknowledged, finally, waiter, came, took, order, left, got, chips, finished, waiter, asked, wanted, said,...</td>\n",
       "    </tr>\n",
       "  </tbody>\n",
       "</table>\n",
       "</div>"
      ],
      "text/plain": [
       "                                      date  \\\n",
       "review_id                                    \n",
       "78BMrY9uWMnqo34zYj9B6g 2015-02-27 04:10:53   \n",
       "DwVApGXXWAPBVCO6LtMG8Q 2015-02-27 20:31:45   \n",
       "J64FTyafTlA5Ct4LwHYg2g 2015-02-28 04:28:55   \n",
       "5LtZZGB1dCHZswuEu7PFwQ 2015-02-28 23:47:01   \n",
       "VPWNyhR3DeNfu8cmzPU7HQ 2015-03-15 19:55:55   \n",
       "\n",
       "                                                                                                                                                                                                                                                                             text  \\\n",
       "review_id                                                                                                                                                                                                                                                                           \n",
       "78BMrY9uWMnqo34zYj9B6g  We randomly popped into the Sandbar after spending the morning shopping in Santa Barbara and we were completely blown away!  Let's start with the staff - each person with whom we had contact was happy to be there, engaging, and friendly.  What a ...   \n",
       "DwVApGXXWAPBVCO6LtMG8Q                            This place has really turned itself around over the years. I just noticed my bad review from 2009 and felt I should update now that the place is run completely differently. The food is now excellent and the staff courteous.   \n",
       "J64FTyafTlA5Ct4LwHYg2g  Was pretty disappointed. Went on the opening night of there remodel, had a good time. Then went back the next night with a group of friends. They would not except my out of state ID can you believe that!! In Santa Barbara a \"tourist town\". I Had ...   \n",
       "5LtZZGB1dCHZswuEu7PFwQ                                                                                                Best Mexican grill and bar in Santa Barbara. Our server Lillian was the very best, Will definitely come again. Already planning breakfast tomorrow morning!   \n",
       "VPWNyhR3DeNfu8cmzPU7HQ  This has to be the worse service. Got seated right away and then sat and waited. No one even acknowledged we were here for a good 15 min. Then another couple was seated near us. They got asked for drinks and food order before we were even acknowl...   \n",
       "\n",
       "                        stars  \\\n",
       "review_id                       \n",
       "78BMrY9uWMnqo34zYj9B6g      5   \n",
       "DwVApGXXWAPBVCO6LtMG8Q      5   \n",
       "J64FTyafTlA5Ct4LwHYg2g      1   \n",
       "5LtZZGB1dCHZswuEu7PFwQ      5   \n",
       "VPWNyhR3DeNfu8cmzPU7HQ      1   \n",
       "\n",
       "                                                                                                                                                                                                                                                                           tokens  \n",
       "review_id                                                                                                                                                                                                                                                                          \n",
       "78BMrY9uWMnqo34zYj9B6g  [randomly, popped, sandbar, spending, morning, shopping, santa, barbara, completely, blown, away, let, start, staff, person, contact, happy, engaging, friendly, great, start, experience, ordered, tacos, happier, ordered, grilled, veggie, tacos, s...  \n",
       "DwVApGXXWAPBVCO6LtMG8Q                                                                                                                   [place, turned, years, noticed, bad, review, 2009, felt, update, place, run, completely, differently, food, excellent, staff, courteous]  \n",
       "J64FTyafTlA5Ct4LwHYg2g  [pretty, disappointed, went, opening, night, remodel, good, time, went, night, group, friends, state, id, believe, santa, barbara, tourist, town, going, years, issue, az, id, gave, credit, card, california, sales, license, work, license, good, 25...  \n",
       "5LtZZGB1dCHZswuEu7PFwQ                                                                                                                               [best, mexican, grill, bar, santa, barbara, server, lillian, best, definitely, come, planning, breakfast, tomorrow, morning]  \n",
       "VPWNyhR3DeNfu8cmzPU7HQ  [worse, service, got, seated, right, away, sat, waited, acknowledged, good, 15, min, couple, seated, near, got, asked, drinks, food, order, acknowledged, finally, waiter, came, took, order, left, got, chips, finished, waiter, asked, wanted, said,...  "
      ]
     },
     "execution_count": 24,
     "metadata": {},
     "output_type": "execute_result"
    }
   ],
   "source": [
    "# batch preprocess the text and store tokens\n",
    "reviews['tokens'] = batch_preprocess_texts(reviews['text'], nlp = nlp_light)\n",
    "reviews.head()"
   ]
  },
  {
   "cell_type": "markdown",
   "id": "da686367-4a1a-48c5-9117-61d62b4e7308",
   "metadata": {},
   "source": [
    "We will also add a column for the lemmas by setting the use_lemmas argument to True when calling the custom function."
   ]
  },
  {
   "cell_type": "code",
   "execution_count": 25,
   "id": "aaf51f51-1bf3-4bdc-9cc2-fc64595092d0",
   "metadata": {},
   "outputs": [
    {
     "name": "stderr",
     "output_type": "stream",
     "text": [
      "378it [00:20, 18.53it/s]\n"
     ]
    },
    {
     "data": {
      "text/html": [
       "<div>\n",
       "<style scoped>\n",
       "    .dataframe tbody tr th:only-of-type {\n",
       "        vertical-align: middle;\n",
       "    }\n",
       "\n",
       "    .dataframe tbody tr th {\n",
       "        vertical-align: top;\n",
       "    }\n",
       "\n",
       "    .dataframe thead th {\n",
       "        text-align: right;\n",
       "    }\n",
       "</style>\n",
       "<table border=\"1\" class=\"dataframe\">\n",
       "  <thead>\n",
       "    <tr style=\"text-align: right;\">\n",
       "      <th></th>\n",
       "      <th>date</th>\n",
       "      <th>text</th>\n",
       "      <th>stars</th>\n",
       "      <th>tokens</th>\n",
       "      <th>lemmas</th>\n",
       "    </tr>\n",
       "    <tr>\n",
       "      <th>review_id</th>\n",
       "      <th></th>\n",
       "      <th></th>\n",
       "      <th></th>\n",
       "      <th></th>\n",
       "      <th></th>\n",
       "    </tr>\n",
       "  </thead>\n",
       "  <tbody>\n",
       "    <tr>\n",
       "      <th>78BMrY9uWMnqo34zYj9B6g</th>\n",
       "      <td>2015-02-27 04:10:53</td>\n",
       "      <td>We randomly popped into the Sandbar after spending the morning shopping in Santa Barbara and we were completely blown away!  Let's start with the staff - each person with whom we had contact was happy to be there, engaging, and friendly.  What a ...</td>\n",
       "      <td>5</td>\n",
       "      <td>[randomly, popped, sandbar, spending, morning, shopping, santa, barbara, completely, blown, away, let, start, staff, person, contact, happy, engaging, friendly, great, start, experience, ordered, tacos, happier, ordered, grilled, veggie, tacos, s...</td>\n",
       "      <td>[randomly, pop, sandbar, spend, morning, shopping, santa, barbara, completely, blow, away, let, start, staff, person, contact, happy, engaging, friendly, great, start, experience, order, taco, happy, order, grill, veggie, tacos, spice, cool, ques...</td>\n",
       "    </tr>\n",
       "    <tr>\n",
       "      <th>DwVApGXXWAPBVCO6LtMG8Q</th>\n",
       "      <td>2015-02-27 20:31:45</td>\n",
       "      <td>This place has really turned itself around over the years. I just noticed my bad review from 2009 and felt I should update now that the place is run completely differently. The food is now excellent and the staff courteous.</td>\n",
       "      <td>5</td>\n",
       "      <td>[place, turned, years, noticed, bad, review, 2009, felt, update, place, run, completely, differently, food, excellent, staff, courteous]</td>\n",
       "      <td>[place, turn, year, notice, bad, review, 2009, feel, update, place, run, completely, differently, food, excellent, staff, courteous]</td>\n",
       "    </tr>\n",
       "    <tr>\n",
       "      <th>J64FTyafTlA5Ct4LwHYg2g</th>\n",
       "      <td>2015-02-28 04:28:55</td>\n",
       "      <td>Was pretty disappointed. Went on the opening night of there remodel, had a good time. Then went back the next night with a group of friends. They would not except my out of state ID can you believe that!! In Santa Barbara a \"tourist town\". I Had ...</td>\n",
       "      <td>1</td>\n",
       "      <td>[pretty, disappointed, went, opening, night, remodel, good, time, went, night, group, friends, state, id, believe, santa, barbara, tourist, town, going, years, issue, az, id, gave, credit, card, california, sales, license, work, license, good, 25...</td>\n",
       "      <td>[pretty, disappointed, go, opening, night, remodel, good, time, go, night, group, friend, state, id, believe, santa, barbara, tourist, town, go, year, issue, az, id, give, credit, card, california, sale, license, work, license, good, 25yr, old, r...</td>\n",
       "    </tr>\n",
       "    <tr>\n",
       "      <th>5LtZZGB1dCHZswuEu7PFwQ</th>\n",
       "      <td>2015-02-28 23:47:01</td>\n",
       "      <td>Best Mexican grill and bar in Santa Barbara. Our server Lillian was the very best, Will definitely come again. Already planning breakfast tomorrow morning!</td>\n",
       "      <td>5</td>\n",
       "      <td>[best, mexican, grill, bar, santa, barbara, server, lillian, best, definitely, come, planning, breakfast, tomorrow, morning]</td>\n",
       "      <td>[well, mexican, grill, bar, santa, barbara, server, lillian, good, definitely, come, plan, breakfast, tomorrow, morning]</td>\n",
       "    </tr>\n",
       "    <tr>\n",
       "      <th>VPWNyhR3DeNfu8cmzPU7HQ</th>\n",
       "      <td>2015-03-15 19:55:55</td>\n",
       "      <td>This has to be the worse service. Got seated right away and then sat and waited. No one even acknowledged we were here for a good 15 min. Then another couple was seated near us. They got asked for drinks and food order before we were even acknowl...</td>\n",
       "      <td>1</td>\n",
       "      <td>[worse, service, got, seated, right, away, sat, waited, acknowledged, good, 15, min, couple, seated, near, got, asked, drinks, food, order, acknowledged, finally, waiter, came, took, order, left, got, chips, finished, waiter, asked, wanted, said,...</td>\n",
       "      <td>[bad, service, got, seat, right, away, sit, wait, acknowledge, good, 15, min, couple, seat, near, get, ask, drink, food, order, acknowledge, finally, waiter, come, take, order, leave, get, chip, finish, waiter, ask, want, say, yes, get, chip, wai...</td>\n",
       "    </tr>\n",
       "  </tbody>\n",
       "</table>\n",
       "</div>"
      ],
      "text/plain": [
       "                                      date  \\\n",
       "review_id                                    \n",
       "78BMrY9uWMnqo34zYj9B6g 2015-02-27 04:10:53   \n",
       "DwVApGXXWAPBVCO6LtMG8Q 2015-02-27 20:31:45   \n",
       "J64FTyafTlA5Ct4LwHYg2g 2015-02-28 04:28:55   \n",
       "5LtZZGB1dCHZswuEu7PFwQ 2015-02-28 23:47:01   \n",
       "VPWNyhR3DeNfu8cmzPU7HQ 2015-03-15 19:55:55   \n",
       "\n",
       "                                                                                                                                                                                                                                                                             text  \\\n",
       "review_id                                                                                                                                                                                                                                                                           \n",
       "78BMrY9uWMnqo34zYj9B6g  We randomly popped into the Sandbar after spending the morning shopping in Santa Barbara and we were completely blown away!  Let's start with the staff - each person with whom we had contact was happy to be there, engaging, and friendly.  What a ...   \n",
       "DwVApGXXWAPBVCO6LtMG8Q                            This place has really turned itself around over the years. I just noticed my bad review from 2009 and felt I should update now that the place is run completely differently. The food is now excellent and the staff courteous.   \n",
       "J64FTyafTlA5Ct4LwHYg2g  Was pretty disappointed. Went on the opening night of there remodel, had a good time. Then went back the next night with a group of friends. They would not except my out of state ID can you believe that!! In Santa Barbara a \"tourist town\". I Had ...   \n",
       "5LtZZGB1dCHZswuEu7PFwQ                                                                                                Best Mexican grill and bar in Santa Barbara. Our server Lillian was the very best, Will definitely come again. Already planning breakfast tomorrow morning!   \n",
       "VPWNyhR3DeNfu8cmzPU7HQ  This has to be the worse service. Got seated right away and then sat and waited. No one even acknowledged we were here for a good 15 min. Then another couple was seated near us. They got asked for drinks and food order before we were even acknowl...   \n",
       "\n",
       "                        stars  \\\n",
       "review_id                       \n",
       "78BMrY9uWMnqo34zYj9B6g      5   \n",
       "DwVApGXXWAPBVCO6LtMG8Q      5   \n",
       "J64FTyafTlA5Ct4LwHYg2g      1   \n",
       "5LtZZGB1dCHZswuEu7PFwQ      5   \n",
       "VPWNyhR3DeNfu8cmzPU7HQ      1   \n",
       "\n",
       "                                                                                                                                                                                                                                                                           tokens  \\\n",
       "review_id                                                                                                                                                                                                                                                                           \n",
       "78BMrY9uWMnqo34zYj9B6g  [randomly, popped, sandbar, spending, morning, shopping, santa, barbara, completely, blown, away, let, start, staff, person, contact, happy, engaging, friendly, great, start, experience, ordered, tacos, happier, ordered, grilled, veggie, tacos, s...   \n",
       "DwVApGXXWAPBVCO6LtMG8Q                                                                                                                   [place, turned, years, noticed, bad, review, 2009, felt, update, place, run, completely, differently, food, excellent, staff, courteous]   \n",
       "J64FTyafTlA5Ct4LwHYg2g  [pretty, disappointed, went, opening, night, remodel, good, time, went, night, group, friends, state, id, believe, santa, barbara, tourist, town, going, years, issue, az, id, gave, credit, card, california, sales, license, work, license, good, 25...   \n",
       "5LtZZGB1dCHZswuEu7PFwQ                                                                                                                               [best, mexican, grill, bar, santa, barbara, server, lillian, best, definitely, come, planning, breakfast, tomorrow, morning]   \n",
       "VPWNyhR3DeNfu8cmzPU7HQ  [worse, service, got, seated, right, away, sat, waited, acknowledged, good, 15, min, couple, seated, near, got, asked, drinks, food, order, acknowledged, finally, waiter, came, took, order, left, got, chips, finished, waiter, asked, wanted, said,...   \n",
       "\n",
       "                                                                                                                                                                                                                                                                           lemmas  \n",
       "review_id                                                                                                                                                                                                                                                                          \n",
       "78BMrY9uWMnqo34zYj9B6g  [randomly, pop, sandbar, spend, morning, shopping, santa, barbara, completely, blow, away, let, start, staff, person, contact, happy, engaging, friendly, great, start, experience, order, taco, happy, order, grill, veggie, tacos, spice, cool, ques...  \n",
       "DwVApGXXWAPBVCO6LtMG8Q                                                                                                                       [place, turn, year, notice, bad, review, 2009, feel, update, place, run, completely, differently, food, excellent, staff, courteous]  \n",
       "J64FTyafTlA5Ct4LwHYg2g  [pretty, disappointed, go, opening, night, remodel, good, time, go, night, group, friend, state, id, believe, santa, barbara, tourist, town, go, year, issue, az, id, give, credit, card, california, sale, license, work, license, good, 25yr, old, r...  \n",
       "5LtZZGB1dCHZswuEu7PFwQ                                                                                                                                   [well, mexican, grill, bar, santa, barbara, server, lillian, good, definitely, come, plan, breakfast, tomorrow, morning]  \n",
       "VPWNyhR3DeNfu8cmzPU7HQ  [bad, service, got, seat, right, away, sit, wait, acknowledge, good, 15, min, couple, seat, near, get, ask, drink, food, order, acknowledge, finally, waiter, come, take, order, leave, get, chip, finish, waiter, ask, want, say, yes, get, chip, wai...  "
      ]
     },
     "execution_count": 25,
     "metadata": {},
     "output_type": "execute_result"
    }
   ],
   "source": [
    "# batch preprocess the text and store lemmas\n",
    "reviews['lemmas'] = batch_preprocess_texts(reviews['text'], nlp = nlp_light, use_lemmas = True)\n",
    "reviews.head()"
   ]
  },
  {
   "cell_type": "markdown",
   "id": "569bf1d8-b431-4615-8191-541b848d4ac3",
   "metadata": {},
   "source": [
    "Let's preview the tokens for the first review.\r\n"
   ]
  },
  {
   "cell_type": "code",
   "execution_count": 26,
   "id": "61df788a-80e1-401f-a71f-0c3b4bcf8e8e",
   "metadata": {},
   "outputs": [
    {
     "data": {
      "text/plain": [
       "['randomly',\n",
       " 'popped',\n",
       " 'sandbar',\n",
       " 'spending',\n",
       " 'morning',\n",
       " 'shopping',\n",
       " 'santa',\n",
       " 'barbara',\n",
       " 'completely',\n",
       " 'blown',\n",
       " 'away',\n",
       " 'let',\n",
       " 'start',\n",
       " 'staff',\n",
       " 'person',\n",
       " 'contact',\n",
       " 'happy',\n",
       " 'engaging',\n",
       " 'friendly',\n",
       " 'great',\n",
       " 'start',\n",
       " 'experience',\n",
       " 'ordered',\n",
       " 'tacos',\n",
       " 'happier',\n",
       " 'ordered',\n",
       " 'grilled',\n",
       " 'veggie',\n",
       " 'tacos',\n",
       " 'spice',\n",
       " 'cooled',\n",
       " 'queso',\n",
       " 'fresco',\n",
       " 'hubby',\n",
       " 'ordered',\n",
       " 'chicken',\n",
       " 'tacos',\n",
       " 'spicy',\n",
       " 'veggie',\n",
       " 'ones',\n",
       " 'spicy',\n",
       " 'inhaled',\n",
       " 'sets',\n",
       " 'tacos',\n",
       " 'elevated',\n",
       " 'level',\n",
       " 'homemade',\n",
       " 'tortillas',\n",
       " 'simply',\n",
       " 'delicious',\n",
       " 'authentic']"
      ]
     },
     "execution_count": 26,
     "metadata": {},
     "output_type": "execute_result"
    }
   ],
   "source": [
    "# View a sample of tokens\n",
    "sample_review = reviews.iloc[0]\n",
    "sample_review['tokens']"
   ]
  },
  {
   "cell_type": "markdown",
   "id": "55b4d300-9828-4555-a8ad-416283cb3c29",
   "metadata": {},
   "source": [
    "This appears to be a list. We can confirm."
   ]
  },
  {
   "cell_type": "code",
   "execution_count": 27,
   "id": "097cd620-5dbc-4062-b3d6-1aef12ab34e9",
   "metadata": {},
   "outputs": [
    {
     "data": {
      "text/plain": [
       "list"
      ]
     },
     "execution_count": 27,
     "metadata": {},
     "output_type": "execute_result"
    }
   ],
   "source": [
    "# confirm data type of tokens\n",
    "type(sample_review['tokens'])"
   ]
  },
  {
   "cell_type": "markdown",
   "id": "2250dc60-b981-43d6-acf1-d503e11ef071",
   "metadata": {},
   "source": [
    "We can also confirm the data type of the lemmas."
   ]
  },
  {
   "cell_type": "code",
   "execution_count": 28,
   "id": "6f2692c6-3593-4f54-baeb-01465efadfb9",
   "metadata": {},
   "outputs": [
    {
     "data": {
      "text/plain": [
       "list"
      ]
     },
     "execution_count": 28,
     "metadata": {},
     "output_type": "execute_result"
    }
   ],
   "source": [
    "# confirm data type of lemmas\n",
    "type(sample_review['lemmas'])"
   ]
  },
  {
   "cell_type": "markdown",
   "id": "80e63ea6-8acd-4375-ba96-1111c20a1889",
   "metadata": {},
   "source": [
    "The spaCy preprocessor has created lists of tokens for each review.\n",
    "\n",
    "We will want the tokens and lemmas available as string objects.\n",
    "\n",
    "We will use a lambda function to convert these lists to strings with a space between each token or lemma."
   ]
  },
  {
   "cell_type": "code",
   "execution_count": 29,
   "id": "83c7bfe5-1cdb-4b11-9e82-fc1143c5a854",
   "metadata": {},
   "outputs": [
    {
     "data": {
      "text/html": [
       "<div>\n",
       "<style scoped>\n",
       "    .dataframe tbody tr th:only-of-type {\n",
       "        vertical-align: middle;\n",
       "    }\n",
       "\n",
       "    .dataframe tbody tr th {\n",
       "        vertical-align: top;\n",
       "    }\n",
       "\n",
       "    .dataframe thead th {\n",
       "        text-align: right;\n",
       "    }\n",
       "</style>\n",
       "<table border=\"1\" class=\"dataframe\">\n",
       "  <thead>\n",
       "    <tr style=\"text-align: right;\">\n",
       "      <th></th>\n",
       "      <th>date</th>\n",
       "      <th>text</th>\n",
       "      <th>stars</th>\n",
       "      <th>tokens</th>\n",
       "      <th>lemmas</th>\n",
       "      <th>tokens-joined</th>\n",
       "      <th>lemmas-joined</th>\n",
       "    </tr>\n",
       "    <tr>\n",
       "      <th>review_id</th>\n",
       "      <th></th>\n",
       "      <th></th>\n",
       "      <th></th>\n",
       "      <th></th>\n",
       "      <th></th>\n",
       "      <th></th>\n",
       "      <th></th>\n",
       "    </tr>\n",
       "  </thead>\n",
       "  <tbody>\n",
       "    <tr>\n",
       "      <th>78BMrY9uWMnqo34zYj9B6g</th>\n",
       "      <td>2015-02-27 04:10:53</td>\n",
       "      <td>We randomly popped into the Sandbar after spending the morning shopping in Santa Barbara and we were completely blown away!  Let's start with the staff - each person with whom we had contact was happy to be there, engaging, and friendly.  What a ...</td>\n",
       "      <td>5</td>\n",
       "      <td>[randomly, popped, sandbar, spending, morning, shopping, santa, barbara, completely, blown, away, let, start, staff, person, contact, happy, engaging, friendly, great, start, experience, ordered, tacos, happier, ordered, grilled, veggie, tacos, s...</td>\n",
       "      <td>[randomly, pop, sandbar, spend, morning, shopping, santa, barbara, completely, blow, away, let, start, staff, person, contact, happy, engaging, friendly, great, start, experience, order, taco, happy, order, grill, veggie, tacos, spice, cool, ques...</td>\n",
       "      <td>randomly popped sandbar spending morning shopping santa barbara completely blown away let start staff person contact happy engaging friendly great start experience ordered tacos happier ordered grilled veggie tacos spice cooled queso fresco hubby...</td>\n",
       "      <td>randomly pop sandbar spend morning shopping santa barbara completely blow away let start staff person contact happy engaging friendly great start experience order taco happy order grill veggie tacos spice cool queso fresco hubby order chicken tac...</td>\n",
       "    </tr>\n",
       "    <tr>\n",
       "      <th>DwVApGXXWAPBVCO6LtMG8Q</th>\n",
       "      <td>2015-02-27 20:31:45</td>\n",
       "      <td>This place has really turned itself around over the years. I just noticed my bad review from 2009 and felt I should update now that the place is run completely differently. The food is now excellent and the staff courteous.</td>\n",
       "      <td>5</td>\n",
       "      <td>[place, turned, years, noticed, bad, review, 2009, felt, update, place, run, completely, differently, food, excellent, staff, courteous]</td>\n",
       "      <td>[place, turn, year, notice, bad, review, 2009, feel, update, place, run, completely, differently, food, excellent, staff, courteous]</td>\n",
       "      <td>place turned years noticed bad review 2009 felt update place run completely differently food excellent staff courteous</td>\n",
       "      <td>place turn year notice bad review 2009 feel update place run completely differently food excellent staff courteous</td>\n",
       "    </tr>\n",
       "    <tr>\n",
       "      <th>J64FTyafTlA5Ct4LwHYg2g</th>\n",
       "      <td>2015-02-28 04:28:55</td>\n",
       "      <td>Was pretty disappointed. Went on the opening night of there remodel, had a good time. Then went back the next night with a group of friends. They would not except my out of state ID can you believe that!! In Santa Barbara a \"tourist town\". I Had ...</td>\n",
       "      <td>1</td>\n",
       "      <td>[pretty, disappointed, went, opening, night, remodel, good, time, went, night, group, friends, state, id, believe, santa, barbara, tourist, town, going, years, issue, az, id, gave, credit, card, california, sales, license, work, license, good, 25...</td>\n",
       "      <td>[pretty, disappointed, go, opening, night, remodel, good, time, go, night, group, friend, state, id, believe, santa, barbara, tourist, town, go, year, issue, az, id, give, credit, card, california, sale, license, work, license, good, 25yr, old, r...</td>\n",
       "      <td>pretty disappointed went opening night remodel good time went night group friends state id believe santa barbara tourist town going years issue az id gave credit card california sales license work license good 25yrs old rejected id lady asked pas...</td>\n",
       "      <td>pretty disappointed go opening night remodel good time go night group friend state id believe santa barbara tourist town go year issue az id give credit card california sale license work license good 25yr old reject id lady ask passport american ...</td>\n",
       "    </tr>\n",
       "  </tbody>\n",
       "</table>\n",
       "</div>"
      ],
      "text/plain": [
       "                                      date  \\\n",
       "review_id                                    \n",
       "78BMrY9uWMnqo34zYj9B6g 2015-02-27 04:10:53   \n",
       "DwVApGXXWAPBVCO6LtMG8Q 2015-02-27 20:31:45   \n",
       "J64FTyafTlA5Ct4LwHYg2g 2015-02-28 04:28:55   \n",
       "\n",
       "                                                                                                                                                                                                                                                                             text  \\\n",
       "review_id                                                                                                                                                                                                                                                                           \n",
       "78BMrY9uWMnqo34zYj9B6g  We randomly popped into the Sandbar after spending the morning shopping in Santa Barbara and we were completely blown away!  Let's start with the staff - each person with whom we had contact was happy to be there, engaging, and friendly.  What a ...   \n",
       "DwVApGXXWAPBVCO6LtMG8Q                            This place has really turned itself around over the years. I just noticed my bad review from 2009 and felt I should update now that the place is run completely differently. The food is now excellent and the staff courteous.   \n",
       "J64FTyafTlA5Ct4LwHYg2g  Was pretty disappointed. Went on the opening night of there remodel, had a good time. Then went back the next night with a group of friends. They would not except my out of state ID can you believe that!! In Santa Barbara a \"tourist town\". I Had ...   \n",
       "\n",
       "                        stars  \\\n",
       "review_id                       \n",
       "78BMrY9uWMnqo34zYj9B6g      5   \n",
       "DwVApGXXWAPBVCO6LtMG8Q      5   \n",
       "J64FTyafTlA5Ct4LwHYg2g      1   \n",
       "\n",
       "                                                                                                                                                                                                                                                                           tokens  \\\n",
       "review_id                                                                                                                                                                                                                                                                           \n",
       "78BMrY9uWMnqo34zYj9B6g  [randomly, popped, sandbar, spending, morning, shopping, santa, barbara, completely, blown, away, let, start, staff, person, contact, happy, engaging, friendly, great, start, experience, ordered, tacos, happier, ordered, grilled, veggie, tacos, s...   \n",
       "DwVApGXXWAPBVCO6LtMG8Q                                                                                                                   [place, turned, years, noticed, bad, review, 2009, felt, update, place, run, completely, differently, food, excellent, staff, courteous]   \n",
       "J64FTyafTlA5Ct4LwHYg2g  [pretty, disappointed, went, opening, night, remodel, good, time, went, night, group, friends, state, id, believe, santa, barbara, tourist, town, going, years, issue, az, id, gave, credit, card, california, sales, license, work, license, good, 25...   \n",
       "\n",
       "                                                                                                                                                                                                                                                                           lemmas  \\\n",
       "review_id                                                                                                                                                                                                                                                                           \n",
       "78BMrY9uWMnqo34zYj9B6g  [randomly, pop, sandbar, spend, morning, shopping, santa, barbara, completely, blow, away, let, start, staff, person, contact, happy, engaging, friendly, great, start, experience, order, taco, happy, order, grill, veggie, tacos, spice, cool, ques...   \n",
       "DwVApGXXWAPBVCO6LtMG8Q                                                                                                                       [place, turn, year, notice, bad, review, 2009, feel, update, place, run, completely, differently, food, excellent, staff, courteous]   \n",
       "J64FTyafTlA5Ct4LwHYg2g  [pretty, disappointed, go, opening, night, remodel, good, time, go, night, group, friend, state, id, believe, santa, barbara, tourist, town, go, year, issue, az, id, give, credit, card, california, sale, license, work, license, good, 25yr, old, r...   \n",
       "\n",
       "                                                                                                                                                                                                                                                                    tokens-joined  \\\n",
       "review_id                                                                                                                                                                                                                                                                           \n",
       "78BMrY9uWMnqo34zYj9B6g  randomly popped sandbar spending morning shopping santa barbara completely blown away let start staff person contact happy engaging friendly great start experience ordered tacos happier ordered grilled veggie tacos spice cooled queso fresco hubby...   \n",
       "DwVApGXXWAPBVCO6LtMG8Q                                                                                                                                     place turned years noticed bad review 2009 felt update place run completely differently food excellent staff courteous   \n",
       "J64FTyafTlA5Ct4LwHYg2g  pretty disappointed went opening night remodel good time went night group friends state id believe santa barbara tourist town going years issue az id gave credit card california sales license work license good 25yrs old rejected id lady asked pas...   \n",
       "\n",
       "                                                                                                                                                                                                                                                                    lemmas-joined  \n",
       "review_id                                                                                                                                                                                                                                                                          \n",
       "78BMrY9uWMnqo34zYj9B6g  randomly pop sandbar spend morning shopping santa barbara completely blow away let start staff person contact happy engaging friendly great start experience order taco happy order grill veggie tacos spice cool queso fresco hubby order chicken tac...  \n",
       "DwVApGXXWAPBVCO6LtMG8Q                                                                                                                                         place turn year notice bad review 2009 feel update place run completely differently food excellent staff courteous  \n",
       "J64FTyafTlA5Ct4LwHYg2g  pretty disappointed go opening night remodel good time go night group friend state id believe santa barbara tourist town go year issue az id give credit card california sale license work license good 25yr old reject id lady ask passport american ...  "
      ]
     },
     "execution_count": 29,
     "metadata": {},
     "output_type": "execute_result"
    }
   ],
   "source": [
    "# Join list of tokens into a string with spaces between each token\n",
    "reviews['tokens-joined'] = reviews['tokens'].map(lambda x: \" \".join(x))\n",
    "# Join list of lemmas into a string with spaces between each lemma\n",
    "reviews['lemmas-joined'] = reviews['lemmas'].map(lambda x: \" \".join(x))\n",
    "reviews.head(3)"
   ]
  },
  {
   "cell_type": "markdown",
   "id": "a390e6fa-f884-4979-8e3d-0e78a66813a8",
   "metadata": {},
   "source": [
    "We can verify that both of the new \"joined\" columns are strings."
   ]
  },
  {
   "cell_type": "code",
   "execution_count": 30,
   "id": "7f2e9a0d-8759-4ff5-947d-44be9fb61a51",
   "metadata": {},
   "outputs": [
    {
     "name": "stdout",
     "output_type": "stream",
     "text": [
      "<class 'str'>\n",
      "<class 'str'>\n"
     ]
    }
   ],
   "source": [
    "# Define first review as sample\n",
    "sample_review = reviews.iloc[0]\n",
    "# confirm data type of tokens-joined\n",
    "print(type(sample_review['tokens-joined']))\n",
    "# confirm data type of lemmas-joined\n",
    "print(type(sample_review['lemmas-joined']))"
   ]
  },
  {
   "cell_type": "markdown",
   "id": "13c4dcef-42ab-422a-8b1f-4146546e9237",
   "metadata": {},
   "source": [
    "We preview an example of the tokens joined into a string for the first review."
   ]
  },
  {
   "cell_type": "code",
   "execution_count": 31,
   "id": "72288100-b72a-4335-9427-d7867cf688ef",
   "metadata": {},
   "outputs": [
    {
     "data": {
      "text/plain": [
       "'randomly popped sandbar spending morning shopping santa barbara completely blown away let start staff person contact happy engaging friendly great start experience ordered tacos happier ordered grilled veggie tacos spice cooled queso fresco hubby ordered chicken tacos spicy veggie ones spicy inhaled sets tacos elevated level homemade tortillas simply delicious authentic'"
      ]
     },
     "execution_count": 31,
     "metadata": {},
     "output_type": "execute_result"
    }
   ],
   "source": [
    "# Preview the tokens-joined into a single string\n",
    "sample_review['tokens-joined']"
   ]
  },
  {
   "cell_type": "markdown",
   "id": "500e2c15-1487-463d-aae3-767050f17930",
   "metadata": {},
   "source": [
    "### Summary"
   ]
  },
  {
   "cell_type": "markdown",
   "id": "90ea4e11-0df8-4f12-b886-43a77d5e26be",
   "metadata": {},
   "source": [
    "In this lesson, you learned how to create subsets of your data when the text is stored in a dataframe. You also learned how to apply preprocessing to data in dataframes using SpaCy to create tokenized data without punctuation and stopwords, as well as lemmatized data. Finally, you learned how to recombine the lists of tokenized and lemmatized words in each document into one string per document. Keeping multiple forms of your data is useful for different EDA and modeling techniques."
   ]
  }
 ],
 "metadata": {
  "kernelspec": {
   "display_name": "Python 3 (ipykernel)",
   "language": "python",
   "name": "python3"
  },
  "language_info": {
   "codemirror_mode": {
    "name": "ipython",
    "version": 3
   },
   "file_extension": ".py",
   "mimetype": "text/x-python",
   "name": "python",
   "nbconvert_exporter": "python",
   "pygments_lexer": "ipython3",
   "version": "3.10.10"
  },
  "widgets": {
   "application/vnd.jupyter.widget-state+json": {
    "state": {},
    "version_major": 2,
    "version_minor": 0
   }
  }
 },
 "nbformat": 4,
 "nbformat_minor": 5
}
