{
 "cells": [
  {
   "cell_type": "markdown",
   "id": "65ad8aa8-d448-432a-9583-fb28516e2b4a",
   "metadata": {},
   "source": [
    "# Streamlit for Sale Predictions - Part A\n",
    "**Student**: Matthew Malueg"
   ]
  },
  {
   "attachments": {},
   "cell_type": "markdown",
   "id": "7bc083fc-dd76-4ccc-9db0-443e7a3c1675",
   "metadata": {},
   "source": [
    "**Tasks**\n",
    "- In a notebook, prepare the dataset and save as a new .csv file for app\n",
    "    - Correct items in Item_Fat_Content column\n",
    "    - Drop Item_Identifier, Outlet_Identifier, Outlet_Establishment_Year\n",
    "- In a .py file, the app should include\n",
    "    - Title\n",
    "    - Markdown header for each section\n",
    "        - Interactive Pandas datatframe of prepared dataset\n",
    "        - Button to trigger display of dataframe of Descriptive Statistics\n",
    "        - Button to trigger display of Summary Information (output of .info)\n",
    "        - Button to trigger display of Null Values"
   ]
  },
  {
   "cell_type": "code",
   "execution_count": 2,
   "id": "ca047763-e003-49a1-9ac7-b09d942bda44",
   "metadata": {},
   "outputs": [],
   "source": [
    "# Imports\n",
    "import streamlit as st\n",
    "import pandas as pd\n",
    "import numpy as np\n",
    "import matplotlib.pyplot as plt\n",
    "import seaborn as sns\n",
    "from io import StringIO"
   ]
  },
  {
   "cell_type": "code",
   "execution_count": 4,
   "id": "d2c38dd0-8031-4c33-833b-f5b05282f398",
   "metadata": {},
   "outputs": [],
   "source": [
    "# Load in the file\n",
    "fpath =  \"Data/sales_predictions_2023.csv\"\n",
    "df = pd.read_csv(fpath)"
   ]
  },
  {
   "cell_type": "code",
   "execution_count": 5,
   "id": "acfaf698-5f18-43bf-8561-1db251b75f7d",
   "metadata": {},
   "outputs": [
    {
     "data": {
      "text/html": [
       "<div>\n",
       "<style scoped>\n",
       "    .dataframe tbody tr th:only-of-type {\n",
       "        vertical-align: middle;\n",
       "    }\n",
       "\n",
       "    .dataframe tbody tr th {\n",
       "        vertical-align: top;\n",
       "    }\n",
       "\n",
       "    .dataframe thead th {\n",
       "        text-align: right;\n",
       "    }\n",
       "</style>\n",
       "<table border=\"1\" class=\"dataframe\">\n",
       "  <thead>\n",
       "    <tr style=\"text-align: right;\">\n",
       "      <th></th>\n",
       "      <th>Item_Weight</th>\n",
       "      <th>Item_Fat_Content</th>\n",
       "      <th>Item_Visibility</th>\n",
       "      <th>Item_Type</th>\n",
       "      <th>Item_MRP</th>\n",
       "      <th>Outlet_Size</th>\n",
       "      <th>Outlet_Location_Type</th>\n",
       "      <th>Outlet_Type</th>\n",
       "      <th>Item_Outlet_Sales</th>\n",
       "    </tr>\n",
       "  </thead>\n",
       "  <tbody>\n",
       "    <tr>\n",
       "      <th>0</th>\n",
       "      <td>9.30</td>\n",
       "      <td>Low Fat</td>\n",
       "      <td>0.016047</td>\n",
       "      <td>Dairy</td>\n",
       "      <td>249.8092</td>\n",
       "      <td>Medium</td>\n",
       "      <td>Tier 1</td>\n",
       "      <td>Supermarket Type1</td>\n",
       "      <td>3735.1380</td>\n",
       "    </tr>\n",
       "    <tr>\n",
       "      <th>1</th>\n",
       "      <td>5.92</td>\n",
       "      <td>Regular</td>\n",
       "      <td>0.019278</td>\n",
       "      <td>Soft Drinks</td>\n",
       "      <td>48.2692</td>\n",
       "      <td>Medium</td>\n",
       "      <td>Tier 3</td>\n",
       "      <td>Supermarket Type2</td>\n",
       "      <td>443.4228</td>\n",
       "    </tr>\n",
       "    <tr>\n",
       "      <th>2</th>\n",
       "      <td>17.50</td>\n",
       "      <td>Low Fat</td>\n",
       "      <td>0.016760</td>\n",
       "      <td>Meat</td>\n",
       "      <td>141.6180</td>\n",
       "      <td>Medium</td>\n",
       "      <td>Tier 1</td>\n",
       "      <td>Supermarket Type1</td>\n",
       "      <td>2097.2700</td>\n",
       "    </tr>\n",
       "    <tr>\n",
       "      <th>3</th>\n",
       "      <td>19.20</td>\n",
       "      <td>Regular</td>\n",
       "      <td>0.000000</td>\n",
       "      <td>Fruits and Vegetables</td>\n",
       "      <td>182.0950</td>\n",
       "      <td>NaN</td>\n",
       "      <td>Tier 3</td>\n",
       "      <td>Grocery Store</td>\n",
       "      <td>732.3800</td>\n",
       "    </tr>\n",
       "    <tr>\n",
       "      <th>4</th>\n",
       "      <td>8.93</td>\n",
       "      <td>Low Fat</td>\n",
       "      <td>0.000000</td>\n",
       "      <td>Household</td>\n",
       "      <td>53.8614</td>\n",
       "      <td>High</td>\n",
       "      <td>Tier 3</td>\n",
       "      <td>Supermarket Type1</td>\n",
       "      <td>994.7052</td>\n",
       "    </tr>\n",
       "  </tbody>\n",
       "</table>\n",
       "</div>"
      ],
      "text/plain": [
       "   Item_Weight Item_Fat_Content  Item_Visibility              Item_Type  \\\n",
       "0         9.30          Low Fat         0.016047                  Dairy   \n",
       "1         5.92          Regular         0.019278            Soft Drinks   \n",
       "2        17.50          Low Fat         0.016760                   Meat   \n",
       "3        19.20          Regular         0.000000  Fruits and Vegetables   \n",
       "4         8.93          Low Fat         0.000000              Household   \n",
       "\n",
       "   Item_MRP Outlet_Size Outlet_Location_Type        Outlet_Type  \\\n",
       "0  249.8092      Medium               Tier 1  Supermarket Type1   \n",
       "1   48.2692      Medium               Tier 3  Supermarket Type2   \n",
       "2  141.6180      Medium               Tier 1  Supermarket Type1   \n",
       "3  182.0950         NaN               Tier 3      Grocery Store   \n",
       "4   53.8614        High               Tier 3  Supermarket Type1   \n",
       "\n",
       "   Item_Outlet_Sales  \n",
       "0          3735.1380  \n",
       "1           443.4228  \n",
       "2          2097.2700  \n",
       "3           732.3800  \n",
       "4           994.7052  "
      ]
     },
     "execution_count": 5,
     "metadata": {},
     "output_type": "execute_result"
    }
   ],
   "source": [
    "# Drop unneeded columns\n",
    "cols_to_drop = ['Item_Identifier', 'Outlet_Identifier', 'Outlet_Establishment_Year']\n",
    "df = df.drop(columns=cols_to_drop)\n",
    "df.head()"
   ]
  },
  {
   "cell_type": "code",
   "execution_count": 6,
   "id": "a85eff94-8ea2-425b-8ff4-43f5099aca05",
   "metadata": {},
   "outputs": [
    {
     "data": {
      "text/plain": [
       "Low Fat    5089\n",
       "Regular    2889\n",
       "LF          316\n",
       "reg         117\n",
       "low fat     112\n",
       "Name: Item_Fat_Content, dtype: int64"
      ]
     },
     "execution_count": 6,
     "metadata": {},
     "output_type": "execute_result"
    }
   ],
   "source": [
    "# Address inconsistencies\n",
    "df['Item_Fat_Content'].value_counts()"
   ]
  },
  {
   "cell_type": "code",
   "execution_count": 7,
   "id": "cc38bfd6-e155-48ab-ae9c-830fe2ceb9dd",
   "metadata": {},
   "outputs": [
    {
     "data": {
      "text/plain": [
       "Low Fat    5517\n",
       "Regular    3006\n",
       "Name: Item_Fat_Content, dtype: int64"
      ]
     },
     "execution_count": 7,
     "metadata": {},
     "output_type": "execute_result"
    }
   ],
   "source": [
    "# Remap values so they are uniform\n",
    "mapping_dict = {'LF': 'Low Fat', 'low fat': 'Low Fat', 'reg': 'Regular'}\n",
    "df['Item_Fat_Content'] = df['Item_Fat_Content'].replace(mapping_dict)\n",
    "df['Item_Fat_Content'].value_counts()"
   ]
  },
  {
   "cell_type": "code",
   "execution_count": 9,
   "id": "8c6ca08a-5852-4abd-9b19-2ce0bfdd382c",
   "metadata": {},
   "outputs": [],
   "source": [
    "# Save processed dataset as new .csv\n",
    "# df.to_csv('Data/sales_2023_cleaned.csv', index=False)"
   ]
  },
  {
   "cell_type": "code",
   "execution_count": 11,
   "id": "3c11d5fb-4371-4326-a9ac-e203849ba946",
   "metadata": {},
   "outputs": [],
   "source": [
    "\"\"\"\n",
    "\n",
    "### Streamlit_Project_1_Core_A.py for Wk3 of Advanced Machine Learning\n",
    "# Create a simple app to demonstrate the use of Streamlit features\n",
    "\n",
    "# Imports\n",
    "import streamlit as st\n",
    "import pandas as pd\n",
    "import numpy as np\n",
    "import matplotlib.pyplot as plt\n",
    "import seaborn as sns\n",
    "from io import StringIO\n",
    "\n",
    "# Function for loading data\n",
    "# Adding data caching\n",
    "@st.cache_data\n",
    "def load_data():\n",
    "    fpath =  \"Data/sales_2023_cleaned.csv\"\n",
    "    df = pd.read_csv(fpath)\n",
    "    return df\n",
    "\n",
    "# load the data \n",
    "df = load_data()\n",
    "\n",
    "##################################\n",
    "\n",
    "# Add title\n",
    "st.title(\"Sales Price Analysis\")\n",
    "\n",
    "# Display an interactive dataframe\n",
    "st.header(\"Product Sales Data\")\n",
    "st.dataframe(df, width=800)\n",
    "\n",
    "# Display Descriptive Statistics button\n",
    "st.markdown('#### Descriptive Statistics')\n",
    "if st.button('Show Descriptive Statistics'):\n",
    "    st.dataframe(df.describe().round(2))\n",
    "\n",
    "## Display Summary Information button\n",
    "# Create a string buffer to capture content and write the info into the buffer\n",
    "buffer = StringIO()\n",
    "df.info(buf=buffer)\n",
    "summary_info = buffer.getvalue()\n",
    "st.markdown(\"#### Summary Info\")\n",
    "if st.button('Show Summary Info'):\n",
    "    st.text(summary_info)\n",
    "\n",
    "## Display Null Values button\n",
    "st.markdown(\"#### Null Values\")\n",
    "if st.button('Show Null Values'):\n",
    "    nulls =df.isna().sum()\n",
    "    st.dataframe(nulls)\n",
    "\n",
    "\"\"\";"
   ]
  }
 ],
 "metadata": {
  "kernelspec": {
   "display_name": "Python 3 (ipykernel)",
   "language": "python",
   "name": "python3"
  },
  "language_info": {
   "codemirror_mode": {
    "name": "ipython",
    "version": 3
   },
   "file_extension": ".py",
   "mimetype": "text/x-python",
   "name": "python",
   "nbconvert_exporter": "python",
   "pygments_lexer": "ipython3",
   "version": "3.10.10"
  },
  "widgets": {
   "application/vnd.jupyter.widget-state+json": {
    "state": {},
    "version_major": 2,
    "version_minor": 0
   }
  }
 },
 "nbformat": 4,
 "nbformat_minor": 5
}
