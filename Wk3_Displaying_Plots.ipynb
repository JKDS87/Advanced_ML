{
 "cells": [
  {
   "cell_type": "markdown",
   "id": "596253ba-c48a-437d-995c-69a7bd479eab",
   "metadata": {
    "jp-MarkdownHeadingCollapsed": true
   },
   "source": [
    "# Previous Lessons"
   ]
  },
  {
   "cell_type": "markdown",
   "id": "974bdb08-97e8-45a9-a003-502b0a019896",
   "metadata": {
    "jp-MarkdownHeadingCollapsed": true
   },
   "source": [
    "## Dataframes and String Outputs"
   ]
  },
  {
   "cell_type": "markdown",
   "id": "f1a9171a-7625-4e75-b0bf-a9d1d1bf9209",
   "metadata": {},
   "source": [
    "**Objective**\n",
    "- Display dataframes on Streamlit\n",
    "- Add Streamlit's caching to a function\n",
    "- Display string outputs using StringIO()"
   ]
  },
  {
   "cell_type": "markdown",
   "id": "938fb28a-a5d8-4e9f-99fe-b37a8a7b50ed",
   "metadata": {
    "jp-MarkdownHeadingCollapsed": true
   },
   "source": [
    "### Working with Streamlit before adding to .py file"
   ]
  },
  {
   "cell_type": "code",
   "execution_count": 14,
   "id": "dff23dd7-b3e3-4b2d-94f5-3c9027a5ac83",
   "metadata": {},
   "outputs": [],
   "source": [
    "# Imports\n",
    "import streamlit as st\n",
    "import pandas as pd\n",
    "import numpy as np\n",
    "import matplotlib.pyplot as plt\n",
    "import seaborn as sns\n",
    "pd.set_option('display.max_columns', 100)"
   ]
  },
  {
   "cell_type": "markdown",
   "id": "059a6f23-0f1a-4825-a739-6675d9f9baa1",
   "metadata": {},
   "source": [
    "Load data. Keep demo simple and only include target and some features."
   ]
  },
  {
   "cell_type": "code",
   "execution_count": 17,
   "id": "14a86fc0-88ca-4bdb-9a53-567cde9c110f",
   "metadata": {},
   "outputs": [
    {
     "data": {
      "text/html": [
       "<div>\n",
       "<style scoped>\n",
       "    .dataframe tbody tr th:only-of-type {\n",
       "        vertical-align: middle;\n",
       "    }\n",
       "\n",
       "    .dataframe tbody tr th {\n",
       "        vertical-align: top;\n",
       "    }\n",
       "\n",
       "    .dataframe thead th {\n",
       "        text-align: right;\n",
       "    }\n",
       "</style>\n",
       "<table border=\"1\" class=\"dataframe\">\n",
       "  <thead>\n",
       "    <tr style=\"text-align: right;\">\n",
       "      <th></th>\n",
       "      <th>SalePrice</th>\n",
       "      <th>Living Area Sqft</th>\n",
       "      <th>Lot Frontage</th>\n",
       "      <th>Bldg Type</th>\n",
       "      <th>Bedroom</th>\n",
       "      <th>Total Full Baths</th>\n",
       "      <th>MS Zoning</th>\n",
       "      <th>Street</th>\n",
       "      <th>Alley</th>\n",
       "      <th>Utilities</th>\n",
       "    </tr>\n",
       "    <tr>\n",
       "      <th>PID</th>\n",
       "      <th></th>\n",
       "      <th></th>\n",
       "      <th></th>\n",
       "      <th></th>\n",
       "      <th></th>\n",
       "      <th></th>\n",
       "      <th></th>\n",
       "      <th></th>\n",
       "      <th></th>\n",
       "      <th></th>\n",
       "    </tr>\n",
       "  </thead>\n",
       "  <tbody>\n",
       "    <tr>\n",
       "      <th>907227090</th>\n",
       "      <td>119900.0</td>\n",
       "      <td>864.0</td>\n",
       "      <td>60.0</td>\n",
       "      <td>1Fam</td>\n",
       "      <td>3</td>\n",
       "      <td>1.0</td>\n",
       "      <td>RL</td>\n",
       "      <td>Pave</td>\n",
       "      <td>NaN</td>\n",
       "      <td>AllPub</td>\n",
       "    </tr>\n",
       "    <tr>\n",
       "      <th>527108010</th>\n",
       "      <td>320000.0</td>\n",
       "      <td>2462.0</td>\n",
       "      <td>134.0</td>\n",
       "      <td>1Fam</td>\n",
       "      <td>4</td>\n",
       "      <td>3.0</td>\n",
       "      <td>RL</td>\n",
       "      <td>Pave</td>\n",
       "      <td>NaN</td>\n",
       "      <td>AllPub</td>\n",
       "    </tr>\n",
       "    <tr>\n",
       "      <th>534275170</th>\n",
       "      <td>151500.0</td>\n",
       "      <td>958.0</td>\n",
       "      <td>NaN</td>\n",
       "      <td>1Fam</td>\n",
       "      <td>2</td>\n",
       "      <td>1.0</td>\n",
       "      <td>RL</td>\n",
       "      <td>Pave</td>\n",
       "      <td>NaN</td>\n",
       "      <td>AllPub</td>\n",
       "    </tr>\n",
       "    <tr>\n",
       "      <th>528104050</th>\n",
       "      <td>385000.0</td>\n",
       "      <td>2084.0</td>\n",
       "      <td>114.0</td>\n",
       "      <td>1Fam</td>\n",
       "      <td>2</td>\n",
       "      <td>3.0</td>\n",
       "      <td>RL</td>\n",
       "      <td>Pave</td>\n",
       "      <td>NaN</td>\n",
       "      <td>AllPub</td>\n",
       "    </tr>\n",
       "    <tr>\n",
       "      <th>533206070</th>\n",
       "      <td>193800.0</td>\n",
       "      <td>1565.0</td>\n",
       "      <td>32.0</td>\n",
       "      <td>TwnhsE</td>\n",
       "      <td>2</td>\n",
       "      <td>3.0</td>\n",
       "      <td>FV</td>\n",
       "      <td>Pave</td>\n",
       "      <td>Pave</td>\n",
       "      <td>AllPub</td>\n",
       "    </tr>\n",
       "  </tbody>\n",
       "</table>\n",
       "</div>"
      ],
      "text/plain": [
       "           SalePrice  Living Area Sqft  Lot Frontage Bldg Type  Bedroom  \\\n",
       "PID                                                                       \n",
       "907227090   119900.0             864.0          60.0      1Fam        3   \n",
       "527108010   320000.0            2462.0         134.0      1Fam        4   \n",
       "534275170   151500.0             958.0           NaN      1Fam        2   \n",
       "528104050   385000.0            2084.0         114.0      1Fam        2   \n",
       "533206070   193800.0            1565.0          32.0    TwnhsE        2   \n",
       "\n",
       "           Total Full Baths MS Zoning Street Alley Utilities  \n",
       "PID                                                           \n",
       "907227090               1.0        RL   Pave   NaN    AllPub  \n",
       "527108010               3.0        RL   Pave   NaN    AllPub  \n",
       "534275170               1.0        RL   Pave   NaN    AllPub  \n",
       "528104050               3.0        RL   Pave   NaN    AllPub  \n",
       "533206070               3.0        FV   Pave  Pave    AllPub  "
      ]
     },
     "execution_count": 17,
     "metadata": {},
     "output_type": "execute_result"
    }
   ],
   "source": [
    "# Load data \n",
    "fpath =  \"Data/ames-housing-dojo-for-ml.csv\"\n",
    "df = pd.read_csv(fpath)\n",
    "df = df.set_index(\"PID\")\n",
    "# Define columns to use\n",
    "columns_to_use = columns_to_use = ['SalePrice', 'Living Area Sqft', 'Lot Frontage', 'Bldg Type', 'Bedroom','Total Full Baths','MS Zoning','Street', 'Alley','Utilities']\n",
    "df = df[columns_to_use]\n",
    "df.head()"
   ]
  },
  {
   "cell_type": "markdown",
   "id": "998e1116-3c50-4245-aba4-cf37b22c3008",
   "metadata": {},
   "source": [
    "Now functionalize the code to ultimately display an interactive dataframe in the app."
   ]
  },
  {
   "cell_type": "markdown",
   "id": "bee14ef1-063e-4203-94ce-1c4b0f6a52c7",
   "metadata": {
    "jp-MarkdownHeadingCollapsed": true
   },
   "source": [
    "### Displaying a DataFrame"
   ]
  },
  {
   "cell_type": "markdown",
   "id": "824bcb23-6806-4bb8-84ed-5a28fef66ed0",
   "metadata": {},
   "source": [
    "For performance purposes, we will want to wrap commands that produce data or load models as functions. This will allow us to take advantage of Streamlits caching, which will store objects in memory and avoid re-running unnecessary steps in your code.\r\n",
    "\r\n",
    "To take advantage of Streamlit's caching, we add use the decorator function @st.cache_data. Decorator functions are functions that are designed to work on other functions. To use a decorator, we use the @ symbol and the function name on the line immediately before the main function's def line"
   ]
  },
  {
   "cell_type": "code",
   "execution_count": 4,
   "id": "25ad0e83-7e3e-4704-a27e-886cb7ae8939",
   "metadata": {},
   "outputs": [],
   "source": [
    "# Select columns to use\n",
    "columns_to_use = ['SalePrice', 'Living Area Sqft', 'Lot Frontage', 'Bldg Type', 'Bedroom',\n",
    "                      'Total Full Baths','MS Zoning','Street', \n",
    "                      'Alley','Utilities']\n",
    "# Functionizing the load data from above for .py file\n",
    "def load_data():\n",
    "    fpath =  \"Data/ames-housing-dojo-for-ml.csv\"\n",
    "    df = pd.read_csv(fpath)\n",
    "    df = df.set_index(\"PID\")\n",
    "    df = df[columns_to_use]\n",
    "    return df"
   ]
  },
  {
   "cell_type": "code",
   "execution_count": 5,
   "id": "e65e2e5a-2bd6-4eed-97f0-1ce938a82621",
   "metadata": {},
   "outputs": [
    {
     "data": {
      "text/html": [
       "<div>\n",
       "<style scoped>\n",
       "    .dataframe tbody tr th:only-of-type {\n",
       "        vertical-align: middle;\n",
       "    }\n",
       "\n",
       "    .dataframe tbody tr th {\n",
       "        vertical-align: top;\n",
       "    }\n",
       "\n",
       "    .dataframe thead th {\n",
       "        text-align: right;\n",
       "    }\n",
       "</style>\n",
       "<table border=\"1\" class=\"dataframe\">\n",
       "  <thead>\n",
       "    <tr style=\"text-align: right;\">\n",
       "      <th></th>\n",
       "      <th>SalePrice</th>\n",
       "      <th>Living Area Sqft</th>\n",
       "      <th>Lot Frontage</th>\n",
       "      <th>Bldg Type</th>\n",
       "      <th>Bedroom</th>\n",
       "      <th>Total Full Baths</th>\n",
       "      <th>MS Zoning</th>\n",
       "      <th>Street</th>\n",
       "      <th>Alley</th>\n",
       "      <th>Utilities</th>\n",
       "    </tr>\n",
       "    <tr>\n",
       "      <th>PID</th>\n",
       "      <th></th>\n",
       "      <th></th>\n",
       "      <th></th>\n",
       "      <th></th>\n",
       "      <th></th>\n",
       "      <th></th>\n",
       "      <th></th>\n",
       "      <th></th>\n",
       "      <th></th>\n",
       "      <th></th>\n",
       "    </tr>\n",
       "  </thead>\n",
       "  <tbody>\n",
       "    <tr>\n",
       "      <th>907227090</th>\n",
       "      <td>119900.0</td>\n",
       "      <td>864.0</td>\n",
       "      <td>60.0</td>\n",
       "      <td>1Fam</td>\n",
       "      <td>3</td>\n",
       "      <td>1.0</td>\n",
       "      <td>RL</td>\n",
       "      <td>Pave</td>\n",
       "      <td>NaN</td>\n",
       "      <td>AllPub</td>\n",
       "    </tr>\n",
       "    <tr>\n",
       "      <th>527108010</th>\n",
       "      <td>320000.0</td>\n",
       "      <td>2462.0</td>\n",
       "      <td>134.0</td>\n",
       "      <td>1Fam</td>\n",
       "      <td>4</td>\n",
       "      <td>3.0</td>\n",
       "      <td>RL</td>\n",
       "      <td>Pave</td>\n",
       "      <td>NaN</td>\n",
       "      <td>AllPub</td>\n",
       "    </tr>\n",
       "    <tr>\n",
       "      <th>534275170</th>\n",
       "      <td>151500.0</td>\n",
       "      <td>958.0</td>\n",
       "      <td>NaN</td>\n",
       "      <td>1Fam</td>\n",
       "      <td>2</td>\n",
       "      <td>1.0</td>\n",
       "      <td>RL</td>\n",
       "      <td>Pave</td>\n",
       "      <td>NaN</td>\n",
       "      <td>AllPub</td>\n",
       "    </tr>\n",
       "    <tr>\n",
       "      <th>528104050</th>\n",
       "      <td>385000.0</td>\n",
       "      <td>2084.0</td>\n",
       "      <td>114.0</td>\n",
       "      <td>1Fam</td>\n",
       "      <td>2</td>\n",
       "      <td>3.0</td>\n",
       "      <td>RL</td>\n",
       "      <td>Pave</td>\n",
       "      <td>NaN</td>\n",
       "      <td>AllPub</td>\n",
       "    </tr>\n",
       "    <tr>\n",
       "      <th>533206070</th>\n",
       "      <td>193800.0</td>\n",
       "      <td>1565.0</td>\n",
       "      <td>32.0</td>\n",
       "      <td>TwnhsE</td>\n",
       "      <td>2</td>\n",
       "      <td>3.0</td>\n",
       "      <td>FV</td>\n",
       "      <td>Pave</td>\n",
       "      <td>Pave</td>\n",
       "      <td>AllPub</td>\n",
       "    </tr>\n",
       "  </tbody>\n",
       "</table>\n",
       "</div>"
      ],
      "text/plain": [
       "           SalePrice  Living Area Sqft  Lot Frontage Bldg Type  Bedroom  \\\n",
       "PID                                                                       \n",
       "907227090   119900.0             864.0          60.0      1Fam        3   \n",
       "527108010   320000.0            2462.0         134.0      1Fam        4   \n",
       "534275170   151500.0             958.0           NaN      1Fam        2   \n",
       "528104050   385000.0            2084.0         114.0      1Fam        2   \n",
       "533206070   193800.0            1565.0          32.0    TwnhsE        2   \n",
       "\n",
       "           Total Full Baths MS Zoning Street Alley Utilities  \n",
       "PID                                                           \n",
       "907227090               1.0        RL   Pave   NaN    AllPub  \n",
       "527108010               3.0        RL   Pave   NaN    AllPub  \n",
       "534275170               1.0        RL   Pave   NaN    AllPub  \n",
       "528104050               3.0        RL   Pave   NaN    AllPub  \n",
       "533206070               3.0        FV   Pave  Pave    AllPub  "
      ]
     },
     "execution_count": 5,
     "metadata": {},
     "output_type": "execute_result"
    }
   ],
   "source": [
    "# Verify the function works as expected before adding to notebook\n",
    "df = load_data()\n",
    "df.head()"
   ]
  },
  {
   "cell_type": "code",
   "execution_count": 6,
   "id": "19ad88d5-597e-4f8e-b9c8-f78346f86785",
   "metadata": {},
   "outputs": [
    {
     "data": {
      "text/html": [
       "<div>\n",
       "<style scoped>\n",
       "    .dataframe tbody tr th:only-of-type {\n",
       "        vertical-align: middle;\n",
       "    }\n",
       "\n",
       "    .dataframe tbody tr th {\n",
       "        vertical-align: top;\n",
       "    }\n",
       "\n",
       "    .dataframe thead th {\n",
       "        text-align: right;\n",
       "    }\n",
       "</style>\n",
       "<table border=\"1\" class=\"dataframe\">\n",
       "  <thead>\n",
       "    <tr style=\"text-align: right;\">\n",
       "      <th></th>\n",
       "      <th>SalePrice</th>\n",
       "      <th>Living Area Sqft</th>\n",
       "      <th>Lot Frontage</th>\n",
       "      <th>Bedroom</th>\n",
       "      <th>Total Full Baths</th>\n",
       "    </tr>\n",
       "  </thead>\n",
       "  <tbody>\n",
       "    <tr>\n",
       "      <th>count</th>\n",
       "      <td>2930.00</td>\n",
       "      <td>2930.00</td>\n",
       "      <td>2440.00</td>\n",
       "      <td>2930.00</td>\n",
       "      <td>2928.00</td>\n",
       "    </tr>\n",
       "    <tr>\n",
       "      <th>mean</th>\n",
       "      <td>180825.07</td>\n",
       "      <td>1499.69</td>\n",
       "      <td>69.22</td>\n",
       "      <td>2.85</td>\n",
       "      <td>2.00</td>\n",
       "    </tr>\n",
       "    <tr>\n",
       "      <th>std</th>\n",
       "      <td>79878.22</td>\n",
       "      <td>505.51</td>\n",
       "      <td>23.37</td>\n",
       "      <td>0.83</td>\n",
       "      <td>0.75</td>\n",
       "    </tr>\n",
       "    <tr>\n",
       "      <th>min</th>\n",
       "      <td>12789.00</td>\n",
       "      <td>334.00</td>\n",
       "      <td>21.00</td>\n",
       "      <td>0.00</td>\n",
       "      <td>0.00</td>\n",
       "    </tr>\n",
       "    <tr>\n",
       "      <th>25%</th>\n",
       "      <td>129500.00</td>\n",
       "      <td>1126.00</td>\n",
       "      <td>58.00</td>\n",
       "      <td>2.00</td>\n",
       "      <td>1.00</td>\n",
       "    </tr>\n",
       "    <tr>\n",
       "      <th>50%</th>\n",
       "      <td>160000.00</td>\n",
       "      <td>1442.00</td>\n",
       "      <td>68.00</td>\n",
       "      <td>3.00</td>\n",
       "      <td>2.00</td>\n",
       "    </tr>\n",
       "    <tr>\n",
       "      <th>75%</th>\n",
       "      <td>213500.00</td>\n",
       "      <td>1742.75</td>\n",
       "      <td>80.00</td>\n",
       "      <td>3.00</td>\n",
       "      <td>2.00</td>\n",
       "    </tr>\n",
       "    <tr>\n",
       "      <th>max</th>\n",
       "      <td>755000.00</td>\n",
       "      <td>5642.00</td>\n",
       "      <td>313.00</td>\n",
       "      <td>8.00</td>\n",
       "      <td>6.00</td>\n",
       "    </tr>\n",
       "  </tbody>\n",
       "</table>\n",
       "</div>"
      ],
      "text/plain": [
       "       SalePrice  Living Area Sqft  Lot Frontage  Bedroom  Total Full Baths\n",
       "count    2930.00           2930.00       2440.00  2930.00           2928.00\n",
       "mean   180825.07           1499.69         69.22     2.85              2.00\n",
       "std     79878.22            505.51         23.37     0.83              0.75\n",
       "min     12789.00            334.00         21.00     0.00              0.00\n",
       "25%    129500.00           1126.00         58.00     2.00              1.00\n",
       "50%    160000.00           1442.00         68.00     3.00              2.00\n",
       "75%    213500.00           1742.75         80.00     3.00              2.00\n",
       "max    755000.00           5642.00        313.00     8.00              6.00"
      ]
     },
     "execution_count": 6,
     "metadata": {},
     "output_type": "execute_result"
    }
   ],
   "source": [
    "# Obtain summary statistics\n",
    "df.describe().round(2)"
   ]
  },
  {
   "cell_type": "code",
   "execution_count": 7,
   "id": "31dc7225-e24b-4735-8bdb-8c0076d319cf",
   "metadata": {},
   "outputs": [
    {
     "name": "stdout",
     "output_type": "stream",
     "text": [
      "<class 'pandas.core.frame.DataFrame'>\n",
      "Int64Index: 2930 entries, 907227090 to 902201120\n",
      "Data columns (total 10 columns):\n",
      " #   Column            Non-Null Count  Dtype  \n",
      "---  ------            --------------  -----  \n",
      " 0   SalePrice         2930 non-null   float64\n",
      " 1   Living Area Sqft  2930 non-null   float64\n",
      " 2   Lot Frontage      2440 non-null   float64\n",
      " 3   Bldg Type         2930 non-null   object \n",
      " 4   Bedroom           2930 non-null   int64  \n",
      " 5   Total Full Baths  2928 non-null   float64\n",
      " 6   MS Zoning         2930 non-null   object \n",
      " 7   Street            2930 non-null   object \n",
      " 8   Alley             198 non-null    object \n",
      " 9   Utilities         2930 non-null   object \n",
      "dtypes: float64(4), int64(1), object(5)\n",
      "memory usage: 251.8+ KB\n"
     ]
    }
   ],
   "source": [
    "# In our notebook we can use df.info() to output our summary info into our console (direclty below the cell)\n",
    "df.info()"
   ]
  },
  {
   "cell_type": "markdown",
   "id": "ee05f110-70eb-4bb0-8618-33a5782e3383",
   "metadata": {},
   "source": [
    "While DataFrame.info() is a method that prints information to the console, Streamlit requires a slightly different approach since we want to display this information in the app. We can capture the info() output with an IO buffer and then display it."
   ]
  },
  {
   "cell_type": "code",
   "execution_count": 8,
   "id": "1105fca0-e223-4475-bae3-7889d724fde3",
   "metadata": {},
   "outputs": [],
   "source": [
    "# Display .info()\n",
    "# In order to display output on our app, we first need to capture it. \n",
    "# We can use an IO buffer to capture the output, then we will use the getvalue() argument to retrive it\n",
    "from io import StringIO\n",
    "# Create a string buffer to capture the content\n",
    "buffer = StringIO()\n",
    "# Write the info into the buffer\n",
    "df.info(buf=buffer)\n",
    "# Retrieve the content from the buffer\n",
    "summary_info = buffer.getvalue()"
   ]
  },
  {
   "cell_type": "markdown",
   "id": "2c1571c5-35d0-4c70-8419-c34815535b94",
   "metadata": {},
   "source": [
    "If we try to display the variable, we will see that it is a string. The output in the Jupyter console does not render the formatting."
   ]
  },
  {
   "cell_type": "code",
   "execution_count": 9,
   "id": "09191691-8cf8-46e1-ab5f-e4939ff968d2",
   "metadata": {},
   "outputs": [
    {
     "data": {
      "text/plain": [
       "\"<class 'pandas.core.frame.DataFrame'>\\nInt64Index: 2930 entries, 907227090 to 902201120\\nData columns (total 10 columns):\\n #   Column            Non-Null Count  Dtype  \\n---  ------            --------------  -----  \\n 0   SalePrice         2930 non-null   float64\\n 1   Living Area Sqft  2930 non-null   float64\\n 2   Lot Frontage      2440 non-null   float64\\n 3   Bldg Type         2930 non-null   object \\n 4   Bedroom           2930 non-null   int64  \\n 5   Total Full Baths  2928 non-null   float64\\n 6   MS Zoning         2930 non-null   object \\n 7   Street            2930 non-null   object \\n 8   Alley             198 non-null    object \\n 9   Utilities         2930 non-null   object \\ndtypes: float64(4), int64(1), object(5)\\nmemory usage: 251.8+ KB\\n\""
      ]
     },
     "execution_count": 9,
     "metadata": {},
     "output_type": "execute_result"
    }
   ],
   "source": [
    "# What the output looks like in the console\n",
    "summary_info"
   ]
  },
  {
   "cell_type": "markdown",
   "id": "3f69fd52-1904-4eb9-b051-cf6afbe221bc",
   "metadata": {},
   "source": [
    "It will render as expected when we use st.text() to display it on our app."
   ]
  },
  {
   "cell_type": "markdown",
   "id": "b6ef1111-6ac0-4d42-8bd6-f26cbc76399c",
   "metadata": {
    "jp-MarkdownHeadingCollapsed": true
   },
   "source": [
    "### Displaying Null Value Output (.isna().sum())"
   ]
  },
  {
   "cell_type": "code",
   "execution_count": 11,
   "id": "9bc528c8-6c1c-41b1-87e8-5bc6f30feb83",
   "metadata": {},
   "outputs": [
    {
     "data": {
      "text/plain": [
       "SalePrice              0\n",
       "Living Area Sqft       0\n",
       "Lot Frontage         490\n",
       "Bldg Type              0\n",
       "Bedroom                0\n",
       "Total Full Baths       2\n",
       "MS Zoning              0\n",
       "Street                 0\n",
       "Alley               2732\n",
       "Utilities              0\n",
       "dtype: int64"
      ]
     },
     "execution_count": 11,
     "metadata": {},
     "output_type": "execute_result"
    }
   ],
   "source": [
    "# First check results in notebook\n",
    "# Displaying null values\n",
    "nulls =df.isna().sum()\n",
    "nulls"
   ]
  },
  {
   "cell_type": "code",
   "execution_count": 12,
   "id": "21102de1-7839-4e5f-8f10-3e2298239122",
   "metadata": {},
   "outputs": [
    {
     "data": {
      "text/plain": [
       "pandas.core.series.Series"
      ]
     },
     "execution_count": 12,
     "metadata": {},
     "output_type": "execute_result"
    }
   ],
   "source": [
    "# Check data type\n",
    "type(nulls)"
   ]
  },
  {
   "cell_type": "markdown",
   "id": "1c243521-eb28-469b-846e-670f7210ad71",
   "metadata": {},
   "source": [
    "We have a few options for how we choose to display a series.\r\n",
    "\r\n",
    "Option 1: Display as a dataframe using st.dataframe()\r\n",
    "\r\n",
    "Option 2: Display as a string using the io buffer\r\n",
    "\r\n",
    "We demonstrate both options in the code below."
   ]
  },
  {
   "cell_type": "code",
   "execution_count": 15,
   "id": "4883d12e-a2cf-40cf-973d-17de120ca039",
   "metadata": {},
   "outputs": [
    {
     "name": "stderr",
     "output_type": "stream",
     "text": [
      "2024-02-17 14:50:20.446 \n",
      "  \u001b[33m\u001b[1mWarning:\u001b[0m to view this Streamlit app on a browser, run it with the following\n",
      "  command:\n",
      "\n",
      "    streamlit run C:\\Users\\Malue\\anaconda3\\envs\\dojo-env\\lib\\site-packages\\ipykernel_launcher.py [ARGUMENTS]\n"
     ]
    },
    {
     "data": {
      "text/plain": [
       "DeltaGenerator()"
      ]
     },
     "execution_count": 15,
     "metadata": {},
     "output_type": "execute_result"
    }
   ],
   "source": [
    "# We could display the output series as a dataframe\n",
    "st.markdown(\"#### Null Values as dataframe\")\n",
    "nulls =df.isna().sum()\n",
    "st.dataframe(nulls)\n",
    "# Create a string buffer to capture the content\n",
    "buffer = StringIO()\n",
    "# Write the content into the buffer...use to_string\n",
    "df.isna().sum().to_string(buffer)\n",
    "# Retrieve the content from the buffer\n",
    "null_values = buffer.getvalue()\n",
    "# Use Streamlit to display the info\n",
    "st.markdown(\"#### Null Values as String\")\n",
    "st.text(null_values)"
   ]
  },
  {
   "cell_type": "markdown",
   "id": "78161f1c-4616-4ce2-a78a-0fcafb84a634",
   "metadata": {
    "jp-MarkdownHeadingCollapsed": true
   },
   "source": [
    "### Summary"
   ]
  },
  {
   "cell_type": "markdown",
   "id": "70dfbd36-0eef-4068-87ab-9a68c4881a73",
   "metadata": {},
   "source": [
    "In this lesson, you learned how to functionalize the loading of your data and how to add a caching decorator to the function to improve your app's performance. Streamlit's dataframe widget is interactive. You also learned how to capture and display output using an IO buffer. In the next lesson, we will display plots and add interactivity to our EDA app."
   ]
  },
  {
   "cell_type": "markdown",
   "id": "42b515db-6631-412e-b7ef-8c2758fa7d0f",
   "metadata": {},
   "source": [
    "# Displaying Plots"
   ]
  },
  {
   "cell_type": "markdown",
   "id": "1bc47767-b92d-4946-b7dc-6ebf65a2e554",
   "metadata": {},
   "source": [
    "**Objective**\n",
    "- Display plots on Streamlit app\n",
    "- Use custom EDA Functions on Streamlit app\n",
    "- Add interactivity to plots"
   ]
  },
  {
   "cell_type": "markdown",
   "id": "aa4b96ba-aa9c-41ac-a447-b01b1e29455f",
   "metadata": {},
   "source": [
    "### Displaying a Histogram"
   ]
  },
  {
   "cell_type": "code",
   "execution_count": 18,
   "id": "da73f469-b245-498b-b703-2c7ae067f462",
   "metadata": {},
   "outputs": [
    {
     "data": {
      "image/png": "[encoded data removed]",
      "text/plain": [
       "<Figure size 640x480 with 1 Axes>"
      ]
     },
     "metadata": {},
     "output_type": "display_data"
    }
   ],
   "source": [
    "# Histogram\n",
    "sns.histplot(data = df, x = 'SalePrice');"
   ]
  },
  {
   "cell_type": "code",
   "execution_count": 19,
   "id": "9ae3fd11-c395-4363-92db-0f12c0ee769d",
   "metadata": {},
   "outputs": [],
   "source": [
    "# Function for returning a histogram fig\n",
    "def plot_hist(df, column):\n",
    "    fig, ax = plt.subplots()\n",
    "    sns.histplot(data = df, x = column)\n",
    "    return fig"
   ]
  },
  {
   "cell_type": "code",
   "execution_count": 20,
   "id": "71712ef4-5d9d-48ca-8bac-334be26e64d6",
   "metadata": {},
   "outputs": [
    {
     "data": {
      "image/png": "[encoded data removed]",
      "text/plain": [
       "<Figure size 640x480 with 1 Axes>"
      ]
     },
     "metadata": {},
     "output_type": "display_data"
    }
   ],
   "source": [
    "# Test the function\n",
    "fig = plot_hist(df, 'SalePrice')"
   ]
  },
  {
   "cell_type": "markdown",
   "id": "aa9f3419-9404-4112-89d7-72a18f1448d3",
   "metadata": {},
   "source": [
    "**Displaying plots from Custom EDA Functions**\n",
    "\n",
    "Now that we can display plots, we can leverage the custom functions we created previously in this program. We will revisit two functions that we created in Course 1, week 4. The functions produced customized eda plots for categorical or numerical features. Our ultimate goal will be to allow users to select any feature from a dropdown menu and display the appropriate eda plots.\n"
   ]
  },
  {
   "cell_type": "markdown",
   "id": "32d657fb-ce07-4b48-adf3-484aa67e67ce",
   "metadata": {},
   "source": [
    "#### explore_categorical"
   ]
  },
  {
   "cell_type": "code",
   "execution_count": 21,
   "id": "1d111453-2f9a-4716-8c86-1424e1b05605",
   "metadata": {},
   "outputs": [],
   "source": [
    "# Revisiting original custom function for exploring categorical values\n",
    "# Original from LP week 4\n",
    "def explore_categorical(df, x, fillna = True, placeholder = 'MISSING',\n",
    "                        figsize = (6,4), order = None):\n",
    " \n",
    "  # Make a copy of the dataframe and fillna \n",
    "  temp_df = df.copy()\n",
    "  # Before filling nulls, save null value counts and percent for printing \n",
    "  null_count = temp_df[x].isna().sum()\n",
    "  null_perc = null_count/len(temp_df)* 100\n",
    "  # fillna with placeholder\n",
    "  if fillna == True:\n",
    "    temp_df[x] = temp_df[x].fillna(placeholder)\n",
    "  # Create figure with desired figsize\n",
    "  fig, ax = plt.subplots(figsize=figsize)\n",
    "  # Plotting a count plot \n",
    "  sns.countplot(data=temp_df, x=x, ax=ax, order=order)\n",
    "  # Rotate Tick Labels for long names\n",
    "  ax.set_xticklabels(ax.get_xticklabels(), rotation=45, ha='right')\n",
    "  # Add a title with the feature name included\n",
    "  ax.set_title(f\"Column: {x}\")\n",
    "  \n",
    "  # Fix layout and show plot (before print statements)\n",
    "  fig.tight_layout()\n",
    "  plt.show()\n",
    "      \n",
    "  # Print null value info\n",
    "  print(f\"- NaN's Found: {null_count} ({round(null_perc,2)}%)\")\n",
    "  # Print cardinality info\n",
    "  nunique = temp_df[x].nunique()\n",
    "  print(f\"- Unique Values: {nunique}\")\n",
    "  # First find value counts of feature\n",
    "  val_counts = temp_df[x].value_counts(dropna=False)\n",
    "  # Define the most common value\n",
    "  most_common_val = val_counts.index[0]\n",
    "  # Define the frequency of the most common value\n",
    "  freq = val_counts.values[0]\n",
    "  # Calculate the percentage of the most common value\n",
    "  perc_most_common = freq / len(temp_df) * 100\n",
    "  # Print the results\n",
    "  print(f\"- Most common value: '{most_common_val}' occurs {freq} times ({round(perc_most_common,2)}%)\")\n",
    "  # print message if quasi-constant or constant (most common val more than 98% of data)\n",
    "  if perc_most_common > 98:\n",
    "    print(f\"\\n- [!] Warning: '{x}' is a constant or quasi-constant feature and should be dropped.\")\n",
    "  else:\n",
    "    print(\"- Not constant or quasi-constant.\")\n",
    "  return fig, ax"
   ]
  },
  {
   "cell_type": "code",
   "execution_count": 22,
   "id": "e6d5a262-ddb3-49cc-b9b7-bd2c9a12e285",
   "metadata": {},
   "outputs": [
    {
     "data": {
      "image/png": "[encoded data removed]",
      "text/plain": [
       "<Figure size 600x400 with 1 Axes>"
      ]
     },
     "metadata": {},
     "output_type": "display_data"
    },
    {
     "name": "stdout",
     "output_type": "stream",
     "text": [
      "- NaN's Found: 2732 (93.24%)\n",
      "- Unique Values: 3\n",
      "- Most common value: 'MISSING' occurs 2732 times (93.24%)\n",
      "- Not constant or quasi-constant.\n"
     ]
    }
   ],
   "source": [
    "# Review function output\n",
    "explore_categorical(df, 'Alley');"
   ]
  },
  {
   "cell_type": "markdown",
   "id": "63d5e124-f368-4482-bb90-59b826cd46c6",
   "metadata": {},
   "source": [
    "Note that we will only display the plots and will not display the print statements in this demo.\n",
    "\n",
    "As written, this function returns the fig and ax. When we define the outputs of the function, we must define two variables (one for the fig, and one for the ax)."
   ]
  },
  {
   "cell_type": "code",
   "execution_count": 24,
   "id": "6c75ac64-426d-43cf-9c09-566203c36b55",
   "metadata": {},
   "outputs": [
    {
     "data": {
      "image/png": "[encoded data removed]",
      "text/plain": [
       "<Figure size 600x400 with 1 Axes>"
      ]
     },
     "metadata": {},
     "output_type": "display_data"
    },
    {
     "name": "stdout",
     "output_type": "stream",
     "text": [
      "- NaN's Found: 2732 (93.24%)\n",
      "- Unique Values: 3\n",
      "- Most common value: 'MISSING' occurs 2732 times (93.24%)\n",
      "- Not constant or quasi-constant.\n"
     ]
    }
   ],
   "source": [
    "# Save the output of the function\n",
    "fig, ax = explore_categorical(df, 'Alley')"
   ]
  },
  {
   "cell_type": "markdown",
   "id": "7129b4a3-df60-4f7e-b927-7e4d4161046d",
   "metadata": {},
   "source": [
    "#### explore_numeric"
   ]
  },
  {
   "cell_type": "code",
   "execution_count": 25,
   "id": "94a4ca1d-3b30-4f08-9d75-0fcf13afc81c",
   "metadata": {},
   "outputs": [],
   "source": [
    "def explore_numeric(df, x, figsize=(6,5) ):\n",
    "  # Making our figure with gridspec for subplots\n",
    "  gridspec = {'height_ratios':[0.7,0.3]}\n",
    "  fig, axes = plt.subplots(nrows=2, figsize=figsize,\n",
    "                           sharex=True, gridspec_kw=gridspec)\n",
    "  # Histogram on Top\n",
    "  sns.histplot(data=df, x=x, ax=axes[0])\n",
    "  # Boxplot on Bottom\n",
    "  sns.boxplot(data=df, x=x, ax=axes[1])\n",
    "  ## Adding a title\n",
    "  axes[0].set_title(f\"Column: {x}\")\n",
    "  ## Adjusting subplots to best fill Figure\n",
    "  fig.tight_layout()\n",
    "  \n",
    "  # Ensure plot is shown before message\n",
    "  plt.show()\n",
    "  ## Print message with info on the count and % of null values\n",
    "  null_count = df[x].isna().sum()\n",
    "  null_perc = null_count/len(df)* 100\n",
    "  print(f\"- NaN's Found: {null_count} ({round(null_perc,2)}%)\")\n",
    "  return fig"
   ]
  },
  {
   "cell_type": "markdown",
   "id": "eb225a7c-81dc-4c1b-8a65-0ef6ac307b77",
   "metadata": {},
   "source": [
    "Let's review the output of this function using LotFrontage as our numerical feature.\n",
    "\n",
    "Note that this function only returns a single object, so we can just define the \"fig\" when we call the function."
   ]
  },
  {
   "cell_type": "code",
   "execution_count": 26,
   "id": "35a340c7-9960-4aec-a7fa-b1394518f143",
   "metadata": {},
   "outputs": [
    {
     "data": {
      "image/png": "[encoded data removed]",
      "text/plain": [
       "<Figure size 600x500 with 2 Axes>"
      ]
     },
     "metadata": {},
     "output_type": "display_data"
    },
    {
     "name": "stdout",
     "output_type": "stream",
     "text": [
      "- NaN's Found: 490 (16.72%)\n"
     ]
    }
   ],
   "source": [
    "# Review output\n",
    "fig = explore_numeric(df, 'Lot Frontage')"
   ]
  },
  {
   "cell_type": "markdown",
   "id": "af22d66a-1ea9-4ec4-b7a1-0c345947068a",
   "metadata": {},
   "source": [
    "#### Interactive feature choice"
   ]
  },
  {
   "cell_type": "markdown",
   "id": "ac407b9d-b6df-439f-828e-d020edb79d7a",
   "metadata": {},
   "source": [
    "Now that we can display the outputs for categorical features and for numerical features, we are going to modify the app to allow users to select any feature from a dropdown menu and produce the appropriate plot.\r\n",
    "\r\n",
    "We will use a conditional statement to ensure the correct function is used based on the datatype of the feature. If the feature is an object, we will produce the plots using the explore_categorical function. Otherwise, we will produce the numeric plots."
   ]
  },
  {
   "cell_type": "code",
   "execution_count": 27,
   "id": "4909220f-4e57-4655-b77c-639b0ee6a3e7",
   "metadata": {},
   "outputs": [
    {
     "data": {
      "image/png": "[encoded data removed]",
      "text/plain": [
       "<Figure size 600x400 with 1 Axes>"
      ]
     },
     "metadata": {},
     "output_type": "display_data"
    },
    {
     "name": "stdout",
     "output_type": "stream",
     "text": [
      "- NaN's Found: 2732 (93.24%)\n",
      "- Unique Values: 3\n",
      "- Most common value: 'MISSING' occurs 2732 times (93.24%)\n",
      "- Not constant or quasi-constant.\n"
     ]
    }
   ],
   "source": [
    "# Try a categorical column to test conditional statement\n",
    "column = 'Alley'\n",
    "if df[column].dtype == 'object':\n",
    "    fig = explore_categorical(df, column)\n",
    "else:\n",
    "    fig = explore_numeric(df, column)"
   ]
  },
  {
   "cell_type": "code",
   "execution_count": 28,
   "id": "de60866a-28f1-43f9-a862-ff9c1d49aaf2",
   "metadata": {},
   "outputs": [
    {
     "data": {
      "image/png": "[encoded data removed]",
      "text/plain": [
       "<Figure size 600x500 with 2 Axes>"
      ]
     },
     "metadata": {},
     "output_type": "display_data"
    },
    {
     "name": "stdout",
     "output_type": "stream",
     "text": [
      "- NaN's Found: 490 (16.72%)\n"
     ]
    }
   ],
   "source": [
    "# Try a numeric column to test conditional statement\n",
    "column = 'Lot Frontage'\n",
    "if df[column].dtype == 'object':\n",
    "    fig = explore_categorical(df, column)\n",
    "else:\n",
    "    fig = explore_numeric(df, column)"
   ]
  },
  {
   "cell_type": "markdown",
   "id": "08212f70-db3e-4309-9625-9a479c000f6d",
   "metadata": {},
   "source": [
    "Instead of defining a particular column, we will use st.selectbox() to give users a choice.\n",
    "\n",
    "Recall that we have already defined a list of all the columns."
   ]
  },
  {
   "cell_type": "code",
   "execution_count": 29,
   "id": "8c73c0cd-cefe-450a-9a08-46c4da78e706",
   "metadata": {},
   "outputs": [
    {
     "data": {
      "text/plain": [
       "['SalePrice',\n",
       " 'Living Area Sqft',\n",
       " 'Lot Frontage',\n",
       " 'Bldg Type',\n",
       " 'Bedroom',\n",
       " 'Total Full Baths',\n",
       " 'MS Zoning',\n",
       " 'Street',\n",
       " 'Alley',\n",
       " 'Utilities']"
      ]
     },
     "execution_count": 29,
     "metadata": {},
     "output_type": "execute_result"
    }
   ],
   "source": [
    "# Check list of columns\n",
    "columns_to_use"
   ]
  },
  {
   "cell_type": "markdown",
   "id": "2961b5d9-2bd0-4637-b17f-c0d783d19a5c",
   "metadata": {},
   "source": [
    "We will use this list within the st.selectbox() function.\n",
    "\n",
    "Add the following code to your .py file."
   ]
  },
  {
   "cell_type": "code",
   "execution_count": 30,
   "id": "be7a3993-3f38-439a-a94b-4cb68f93f972",
   "metadata": {},
   "outputs": [
    {
     "data": {
      "image/png": "[encoded data removed]",
      "text/plain": [
       "<Figure size 600x500 with 2 Axes>"
      ]
     },
     "metadata": {},
     "output_type": "display_data"
    },
    {
     "name": "stdout",
     "output_type": "stream",
     "text": [
      "- NaN's Found: 0 (0.0%)\n"
     ]
    },
    {
     "data": {
      "text/plain": [
       "DeltaGenerator()"
      ]
     },
     "execution_count": 30,
     "metadata": {},
     "output_type": "execute_result"
    }
   ],
   "source": [
    "# Add a selectbox for all possible features\n",
    "column = st.selectbox(label=\"Select a column\", options=columns_to_use)\n",
    "# Conditional statement to determine which function to use\n",
    "if df[column].dtype == 'object':\n",
    "    fig, ax  = explore_categorical(df, column)\n",
    "else:\n",
    "    fig = explore_numeric(df, column)\n",
    "    \n",
    "st.markdown(\"#### Displaying appropriate plot based on selected column\")\n",
    "# Display appropriate eda plots\n",
    "st.pyplot(fig)"
   ]
  },
  {
   "cell_type": "markdown",
   "id": "e7b7d0ef-af9b-4aa0-b69e-864a138e20ee",
   "metadata": {},
   "source": [
    "Take some time to change the selected column from the dropdown menu and notice how the plots change to match your selection!\r\n",
    "\r\n",
    "This app is all about learning and exploring, but if you wanted to deploy it, you would remove the code to display the plots we used to build up to this point. You would also use headers appropriate for the end user."
   ]
  },
  {
   "cell_type": "markdown",
   "id": "454599d3-12ac-48df-8f9d-90e681876b60",
   "metadata": {},
   "source": [
    "### Summary"
   ]
  },
  {
   "cell_type": "markdown",
   "id": "8d00866e-6b04-4413-8381-a4bb6e3d67b3",
   "metadata": {},
   "source": [
    "In this lesson, you learned how to display plots, take advantage of existing plotting functions, and add interactivity to your app. App building is an iterative process! The practice assignment will allow you to display more plots using some of the other custom eda functions from earlier in the program."
   ]
  }
 ],
 "metadata": {
  "kernelspec": {
   "display_name": "Python 3 (ipykernel)",
   "language": "python",
   "name": "python3"
  },
  "language_info": {
   "codemirror_mode": {
    "name": "ipython",
    "version": 3
   },
   "file_extension": ".py",
   "mimetype": "text/x-python",
   "name": "python",
   "nbconvert_exporter": "python",
   "pygments_lexer": "ipython3",
   "version": "3.10.10"
  },
  "widgets": {
   "application/vnd.jupyter.widget-state+json": {
    "state": {},
    "version_major": 2,
    "version_minor": 0
   }
  }
 },
 "nbformat": 4,
 "nbformat_minor": 5
}
