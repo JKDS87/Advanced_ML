{
 "cells": [
  {
   "cell_type": "markdown",
   "id": "974bdb08-97e8-45a9-a003-502b0a019896",
   "metadata": {},
   "source": [
    "# Dataframes and String Outputs"
   ]
  },
  {
   "cell_type": "markdown",
   "id": "f1a9171a-7625-4e75-b0bf-a9d1d1bf9209",
   "metadata": {},
   "source": [
    "**Objective**\n",
    "- Display dataframes on Streamlit\n",
    "- Add Streamlit's caching to a function\n",
    "- Display string outputs using StringIO()"
   ]
  },
  {
   "cell_type": "markdown",
   "id": "938fb28a-a5d8-4e9f-99fe-b37a8a7b50ed",
   "metadata": {},
   "source": [
    "### Working with Streamlit before adding to .py file"
   ]
  },
  {
   "cell_type": "code",
   "execution_count": 14,
   "id": "dff23dd7-b3e3-4b2d-94f5-3c9027a5ac83",
   "metadata": {},
   "outputs": [],
   "source": [
    "# Imports\n",
    "import streamlit as st\n",
    "import pandas as pd\n",
    "import numpy as np\n",
    "import matplotlib.pyplot as plt\n",
    "import seaborn as sns\n",
    "pd.set_option('display.max_columns', 100)"
   ]
  },
  {
   "cell_type": "markdown",
   "id": "059a6f23-0f1a-4825-a739-6675d9f9baa1",
   "metadata": {},
   "source": [
    "Load data. Keep demo simple and only include target and some features."
   ]
  },
  {
   "cell_type": "code",
   "execution_count": 17,
   "id": "14a86fc0-88ca-4bdb-9a53-567cde9c110f",
   "metadata": {},
   "outputs": [
    {
     "data": {
      "text/html": [
       "<div>\n",
       "<style scoped>\n",
       "    .dataframe tbody tr th:only-of-type {\n",
       "        vertical-align: middle;\n",
       "    }\n",
       "\n",
       "    .dataframe tbody tr th {\n",
       "        vertical-align: top;\n",
       "    }\n",
       "\n",
       "    .dataframe thead th {\n",
       "        text-align: right;\n",
       "    }\n",
       "</style>\n",
       "<table border=\"1\" class=\"dataframe\">\n",
       "  <thead>\n",
       "    <tr style=\"text-align: right;\">\n",
       "      <th></th>\n",
       "      <th>SalePrice</th>\n",
       "      <th>Living Area Sqft</th>\n",
       "      <th>Lot Frontage</th>\n",
       "      <th>Bldg Type</th>\n",
       "      <th>Bedroom</th>\n",
       "      <th>Total Full Baths</th>\n",
       "      <th>MS Zoning</th>\n",
       "      <th>Street</th>\n",
       "      <th>Alley</th>\n",
       "      <th>Utilities</th>\n",
       "    </tr>\n",
       "    <tr>\n",
       "      <th>PID</th>\n",
       "      <th></th>\n",
       "      <th></th>\n",
       "      <th></th>\n",
       "      <th></th>\n",
       "      <th></th>\n",
       "      <th></th>\n",
       "      <th></th>\n",
       "      <th></th>\n",
       "      <th></th>\n",
       "      <th></th>\n",
       "    </tr>\n",
       "  </thead>\n",
       "  <tbody>\n",
       "    <tr>\n",
       "      <th>907227090</th>\n",
       "      <td>119900.0</td>\n",
       "      <td>864.0</td>\n",
       "      <td>60.0</td>\n",
       "      <td>1Fam</td>\n",
       "      <td>3</td>\n",
       "      <td>1.0</td>\n",
       "      <td>RL</td>\n",
       "      <td>Pave</td>\n",
       "      <td>NaN</td>\n",
       "      <td>AllPub</td>\n",
       "    </tr>\n",
       "    <tr>\n",
       "      <th>527108010</th>\n",
       "      <td>320000.0</td>\n",
       "      <td>2462.0</td>\n",
       "      <td>134.0</td>\n",
       "      <td>1Fam</td>\n",
       "      <td>4</td>\n",
       "      <td>3.0</td>\n",
       "      <td>RL</td>\n",
       "      <td>Pave</td>\n",
       "      <td>NaN</td>\n",
       "      <td>AllPub</td>\n",
       "    </tr>\n",
       "    <tr>\n",
       "      <th>534275170</th>\n",
       "      <td>151500.0</td>\n",
       "      <td>958.0</td>\n",
       "      <td>NaN</td>\n",
       "      <td>1Fam</td>\n",
       "      <td>2</td>\n",
       "      <td>1.0</td>\n",
       "      <td>RL</td>\n",
       "      <td>Pave</td>\n",
       "      <td>NaN</td>\n",
       "      <td>AllPub</td>\n",
       "    </tr>\n",
       "    <tr>\n",
       "      <th>528104050</th>\n",
       "      <td>385000.0</td>\n",
       "      <td>2084.0</td>\n",
       "      <td>114.0</td>\n",
       "      <td>1Fam</td>\n",
       "      <td>2</td>\n",
       "      <td>3.0</td>\n",
       "      <td>RL</td>\n",
       "      <td>Pave</td>\n",
       "      <td>NaN</td>\n",
       "      <td>AllPub</td>\n",
       "    </tr>\n",
       "    <tr>\n",
       "      <th>533206070</th>\n",
       "      <td>193800.0</td>\n",
       "      <td>1565.0</td>\n",
       "      <td>32.0</td>\n",
       "      <td>TwnhsE</td>\n",
       "      <td>2</td>\n",
       "      <td>3.0</td>\n",
       "      <td>FV</td>\n",
       "      <td>Pave</td>\n",
       "      <td>Pave</td>\n",
       "      <td>AllPub</td>\n",
       "    </tr>\n",
       "  </tbody>\n",
       "</table>\n",
       "</div>"
      ],
      "text/plain": [
       "           SalePrice  Living Area Sqft  Lot Frontage Bldg Type  Bedroom  \\\n",
       "PID                                                                       \n",
       "907227090   119900.0             864.0          60.0      1Fam        3   \n",
       "527108010   320000.0            2462.0         134.0      1Fam        4   \n",
       "534275170   151500.0             958.0           NaN      1Fam        2   \n",
       "528104050   385000.0            2084.0         114.0      1Fam        2   \n",
       "533206070   193800.0            1565.0          32.0    TwnhsE        2   \n",
       "\n",
       "           Total Full Baths MS Zoning Street Alley Utilities  \n",
       "PID                                                           \n",
       "907227090               1.0        RL   Pave   NaN    AllPub  \n",
       "527108010               3.0        RL   Pave   NaN    AllPub  \n",
       "534275170               1.0        RL   Pave   NaN    AllPub  \n",
       "528104050               3.0        RL   Pave   NaN    AllPub  \n",
       "533206070               3.0        FV   Pave  Pave    AllPub  "
      ]
     },
     "execution_count": 17,
     "metadata": {},
     "output_type": "execute_result"
    }
   ],
   "source": [
    "# Load data \n",
    "fpath =  \"Data/ames-housing-dojo-for-ml.csv\"\n",
    "df = pd.read_csv(fpath)\n",
    "df = df.set_index(\"PID\")\n",
    "# Define columns to use\n",
    "columns_to_use = columns_to_use = ['SalePrice', 'Living Area Sqft', 'Lot Frontage', 'Bldg Type', 'Bedroom','Total Full Baths','MS Zoning','Street', 'Alley','Utilities']\n",
    "df = df[columns_to_use]\n",
    "df.head()"
   ]
  },
  {
   "cell_type": "markdown",
   "id": "998e1116-3c50-4245-aba4-cf37b22c3008",
   "metadata": {},
   "source": [
    "Now functionalize the code to ultimately display an interactive dataframe in the app."
   ]
  },
  {
   "cell_type": "markdown",
   "id": "bee14ef1-063e-4203-94ce-1c4b0f6a52c7",
   "metadata": {},
   "source": [
    "### Displaying a DataFrame"
   ]
  },
  {
   "cell_type": "markdown",
   "id": "824bcb23-6806-4bb8-84ed-5a28fef66ed0",
   "metadata": {},
   "source": [
    "For performance purposes, we will want to wrap commands that produce data or load models as functions. This will allow us to take advantage of Streamlits caching, which will store objects in memory and avoid re-running unnecessary steps in your code.\r\n",
    "\r\n",
    "To take advantage of Streamlit's caching, we add use the decorator function @st.cache_data. Decorator functions are functions that are designed to work on other functions. To use a decorator, we use the @ symbol and the function name on the line immediately before the main function's def line"
   ]
  },
  {
   "cell_type": "code",
   "execution_count": 4,
   "id": "25ad0e83-7e3e-4704-a27e-886cb7ae8939",
   "metadata": {},
   "outputs": [],
   "source": [
    "# Select columns to use\n",
    "columns_to_use = ['SalePrice', 'Living Area Sqft', 'Lot Frontage', 'Bldg Type', 'Bedroom',\n",
    "                      'Total Full Baths','MS Zoning','Street', \n",
    "                      'Alley','Utilities']\n",
    "# Functionizing the load data from above for .py file\n",
    "def load_data():\n",
    "    fpath =  \"Data/ames-housing-dojo-for-ml.csv\"\n",
    "    df = pd.read_csv(fpath)\n",
    "    df = df.set_index(\"PID\")\n",
    "    df = df[columns_to_use]\n",
    "    return df"
   ]
  },
  {
   "cell_type": "code",
   "execution_count": 5,
   "id": "e65e2e5a-2bd6-4eed-97f0-1ce938a82621",
   "metadata": {},
   "outputs": [
    {
     "data": {
      "text/html": [
       "<div>\n",
       "<style scoped>\n",
       "    .dataframe tbody tr th:only-of-type {\n",
       "        vertical-align: middle;\n",
       "    }\n",
       "\n",
       "    .dataframe tbody tr th {\n",
       "        vertical-align: top;\n",
       "    }\n",
       "\n",
       "    .dataframe thead th {\n",
       "        text-align: right;\n",
       "    }\n",
       "</style>\n",
       "<table border=\"1\" class=\"dataframe\">\n",
       "  <thead>\n",
       "    <tr style=\"text-align: right;\">\n",
       "      <th></th>\n",
       "      <th>SalePrice</th>\n",
       "      <th>Living Area Sqft</th>\n",
       "      <th>Lot Frontage</th>\n",
       "      <th>Bldg Type</th>\n",
       "      <th>Bedroom</th>\n",
       "      <th>Total Full Baths</th>\n",
       "      <th>MS Zoning</th>\n",
       "      <th>Street</th>\n",
       "      <th>Alley</th>\n",
       "      <th>Utilities</th>\n",
       "    </tr>\n",
       "    <tr>\n",
       "      <th>PID</th>\n",
       "      <th></th>\n",
       "      <th></th>\n",
       "      <th></th>\n",
       "      <th></th>\n",
       "      <th></th>\n",
       "      <th></th>\n",
       "      <th></th>\n",
       "      <th></th>\n",
       "      <th></th>\n",
       "      <th></th>\n",
       "    </tr>\n",
       "  </thead>\n",
       "  <tbody>\n",
       "    <tr>\n",
       "      <th>907227090</th>\n",
       "      <td>119900.0</td>\n",
       "      <td>864.0</td>\n",
       "      <td>60.0</td>\n",
       "      <td>1Fam</td>\n",
       "      <td>3</td>\n",
       "      <td>1.0</td>\n",
       "      <td>RL</td>\n",
       "      <td>Pave</td>\n",
       "      <td>NaN</td>\n",
       "      <td>AllPub</td>\n",
       "    </tr>\n",
       "    <tr>\n",
       "      <th>527108010</th>\n",
       "      <td>320000.0</td>\n",
       "      <td>2462.0</td>\n",
       "      <td>134.0</td>\n",
       "      <td>1Fam</td>\n",
       "      <td>4</td>\n",
       "      <td>3.0</td>\n",
       "      <td>RL</td>\n",
       "      <td>Pave</td>\n",
       "      <td>NaN</td>\n",
       "      <td>AllPub</td>\n",
       "    </tr>\n",
       "    <tr>\n",
       "      <th>534275170</th>\n",
       "      <td>151500.0</td>\n",
       "      <td>958.0</td>\n",
       "      <td>NaN</td>\n",
       "      <td>1Fam</td>\n",
       "      <td>2</td>\n",
       "      <td>1.0</td>\n",
       "      <td>RL</td>\n",
       "      <td>Pave</td>\n",
       "      <td>NaN</td>\n",
       "      <td>AllPub</td>\n",
       "    </tr>\n",
       "    <tr>\n",
       "      <th>528104050</th>\n",
       "      <td>385000.0</td>\n",
       "      <td>2084.0</td>\n",
       "      <td>114.0</td>\n",
       "      <td>1Fam</td>\n",
       "      <td>2</td>\n",
       "      <td>3.0</td>\n",
       "      <td>RL</td>\n",
       "      <td>Pave</td>\n",
       "      <td>NaN</td>\n",
       "      <td>AllPub</td>\n",
       "    </tr>\n",
       "    <tr>\n",
       "      <th>533206070</th>\n",
       "      <td>193800.0</td>\n",
       "      <td>1565.0</td>\n",
       "      <td>32.0</td>\n",
       "      <td>TwnhsE</td>\n",
       "      <td>2</td>\n",
       "      <td>3.0</td>\n",
       "      <td>FV</td>\n",
       "      <td>Pave</td>\n",
       "      <td>Pave</td>\n",
       "      <td>AllPub</td>\n",
       "    </tr>\n",
       "  </tbody>\n",
       "</table>\n",
       "</div>"
      ],
      "text/plain": [
       "           SalePrice  Living Area Sqft  Lot Frontage Bldg Type  Bedroom  \\\n",
       "PID                                                                       \n",
       "907227090   119900.0             864.0          60.0      1Fam        3   \n",
       "527108010   320000.0            2462.0         134.0      1Fam        4   \n",
       "534275170   151500.0             958.0           NaN      1Fam        2   \n",
       "528104050   385000.0            2084.0         114.0      1Fam        2   \n",
       "533206070   193800.0            1565.0          32.0    TwnhsE        2   \n",
       "\n",
       "           Total Full Baths MS Zoning Street Alley Utilities  \n",
       "PID                                                           \n",
       "907227090               1.0        RL   Pave   NaN    AllPub  \n",
       "527108010               3.0        RL   Pave   NaN    AllPub  \n",
       "534275170               1.0        RL   Pave   NaN    AllPub  \n",
       "528104050               3.0        RL   Pave   NaN    AllPub  \n",
       "533206070               3.0        FV   Pave  Pave    AllPub  "
      ]
     },
     "execution_count": 5,
     "metadata": {},
     "output_type": "execute_result"
    }
   ],
   "source": [
    "# Verify the function works as expected before adding to notebook\n",
    "df = load_data()\n",
    "df.head()"
   ]
  },
  {
   "cell_type": "code",
   "execution_count": 6,
   "id": "19ad88d5-597e-4f8e-b9c8-f78346f86785",
   "metadata": {},
   "outputs": [
    {
     "data": {
      "text/html": [
       "<div>\n",
       "<style scoped>\n",
       "    .dataframe tbody tr th:only-of-type {\n",
       "        vertical-align: middle;\n",
       "    }\n",
       "\n",
       "    .dataframe tbody tr th {\n",
       "        vertical-align: top;\n",
       "    }\n",
       "\n",
       "    .dataframe thead th {\n",
       "        text-align: right;\n",
       "    }\n",
       "</style>\n",
       "<table border=\"1\" class=\"dataframe\">\n",
       "  <thead>\n",
       "    <tr style=\"text-align: right;\">\n",
       "      <th></th>\n",
       "      <th>SalePrice</th>\n",
       "      <th>Living Area Sqft</th>\n",
       "      <th>Lot Frontage</th>\n",
       "      <th>Bedroom</th>\n",
       "      <th>Total Full Baths</th>\n",
       "    </tr>\n",
       "  </thead>\n",
       "  <tbody>\n",
       "    <tr>\n",
       "      <th>count</th>\n",
       "      <td>2930.00</td>\n",
       "      <td>2930.00</td>\n",
       "      <td>2440.00</td>\n",
       "      <td>2930.00</td>\n",
       "      <td>2928.00</td>\n",
       "    </tr>\n",
       "    <tr>\n",
       "      <th>mean</th>\n",
       "      <td>180825.07</td>\n",
       "      <td>1499.69</td>\n",
       "      <td>69.22</td>\n",
       "      <td>2.85</td>\n",
       "      <td>2.00</td>\n",
       "    </tr>\n",
       "    <tr>\n",
       "      <th>std</th>\n",
       "      <td>79878.22</td>\n",
       "      <td>505.51</td>\n",
       "      <td>23.37</td>\n",
       "      <td>0.83</td>\n",
       "      <td>0.75</td>\n",
       "    </tr>\n",
       "    <tr>\n",
       "      <th>min</th>\n",
       "      <td>12789.00</td>\n",
       "      <td>334.00</td>\n",
       "      <td>21.00</td>\n",
       "      <td>0.00</td>\n",
       "      <td>0.00</td>\n",
       "    </tr>\n",
       "    <tr>\n",
       "      <th>25%</th>\n",
       "      <td>129500.00</td>\n",
       "      <td>1126.00</td>\n",
       "      <td>58.00</td>\n",
       "      <td>2.00</td>\n",
       "      <td>1.00</td>\n",
       "    </tr>\n",
       "    <tr>\n",
       "      <th>50%</th>\n",
       "      <td>160000.00</td>\n",
       "      <td>1442.00</td>\n",
       "      <td>68.00</td>\n",
       "      <td>3.00</td>\n",
       "      <td>2.00</td>\n",
       "    </tr>\n",
       "    <tr>\n",
       "      <th>75%</th>\n",
       "      <td>213500.00</td>\n",
       "      <td>1742.75</td>\n",
       "      <td>80.00</td>\n",
       "      <td>3.00</td>\n",
       "      <td>2.00</td>\n",
       "    </tr>\n",
       "    <tr>\n",
       "      <th>max</th>\n",
       "      <td>755000.00</td>\n",
       "      <td>5642.00</td>\n",
       "      <td>313.00</td>\n",
       "      <td>8.00</td>\n",
       "      <td>6.00</td>\n",
       "    </tr>\n",
       "  </tbody>\n",
       "</table>\n",
       "</div>"
      ],
      "text/plain": [
       "       SalePrice  Living Area Sqft  Lot Frontage  Bedroom  Total Full Baths\n",
       "count    2930.00           2930.00       2440.00  2930.00           2928.00\n",
       "mean   180825.07           1499.69         69.22     2.85              2.00\n",
       "std     79878.22            505.51         23.37     0.83              0.75\n",
       "min     12789.00            334.00         21.00     0.00              0.00\n",
       "25%    129500.00           1126.00         58.00     2.00              1.00\n",
       "50%    160000.00           1442.00         68.00     3.00              2.00\n",
       "75%    213500.00           1742.75         80.00     3.00              2.00\n",
       "max    755000.00           5642.00        313.00     8.00              6.00"
      ]
     },
     "execution_count": 6,
     "metadata": {},
     "output_type": "execute_result"
    }
   ],
   "source": [
    "# Obtain summary statistics\n",
    "df.describe().round(2)"
   ]
  },
  {
   "cell_type": "code",
   "execution_count": 7,
   "id": "31dc7225-e24b-4735-8bdb-8c0076d319cf",
   "metadata": {},
   "outputs": [
    {
     "name": "stdout",
     "output_type": "stream",
     "text": [
      "<class 'pandas.core.frame.DataFrame'>\n",
      "Int64Index: 2930 entries, 907227090 to 902201120\n",
      "Data columns (total 10 columns):\n",
      " #   Column            Non-Null Count  Dtype  \n",
      "---  ------            --------------  -----  \n",
      " 0   SalePrice         2930 non-null   float64\n",
      " 1   Living Area Sqft  2930 non-null   float64\n",
      " 2   Lot Frontage      2440 non-null   float64\n",
      " 3   Bldg Type         2930 non-null   object \n",
      " 4   Bedroom           2930 non-null   int64  \n",
      " 5   Total Full Baths  2928 non-null   float64\n",
      " 6   MS Zoning         2930 non-null   object \n",
      " 7   Street            2930 non-null   object \n",
      " 8   Alley             198 non-null    object \n",
      " 9   Utilities         2930 non-null   object \n",
      "dtypes: float64(4), int64(1), object(5)\n",
      "memory usage: 251.8+ KB\n"
     ]
    }
   ],
   "source": [
    "# In our notebook we can use df.info() to output our summary info into our console (direclty below the cell)\n",
    "df.info()"
   ]
  },
  {
   "cell_type": "markdown",
   "id": "ee05f110-70eb-4bb0-8618-33a5782e3383",
   "metadata": {},
   "source": [
    "While DataFrame.info() is a method that prints information to the console, Streamlit requires a slightly different approach since we want to display this information in the app. We can capture the info() output with an IO buffer and then display it."
   ]
  },
  {
   "cell_type": "code",
   "execution_count": 8,
   "id": "1105fca0-e223-4475-bae3-7889d724fde3",
   "metadata": {},
   "outputs": [],
   "source": [
    "# Display .info()\n",
    "# In order to display output on our app, we first need to capture it. \n",
    "# We can use an IO buffer to capture the output, then we will use the getvalue() argument to retrive it\n",
    "from io import StringIO\n",
    "# Create a string buffer to capture the content\n",
    "buffer = StringIO()\n",
    "# Write the info into the buffer\n",
    "df.info(buf=buffer)\n",
    "# Retrieve the content from the buffer\n",
    "summary_info = buffer.getvalue()"
   ]
  },
  {
   "cell_type": "markdown",
   "id": "2c1571c5-35d0-4c70-8419-c34815535b94",
   "metadata": {},
   "source": [
    "If we try to display the variable, we will see that it is a string. The output in the Jupyter console does not render the formatting."
   ]
  },
  {
   "cell_type": "code",
   "execution_count": 9,
   "id": "09191691-8cf8-46e1-ab5f-e4939ff968d2",
   "metadata": {},
   "outputs": [
    {
     "data": {
      "text/plain": [
       "\"<class 'pandas.core.frame.DataFrame'>\\nInt64Index: 2930 entries, 907227090 to 902201120\\nData columns (total 10 columns):\\n #   Column            Non-Null Count  Dtype  \\n---  ------            --------------  -----  \\n 0   SalePrice         2930 non-null   float64\\n 1   Living Area Sqft  2930 non-null   float64\\n 2   Lot Frontage      2440 non-null   float64\\n 3   Bldg Type         2930 non-null   object \\n 4   Bedroom           2930 non-null   int64  \\n 5   Total Full Baths  2928 non-null   float64\\n 6   MS Zoning         2930 non-null   object \\n 7   Street            2930 non-null   object \\n 8   Alley             198 non-null    object \\n 9   Utilities         2930 non-null   object \\ndtypes: float64(4), int64(1), object(5)\\nmemory usage: 251.8+ KB\\n\""
      ]
     },
     "execution_count": 9,
     "metadata": {},
     "output_type": "execute_result"
    }
   ],
   "source": [
    "# What the output looks like in the console\n",
    "summary_info"
   ]
  },
  {
   "cell_type": "markdown",
   "id": "3f69fd52-1904-4eb9-b051-cf6afbe221bc",
   "metadata": {},
   "source": [
    "It will render as expected when we use st.text() to display it on our app."
   ]
  },
  {
   "cell_type": "markdown",
   "id": "b6ef1111-6ac0-4d42-8bd6-f26cbc76399c",
   "metadata": {},
   "source": [
    "### Displaying Null Value Output (.isna().sum())"
   ]
  },
  {
   "cell_type": "code",
   "execution_count": 11,
   "id": "9bc528c8-6c1c-41b1-87e8-5bc6f30feb83",
   "metadata": {},
   "outputs": [
    {
     "data": {
      "text/plain": [
       "SalePrice              0\n",
       "Living Area Sqft       0\n",
       "Lot Frontage         490\n",
       "Bldg Type              0\n",
       "Bedroom                0\n",
       "Total Full Baths       2\n",
       "MS Zoning              0\n",
       "Street                 0\n",
       "Alley               2732\n",
       "Utilities              0\n",
       "dtype: int64"
      ]
     },
     "execution_count": 11,
     "metadata": {},
     "output_type": "execute_result"
    }
   ],
   "source": [
    "# First check results in notebook\n",
    "# Displaying null values\n",
    "nulls =df.isna().sum()\n",
    "nulls"
   ]
  },
  {
   "cell_type": "code",
   "execution_count": 12,
   "id": "21102de1-7839-4e5f-8f10-3e2298239122",
   "metadata": {},
   "outputs": [
    {
     "data": {
      "text/plain": [
       "pandas.core.series.Series"
      ]
     },
     "execution_count": 12,
     "metadata": {},
     "output_type": "execute_result"
    }
   ],
   "source": [
    "# Check data type\n",
    "type(nulls)"
   ]
  },
  {
   "cell_type": "markdown",
   "id": "1c243521-eb28-469b-846e-670f7210ad71",
   "metadata": {},
   "source": [
    "We have a few options for how we choose to display a series.\r\n",
    "\r\n",
    "Option 1: Display as a dataframe using st.dataframe()\r\n",
    "\r\n",
    "Option 2: Display as a string using the io buffer\r\n",
    "\r\n",
    "We demonstrate both options in the code below."
   ]
  },
  {
   "cell_type": "code",
   "execution_count": 15,
   "id": "4883d12e-a2cf-40cf-973d-17de120ca039",
   "metadata": {},
   "outputs": [
    {
     "name": "stderr",
     "output_type": "stream",
     "text": [
      "2024-02-17 14:50:20.446 \n",
      "  \u001b[33m\u001b[1mWarning:\u001b[0m to view this Streamlit app on a browser, run it with the following\n",
      "  command:\n",
      "\n",
      "    streamlit run C:\\Users\\Malue\\anaconda3\\envs\\dojo-env\\lib\\site-packages\\ipykernel_launcher.py [ARGUMENTS]\n"
     ]
    },
    {
     "data": {
      "text/plain": [
       "DeltaGenerator()"
      ]
     },
     "execution_count": 15,
     "metadata": {},
     "output_type": "execute_result"
    }
   ],
   "source": [
    "# We could display the output series as a dataframe\n",
    "st.markdown(\"#### Null Values as dataframe\")\n",
    "nulls =df.isna().sum()\n",
    "st.dataframe(nulls)\n",
    "# Create a string buffer to capture the content\n",
    "buffer = StringIO()\n",
    "# Write the content into the buffer...use to_string\n",
    "df.isna().sum().to_string(buffer)\n",
    "# Retrieve the content from the buffer\n",
    "null_values = buffer.getvalue()\n",
    "# Use Streamlit to display the info\n",
    "st.markdown(\"#### Null Values as String\")\n",
    "st.text(null_values)"
   ]
  },
  {
   "cell_type": "markdown",
   "id": "78161f1c-4616-4ce2-a78a-0fcafb84a634",
   "metadata": {},
   "source": [
    "### Summary"
   ]
  },
  {
   "cell_type": "markdown",
   "id": "70dfbd36-0eef-4068-87ab-9a68c4881a73",
   "metadata": {},
   "source": [
    "In this lesson, you learned how to functionalize the loading of your data and how to add a caching decorator to the function to improve your app's performance. Streamlit's dataframe widget is interactive. You also learned how to capture and display output using an IO buffer. In the next lesson, we will display plots and add interactivity to our EDA app."
   ]
  }
 ],
 "metadata": {
  "kernelspec": {
   "display_name": "Python 3 (ipykernel)",
   "language": "python",
   "name": "python3"
  },
  "language_info": {
   "codemirror_mode": {
    "name": "ipython",
    "version": 3
   },
   "file_extension": ".py",
   "mimetype": "text/x-python",
   "name": "python",
   "nbconvert_exporter": "python",
   "pygments_lexer": "ipython3",
   "version": "3.10.10"
  },
  "widgets": {
   "application/vnd.jupyter.widget-state+json": {
    "state": {},
    "version_major": 2,
    "version_minor": 0
   }
  }
 },
 "nbformat": 4,
 "nbformat_minor": 5
}
