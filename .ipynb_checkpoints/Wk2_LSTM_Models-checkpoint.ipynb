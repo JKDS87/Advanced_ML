{
 "cells": [
  {
   "cell_type": "markdown",
   "id": "781862e1-b337-4be5-bf6f-108cc5bb69c6",
   "metadata": {},
   "source": [
    "# RNNs: LSTM Models"
   ]
  },
  {
   "cell_type": "code",
   "execution_count": null,
   "id": "35a3d12e-4d81-44ba-a9cd-80ff3ab2bd1b",
   "metadata": {},
   "outputs": [],
   "source": []
  },
  {
   "cell_type": "code",
   "execution_count": null,
   "id": "0248a0c1-6c59-498d-a3e9-225de87f8dde",
   "metadata": {},
   "outputs": [],
   "source": []
  },
  {
   "cell_type": "markdown",
   "id": "56e9a326-3a35-4a94-9e1b-68ac28a77815",
   "metadata": {},
   "source": [
    "### Load and Prepare Data"
   ]
  },
  {
   "cell_type": "code",
   "execution_count": 22,
   "id": "b20be3ac-a6f3-4e5a-81e1-22ce55a119e9",
   "metadata": {},
   "outputs": [],
   "source": [
    "import tensorflow as tf\n",
    "import numpy as np\n",
    "# Then Set Random Seeds\n",
    "tf.keras.utils.set_random_seed(42)\n",
    "tf.random.set_seed(42)\n",
    "np.random.seed(42)\n",
    "# Then run the Enable Deterministic Operations Function\n",
    "tf.config.experimental.enable_op_determinism()"
   ]
  },
  {
   "cell_type": "code",
   "execution_count": 23,
   "id": "de50b14b-ac19-4dab-944a-f5f23fc79198",
   "metadata": {},
   "outputs": [],
   "source": [
    "import pandas as pd\n",
    "from tensorflow.keras.layers import TextVectorization\n",
    "from tensorflow.keras import layers\n",
    "from tensorflow.keras import optimizers\n",
    "from imblearn.under_sampling import RandomUnderSampler\n",
    "from sklearn import set_config\n",
    "set_config(transform_output='pandas')\n",
    "pd.set_option('display.max_colwidth', 250)"
   ]
  },
  {
   "cell_type": "code",
   "execution_count": 24,
   "id": "218c019e-ebdb-495a-a690-ad5790e00393",
   "metadata": {},
   "outputs": [
    {
     "name": "stdout",
     "output_type": "stream",
     "text": [
      "The autoreload extension is already loaded. To reload it, use:\n",
      "  %reload_ext autoreload\n"
     ]
    }
   ],
   "source": [
    "## Load the autoreload extension\n",
    "%load_ext autoreload \n",
    "%autoreload 2\n",
    "\n",
    "import custom_functions as fn"
   ]
  },
  {
   "cell_type": "code",
   "execution_count": 25,
   "id": "5a6b871c-fc6a-4b5b-86b7-a7284cd6f7ee",
   "metadata": {},
   "outputs": [
    {
     "data": {
      "text/plain": [
       "array([0, 1, 2], dtype=int64)"
      ]
     },
     "execution_count": 25,
     "metadata": {},
     "output_type": "execute_result"
    }
   ],
   "source": [
    "# Load Data from your path\n",
    "df = pd.read_csv(\"Data/yelp-restaurant-reviews-CA-2015-2018.csv.gz\", index_col = 'date', parse_dates=['date'])\n",
    "## Remove any non-english reviews\n",
    "df = df.loc[ df['language']=='en'].copy()\n",
    "# Keep only 1,3,5 star reviews\n",
    "df = df.loc[ df['stars'].isin([1,3,5])]\n",
    "# Take a smaller subset\n",
    "df = df.loc['2018']\n",
    "# Set the index\n",
    "df = df.set_index('review_id')\n",
    "# We will split on each space, and then get the length\n",
    "df['sequence_length'] =df['text'].map( lambda x: len(x.split(\" \")))\n",
    "# Define a filter to identify reviews less than 400 words\n",
    "filter_short = df['sequence_length']< 400\n",
    "# Keep short reviews (<400 words)\n",
    "df=  df.loc[filter_short]\n",
    "# Use RUS to reduce n to match minority group\n",
    "sampler = RandomUnderSampler(random_state=42)\n",
    "df_ml,  _ = sampler.fit_resample(df, df['stars'])\n",
    "df_ml['stars'].value_counts()\n",
    "# Define X\n",
    "X = df_ml['text'].values\n",
    "# Create a map for targets\n",
    "target_map = {1:0,\n",
    "              3:1,\n",
    "              5:2}\n",
    "# Define y and apply the target_map\n",
    "y = df_ml['stars'].map(target_map)\n",
    "# Define classes variable\n",
    "classes = y.unique()\n",
    "classes"
   ]
  },
  {
   "cell_type": "markdown",
   "id": "ba71c969-9142-41dd-884a-bbcddda79462",
   "metadata": {},
   "source": [
    "We have filtered the data and defined X and y. These are the same data preparation steps we did in the previous lesson with Bag of Words Models. To review it step by step, please refer to that lesson.\n",
    "\n",
    "**Convert to Dataset Object**"
   ]
  },
  {
   "cell_type": "code",
   "execution_count": 26,
   "id": "331cabc9-8879-470f-baff-e388f025683a",
   "metadata": {},
   "outputs": [],
   "source": [
    "# Convert to Dataset Object\n",
    "ds = tf.data.Dataset.from_tensor_slices((X, y))\n",
    "# Shuffle dataset\n",
    "ds = ds.shuffle(buffer_size=len(ds),reshuffle_each_iteration=False)"
   ]
  },
  {
   "cell_type": "markdown",
   "id": "2dee315d-85af-449d-b4a1-c0a0ad37d111",
   "metadata": {},
   "source": [
    "**Train Test Split**\n",
    "\n",
    "We will define the train, validation, test ratio as 70/20/10.\n",
    "\n",
    "We will establish how many samples are required to achieve each percentage. Then we will define a batch size of 32 to determine how many batches are needed. Since we need to round up for the number of batches we will use math.ceil(). We include print statements to clarify the number of samples and batches in each set."
   ]
  },
  {
   "cell_type": "code",
   "execution_count": 27,
   "id": "15bc0db5-412f-41cf-85ea-eb42e9be58ec",
   "metadata": {},
   "outputs": [
    {
     "name": "stdout",
     "output_type": "stream",
     "text": [
      "    - train:\t3880 samples \t(122 batches)\n",
      "    - val:  \t1108 samples \t(35 batches)\n",
      "    - test: \t556 samples \t(18 batches)\n"
     ]
    }
   ],
   "source": [
    "# Set the ratio of the train, validation, test split\n",
    "split_train = .7\n",
    "split_val =  .2\n",
    "split_test =  1 -( split_train + split_val )\n",
    "# Calculate the number of samples for training and validation data \n",
    "n_train_samples =  int(len(ds) * split_train)\n",
    "n_val_samples = int(len(ds) * split_val)\n",
    "n_test_samples = len(ds) -(n_train_samples + n_val_samples)\n",
    "# Set the batch size\n",
    "BATCH_SIZE =32\n",
    "import math\n",
    "# math.ceil will round up\n",
    "# How many batches? \n",
    "n_train_batches = math.ceil(n_train_samples/BATCH_SIZE)\n",
    "n_val_batches = math.ceil(n_val_samples/BATCH_SIZE)\n",
    "n_test_batches = math.ceil(n_test_samples/BATCH_SIZE)\n",
    "print(f\"    - train:\\t{n_train_samples} samples \\t({n_train_batches} batches)\")\n",
    "print(f\"    - val:  \\t{n_val_samples} samples \\t({n_val_batches} batches)\")\n",
    "print(f\"    - test: \\t{n_test_samples} samples \\t({n_test_batches} batches)\")"
   ]
  },
  {
   "cell_type": "markdown",
   "id": "8afb2039-fd42-45e6-87b5-dcdfa897b7ae",
   "metadata": {},
   "source": [
    "Now that we have defined how many samples for each set, we will use the take-and-skip method to separate the data."
   ]
  },
  {
   "cell_type": "code",
   "execution_count": 28,
   "id": "4f5b8090-185c-433d-9d03-370027afd414",
   "metadata": {},
   "outputs": [],
   "source": [
    "# Use take and skip to define each set\n",
    "train_ds = ds.take(n_train_samples).batch(batch_size=BATCH_SIZE)\n",
    "# Skip over the training batches and take the validation batches\n",
    "val_ds = ds.skip(n_train_samples).take(n_val_samples).batch(batch_size=BATCH_SIZE)\n",
    "# Skipver the train and validation batches, the remaining are the test batches\n",
    "test_ds = ds.skip(n_train_samples + n_val_samples).batch(batch_size=BATCH_SIZE)"
   ]
  },
  {
   "cell_type": "markdown",
   "id": "4169a2a8-b7d4-45c9-8d7b-9d72ad08f072",
   "metadata": {},
   "source": [
    "We can confirm the length of each set, keeping in mind that this value will be the number of batches."
   ]
  },
  {
   "cell_type": "code",
   "execution_count": 29,
   "id": "bbc560fd-9fab-41c3-9e9a-c82f1a4f6530",
   "metadata": {},
   "outputs": [
    {
     "name": "stdout",
     "output_type": "stream",
     "text": [
      " There are 122 training batches.\n",
      " There are 35 validation batches.\n",
      " There are 18 testing batches.\n"
     ]
    }
   ],
   "source": [
    "# Confirm the number of batches in each\n",
    "print (f' There are {len(train_ds)} training batches.')\n",
    "print (f' There are {len(val_ds)} validation batches.')\n",
    "print (f' There are {len(test_ds)} testing batches.')"
   ]
  },
  {
   "cell_type": "markdown",
   "id": "eae70880-d059-4458-808c-1b0e020970df",
   "metadata": {},
   "source": [
    "### Creating Sequences with the TextVectorization Layer"
   ]
  },
  {
   "cell_type": "markdown",
   "id": "f7c6fe46-858e-4ca1-8add-3046b7d8fdbf",
   "metadata": {},
   "source": [
    "We can create sequences using the same TextVectorization layer as previous lessons. However, we must use output_mode='int' to create sequences.\n",
    "\n",
    "**Selecting a Sequence Size**\n",
    "\n",
    "To ensure that all text sequences have the same length, we will set the output_sequence_length appropriate for our texts. The output will be padded or truncated to this length. The sequence length used can vary depending on a few factors, such as the complexity of your task, the computational resources available, and the architecture of your model. However, here are some general guidelines:\n",
    "- **Short sequences**: Lengths like 50-100 tokens are relatively short and typically easier to model. They are common in tasks like sentiment analysis.\n",
    "- **Medium sequences**: 100-500 tokens could be considered medium length. You'll find these in tasks like document classification, summarization, or machine translation of shorter sentences.\n",
    "- **Long sequences**: 500-1000+ tokens start to be long and can become computationally expensive or challenging for models to handle effectively. You'll find these in tasks like summarizing very long documents or language modeling of entire articles.\n",
    "- **Very Long sequences**: Lengths above 1000 are usually considered very long and are often difficult to model without specialized techniques like attention mechanisms or model architectures designed for long sequences. These might be used in tasks like genome sequence analysis or extremely detailed document summarization.\n"
   ]
  },
  {
   "cell_type": "markdown",
   "id": "eab6aeff-f976-4be1-b282-b9bb085472b5",
   "metadata": {},
   "source": [
    "**Considerations**\n",
    "- **Memory**: Longer sequences require exponentially more memory. For example, a sequence length of 800 could require significantly more memory than a sequence length of 400.\n",
    "- **Computational Time**: Longer sequences usually mean longer training and inference times.\n",
    "- **Gradient Problems**: Traditional RNNs and LSTMs tend to struggle with very long sequences due to issues like vanishing or exploding gradients. More modern architectures like Transformers or techniques like gradient clipping can help.\n",
    "- **Quality**: The quality of the model's predictions can decrease for very long sequences if the architecture isn't designed to handle them.\n",
    "- **Hardware**: If you're running your model on a machine with limited RAM (even with a good GPU), you'll need to be extra cautious with sequence length."
   ]
  },
  {
   "cell_type": "code",
   "execution_count": 30,
   "id": "341de3c8-f270-4cb7-b444-683a5cd8fd2c",
   "metadata": {},
   "outputs": [
    {
     "name": "stdout",
     "output_type": "stream",
     "text": [
      "WARNING:tensorflow:AutoGraph could not transform <function make_text_vectorization_layer.<locals>.<lambda> at 0x00000195AAD3E0E0> and will run it as-is.\n",
      "Cause: could not parse the source code of <function make_text_vectorization_layer.<locals>.<lambda> at 0x00000195AAD3E0E0>: no matching AST found among candidates:\n",
      "# coding=utf-8\n",
      "lambda x, y: x\n",
      "To silence this warning, decorate the function with @tf.autograph.experimental.do_not_convert\n",
      "WARNING: AutoGraph could not transform <function make_text_vectorization_layer.<locals>.<lambda> at 0x00000195AAD3E0E0> and will run it as-is.\n",
      "Cause: could not parse the source code of <function make_text_vectorization_layer.<locals>.<lambda> at 0x00000195AAD3E0E0>: no matching AST found among candidates:\n",
      "# coding=utf-8\n",
      "lambda x, y: x\n",
      "To silence this warning, decorate the function with @tf.autograph.experimental.do_not_convert\n",
      "\n",
      "tf.keras.layers.TextVectorization(\n",
      "{   'batch_input_shape': (None,),\n",
      "    'dtype': 'string',\n",
      "    'encoding': 'utf-8',\n",
      "    'idf_weights': None,\n",
      "    'max_tokens': None,\n",
      "    'name': 'text_vectorization_3',\n",
      "    'ngrams': None,\n",
      "    'output_mode': 'int',\n",
      "    'output_sequence_length': 400,\n",
      "    'pad_to_max_tokens': False,\n",
      "    'ragged': False,\n",
      "    'sparse': False,\n",
      "    'split': 'whitespace',\n",
      "    'standardize': 'lower_and_strip_punctuation',\n",
      "    'trainable': True,\n",
      "    'vocabulary': None,\n",
      "    'vocabulary_size': 13461}\n",
      ")\n"
     ]
    }
   ],
   "source": [
    "# Define variables for future use\n",
    "SEQUENCE_LENGTH = 400\n",
    "EMBED_DIM = 100\n",
    "# Define vectorizer layer. Use the custom function to build and fit the vectorizer before using it in model\n",
    "sequence_vectorizer, vocab_lookup = fn.make_text_vectorization_layer(train_ds, output_mode='int', output_sequence_length = SEQUENCE_LENGTH, verbose=True)"
   ]
  },
  {
   "cell_type": "markdown",
   "id": "4a846128-9755-4541-a1f9-05dc3dc0683a",
   "metadata": {},
   "source": [
    "Remember that our custom function creates the layer and adapts it to the text of the training dataset."
   ]
  },
  {
   "cell_type": "code",
   "execution_count": 31,
   "id": "83afa82c-c565-4df5-aa83-bec9be11cbf2",
   "metadata": {},
   "outputs": [
    {
     "data": {
      "text/plain": [
       "13461"
      ]
     },
     "execution_count": 31,
     "metadata": {},
     "output_type": "execute_result"
    }
   ],
   "source": [
    "# Check the size of the vocabulary\n",
    "VOCAB_SIZE = len(sequence_vectorizer.get_vocabulary())\n",
    "VOCAB_SIZE"
   ]
  },
  {
   "cell_type": "markdown",
   "id": "66e980ba-3e43-4970-a83c-66d0e9f6f4fb",
   "metadata": {},
   "source": [
    "Alternatively, we could obtain the size of the vocabulary directly using .vocabulary_size()"
   ]
  },
  {
   "cell_type": "code",
   "execution_count": 32,
   "id": "5f30c85b-fc17-4d35-b309-94d7088201f4",
   "metadata": {},
   "outputs": [
    {
     "data": {
      "text/plain": [
       "13461"
      ]
     },
     "execution_count": 32,
     "metadata": {},
     "output_type": "execute_result"
    }
   ],
   "source": [
    "# Get the size of the vocabulary\n",
    "VOCAB_SIZE = sequence_vectorizer.vocabulary_size()\n",
    "VOCAB_SIZE"
   ]
  },
  {
   "cell_type": "markdown",
   "id": "69e498bc-b956-430e-9085-27d6eb7176c3",
   "metadata": {},
   "source": [
    "### Define and Build an LSTM Model"
   ]
  },
  {
   "cell_type": "markdown",
   "id": "f8749ad3-f8ac-4b48-ad77-3d2bf439e2c7",
   "metadata": {},
   "source": [
    "**Hyperparameters**\n",
    "\n",
    "1. Recurrent Activation Function: The activation function to use for the recurrent step. Usually, sigmoid is used\n",
    "2. Return Sequences: Whether to return the last output in the output sequence, or the full sequence. Set this to True if stacking LSTM layers\n",
    "3. Return State: Whether to return the last state in addition to the output\n",
    "4. Stateful: If True, the last state for each sample at index i in a batch will be used as initial state for the sample of index i in the following batch\n",
    "5. Unroll: Whether the network will be unrolled, i.e., whether a fixed-size loop should be used for implementing the recurrent layer. This can speed up computations but might use more memory\n",
    "\n",
    "We will build the model starting with the pre-trained vectorization layer and the new embedding layer. Note that when we have increased the learning rate for the optimizer to 0.01 from the default of .001."
   ]
  },
  {
   "cell_type": "code",
   "execution_count": 33,
   "id": "2e40b703-6667-4aaa-8595-994750603d61",
   "metadata": {},
   "outputs": [],
   "source": [
    "# Define a function for building an LSTM model\n",
    "from tensorflow.keras.models import Sequential\n",
    "from tensorflow.keras import layers, optimizers, regularizers\n",
    "def build_lstm_model(text_vectorization_layer):\n",
    "    \n",
    "    # Define sequential model with pre-trained vectorization layer and *new* embedding layer\n",
    "    lstm_model = Sequential([\n",
    "        text_vectorization_layer,\n",
    "        layers.Embedding(input_dim=VOCAB_SIZE,\n",
    "                                  output_dim=EMBED_DIM, \n",
    "                                  input_length=SEQUENCE_LENGTH)\n",
    "        ])\n",
    "        \n",
    "    # Add *new* LSTM layer\n",
    "    lstm_model.add(layers.LSTM(128))\n",
    "    # Add output layer\n",
    "    lstm_model.add(layers.Dense(len(classes), activation='softmax'))\n",
    " \n",
    "    # Compile the model\n",
    "    lstm_model.compile(optimizer=optimizers.legacy.Adam(learning_rate = .01), \n",
    "                  loss='sparse_categorical_crossentropy', \n",
    "                  metrics=['accuracy'])\n",
    "    \n",
    "    lstm_model.summary()\n",
    "    return lstm_model"
   ]
  },
  {
   "cell_type": "code",
   "execution_count": 34,
   "id": "8095fbe9-6fc2-4037-afa1-7634eef05c16",
   "metadata": {},
   "outputs": [],
   "source": [
    "# Include callbacks\n",
    "def get_callbacks(patience=3, monitor='val_accuracy'):\n",
    "    early_stop = tf.keras.callbacks.EarlyStopping(patience=patience, monitor=monitor)\n",
    "    return [early_stop]"
   ]
  },
  {
   "cell_type": "markdown",
   "id": "caf1e7bc-063a-498b-b840-f95189a9a0e8",
   "metadata": {},
   "source": [
    "Now, we will build, fit, and, evaluate the model."
   ]
  },
  {
   "cell_type": "code",
   "execution_count": 35,
   "id": "97f87cdf-68bc-40e4-bcd7-c2fc9eb6b629",
   "metadata": {},
   "outputs": [
    {
     "name": "stdout",
     "output_type": "stream",
     "text": [
      "Model: \"sequential_1\"\n",
      "_________________________________________________________________\n",
      " Layer (type)                Output Shape              Param #   \n",
      "=================================================================\n",
      " text_vectorization_3 (TextV  (None, 400)              0         \n",
      " ectorization)                                                   \n",
      "                                                                 \n",
      " embedding_1 (Embedding)     (None, 400, 100)          1346100   \n",
      "                                                                 \n",
      " lstm_1 (LSTM)               (None, 128)               117248    \n",
      "                                                                 \n",
      " dense_1 (Dense)             (None, 3)                 387       \n",
      "                                                                 \n",
      "=================================================================\n",
      "Total params: 1,463,735\n",
      "Trainable params: 1,463,735\n",
      "Non-trainable params: 0\n",
      "_________________________________________________________________\n",
      "Epoch 1/30\n",
      "122/122 [==============================] - 32s 246ms/step - loss: 1.1020 - accuracy: 0.3168 - val_loss: 1.0996 - val_accuracy: 0.3204\n",
      "Epoch 2/30\n",
      "122/122 [==============================] - 30s 248ms/step - loss: 1.0994 - accuracy: 0.3227 - val_loss: 1.0997 - val_accuracy: 0.3204\n",
      "Epoch 3/30\n",
      "122/122 [==============================] - 30s 243ms/step - loss: 1.0995 - accuracy: 0.3281 - val_loss: 1.0998 - val_accuracy: 0.3204\n",
      "Epoch 4/30\n",
      "122/122 [==============================] - 29s 242ms/step - loss: 1.0995 - accuracy: 0.3222 - val_loss: 1.0995 - val_accuracy: 0.3204\n"
     ]
    },
    {
     "data": {
      "image/png": "[encoded data removed]",
      "text/plain": [
       "<Figure size 600x600 with 2 Axes>"
      ]
     },
     "metadata": {},
     "output_type": "display_data"
    },
    {
     "name": "stdout",
     "output_type": "stream",
     "text": [
      "\n",
      "================================================================================\n",
      "- Evaluating Network...\n",
      "================================================================================\n"
     ]
    },
    {
     "name": "stderr",
     "output_type": "stream",
     "text": [
      "C:\\Users\\Malue\\anaconda3\\envs\\dojo-env\\lib\\site-packages\\sklearn\\metrics\\_classification.py:1344: UndefinedMetricWarning: Precision and F-score are ill-defined and being set to 0.0 in labels with no predicted samples. Use `zero_division` parameter to control this behavior.\n",
      "  _warn_prf(average, modifier, msg_start, len(result))\n",
      "C:\\Users\\Malue\\anaconda3\\envs\\dojo-env\\lib\\site-packages\\sklearn\\metrics\\_classification.py:1344: UndefinedMetricWarning: Precision and F-score are ill-defined and being set to 0.0 in labels with no predicted samples. Use `zero_division` parameter to control this behavior.\n",
      "  _warn_prf(average, modifier, msg_start, len(result))\n",
      "C:\\Users\\Malue\\anaconda3\\envs\\dojo-env\\lib\\site-packages\\sklearn\\metrics\\_classification.py:1344: UndefinedMetricWarning: Precision and F-score are ill-defined and being set to 0.0 in labels with no predicted samples. Use `zero_division` parameter to control this behavior.\n",
      "  _warn_prf(average, modifier, msg_start, len(result))\n"
     ]
    },
    {
     "name": "stdout",
     "output_type": "stream",
     "text": [
      "----------------------------------------------------------------------\n",
      " Classification Metrics: Training Data\n",
      "----------------------------------------------------------------------\n",
      "              precision    recall  f1-score   support\n",
      "\n",
      "           0       0.00      0.00      0.00      1274\n",
      "           1       0.00      0.00      0.00      1283\n",
      "           2       0.34      1.00      0.51      1323\n",
      "\n",
      "    accuracy                           0.34      3880\n",
      "   macro avg       0.11      0.33      0.17      3880\n",
      "weighted avg       0.12      0.34      0.17      3880\n",
      "\n"
     ]
    },
    {
     "data": {
      "image/png": "[encoded data removed]",
      "text/plain": [
       "<Figure size 600x400 with 2 Axes>"
      ]
     },
     "metadata": {},
     "output_type": "display_data"
    },
    {
     "name": "stdout",
     "output_type": "stream",
     "text": [
      "\n",
      "- Evaluating Training Data:\n",
      "  2/122 [..............................] - ETA: 8s - loss: 1.0970 - accuracy: 0.3906 "
     ]
    },
    {
     "name": "stderr",
     "output_type": "stream",
     "text": [
      "C:\\Users\\Malue\\anaconda3\\envs\\dojo-env\\lib\\site-packages\\sklearn\\metrics\\_classification.py:1344: UndefinedMetricWarning: Precision and F-score are ill-defined and being set to 0.0 in labels with no predicted samples. Use `zero_division` parameter to control this behavior.\n",
      "  _warn_prf(average, modifier, msg_start, len(result))\n",
      "C:\\Users\\Malue\\anaconda3\\envs\\dojo-env\\lib\\site-packages\\sklearn\\metrics\\_classification.py:1344: UndefinedMetricWarning: Precision and F-score are ill-defined and being set to 0.0 in labels with no predicted samples. Use `zero_division` parameter to control this behavior.\n",
      "  _warn_prf(average, modifier, msg_start, len(result))\n",
      "C:\\Users\\Malue\\anaconda3\\envs\\dojo-env\\lib\\site-packages\\sklearn\\metrics\\_classification.py:1344: UndefinedMetricWarning: Precision and F-score are ill-defined and being set to 0.0 in labels with no predicted samples. Use `zero_division` parameter to control this behavior.\n",
      "  _warn_prf(average, modifier, msg_start, len(result))\n"
     ]
    },
    {
     "name": "stdout",
     "output_type": "stream",
     "text": [
      "122/122 [==============================] - 9s 71ms/step - loss: 1.0986 - accuracy: 0.3410\n",
      "{'loss': 1.0985822677612305, 'accuracy': 0.34097936749458313}\n",
      "----------------------------------------------------------------------\n",
      " Classification Metrics: Test Data\n",
      "----------------------------------------------------------------------\n",
      "              precision    recall  f1-score   support\n",
      "\n",
      "           0       0.00      0.00      0.00       195\n",
      "           1       0.00      0.00      0.00       191\n",
      "           2       0.31      1.00      0.47       170\n",
      "\n",
      "    accuracy                           0.31       556\n",
      "   macro avg       0.10      0.33      0.16       556\n",
      "weighted avg       0.09      0.31      0.14       556\n",
      "\n"
     ]
    },
    {
     "name": "stderr",
     "output_type": "stream",
     "text": [
      "C:\\Users\\Malue\\anaconda3\\envs\\dojo-env\\lib\\site-packages\\sklearn\\metrics\\_classification.py:1344: UndefinedMetricWarning: Precision and F-score are ill-defined and being set to 0.0 in labels with no predicted samples. Use `zero_division` parameter to control this behavior.\n",
      "  _warn_prf(average, modifier, msg_start, len(result))\n",
      "C:\\Users\\Malue\\anaconda3\\envs\\dojo-env\\lib\\site-packages\\sklearn\\metrics\\_classification.py:1344: UndefinedMetricWarning: Precision and F-score are ill-defined and being set to 0.0 in labels with no predicted samples. Use `zero_division` parameter to control this behavior.\n",
      "  _warn_prf(average, modifier, msg_start, len(result))\n",
      "C:\\Users\\Malue\\anaconda3\\envs\\dojo-env\\lib\\site-packages\\sklearn\\metrics\\_classification.py:1344: UndefinedMetricWarning: Precision and F-score are ill-defined and being set to 0.0 in labels with no predicted samples. Use `zero_division` parameter to control this behavior.\n",
      "  _warn_prf(average, modifier, msg_start, len(result))\n"
     ]
    },
    {
     "data": {
      "image/png": "[encoded data removed]",
      "text/plain": [
       "<Figure size 600x400 with 2 Axes>"
      ]
     },
     "metadata": {},
     "output_type": "display_data"
    },
    {
     "name": "stdout",
     "output_type": "stream",
     "text": [
      "\n",
      "- Evaluating Test Data:\n",
      " 2/18 [==>...........................] - ETA: 1s - loss: 1.1025 - accuracy: 0.2656"
     ]
    },
    {
     "name": "stderr",
     "output_type": "stream",
     "text": [
      "C:\\Users\\Malue\\anaconda3\\envs\\dojo-env\\lib\\site-packages\\sklearn\\metrics\\_classification.py:1344: UndefinedMetricWarning: Precision and F-score are ill-defined and being set to 0.0 in labels with no predicted samples. Use `zero_division` parameter to control this behavior.\n",
      "  _warn_prf(average, modifier, msg_start, len(result))\n",
      "C:\\Users\\Malue\\anaconda3\\envs\\dojo-env\\lib\\site-packages\\sklearn\\metrics\\_classification.py:1344: UndefinedMetricWarning: Precision and F-score are ill-defined and being set to 0.0 in labels with no predicted samples. Use `zero_division` parameter to control this behavior.\n",
      "  _warn_prf(average, modifier, msg_start, len(result))\n",
      "C:\\Users\\Malue\\anaconda3\\envs\\dojo-env\\lib\\site-packages\\sklearn\\metrics\\_classification.py:1344: UndefinedMetricWarning: Precision and F-score are ill-defined and being set to 0.0 in labels with no predicted samples. Use `zero_division` parameter to control this behavior.\n",
      "  _warn_prf(average, modifier, msg_start, len(result))\n"
     ]
    },
    {
     "name": "stdout",
     "output_type": "stream",
     "text": [
      "18/18 [==============================] - 1s 70ms/step - loss: 1.1002 - accuracy: 0.3058\n",
      "{'loss': 1.1002449989318848, 'accuracy': 0.3057554066181183}\n"
     ]
    }
   ],
   "source": [
    "# Build the lstm model and specify the vectorizer\n",
    "lstm_model = build_lstm_model(sequence_vectorizer)\n",
    "# Defien number of epocs\n",
    "EPOCHS = 30\n",
    "# Fit the model\n",
    "history = lstm_model.fit(\n",
    "    train_ds,\n",
    "    epochs=EPOCHS,\n",
    "    validation_data=val_ds,\n",
    "    callbacks=get_callbacks(),\n",
    ")\n",
    "# Obtain the results\n",
    "results = fn.evaluate_classification_network(\n",
    "    lstm_model, X_train=train_ds, \n",
    "    X_test=test_ds, history=history\n",
    ");"
   ]
  },
  {
   "cell_type": "markdown",
   "id": "32f65ed0-3572-4b87-a8af-63c1d70ab2fc",
   "metadata": {},
   "source": [
    "### Summary"
   ]
  },
  {
   "cell_type": "markdown",
   "id": "94802931-5627-4f84-84a3-a2d3088af6ff",
   "metadata": {},
   "source": [
    "This lesson introduced RNNs. After defining and training a text vectorization layer, the next step is designing the embedding layer that will map each integer to a vector that captures the \"meaning\" of the word. Next, there are several options for the type of RNN layer. We started here with an LSTM layer. The model must conclude with an output layer, as we have seen in previous neural networks. We will explore other types of RNNs in upcoming lessons."
   ]
  }
 ],
 "metadata": {
  "kernelspec": {
   "display_name": "Python 3 (ipykernel)",
   "language": "python",
   "name": "python3"
  },
  "language_info": {
   "codemirror_mode": {
    "name": "ipython",
    "version": 3
   },
   "file_extension": ".py",
   "mimetype": "text/x-python",
   "name": "python",
   "nbconvert_exporter": "python",
   "pygments_lexer": "ipython3",
   "version": "3.10.10"
  },
  "widgets": {
   "application/vnd.jupyter.widget-state+json": {
    "state": {},
    "version_major": 2,
    "version_minor": 0
   }
  }
 },
 "nbformat": 4,
 "nbformat_minor": 5
}
